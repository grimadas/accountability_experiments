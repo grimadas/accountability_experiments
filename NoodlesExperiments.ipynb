{
 "cells": [
  {
   "cell_type": "markdown",
   "metadata": {},
   "source": [
    "## Smart detection with blocks knowledge "
   ]
  },
  {
   "cell_type": "code",
   "execution_count": 7,
   "metadata": {},
   "outputs": [],
   "source": [
    "%matplotlib inline\n",
    "import csv\n",
    "import networkx as nx\n",
    "import matplotlib.pyplot as plt\n",
    "import itertools\n",
    "import collections\n",
    "import numpy as np"
   ]
  },
  {
   "cell_type": "markdown",
   "metadata": {},
   "source": [
    "### Analysis of Trustchain Database"
   ]
  },
  {
   "cell_type": "code",
   "execution_count": 159,
   "metadata": {},
   "outputs": [],
   "source": [
    "tx_store = {}\n",
    "inverted_seen = {}\n",
    "# Read trustchain transactions\n",
    "with open(\"PeerTrustchainLedgers/database_blocks_agg.csv\") as read_file:\n",
    "    first = True\n",
    "    csv_reader = csv.reader(read_file)\n",
    "    first = True\n",
    "    for row in csv_reader:\n",
    "        if first:\n",
    "            first = False\n",
    "        else:\n",
    "            # time, transaction, seq_num, link, seen_by \n",
    "            tx = ast.literal_eval(row[0])\n",
    "            seq_num = int(row[1])\n",
    "            link = int(row[2])\n",
    "            seen_by = int(row[3])\n",
    "            \n",
    "            if seen_by not in inverted_seen.keys():\n",
    "                inverted_seen[seen_by] = set()\n",
    "                \n",
    "            tx_id = str(tx['from_peer'])+\"_\"+str(seq_num)\n",
    "            if tx_id not in tx_store.keys():\n",
    "                tx_store[tx_id] = {\"tx\":tx, \"seen\": set(), \"seen_confirm\": set()}\n",
    "            if link != 0:\n",
    "                # This is confirmation for the transaction\n",
    "                tx_id = str(tx['from_peer'])+\"_\"+str(link)\n",
    "                try:\n",
    "                    tx_store[tx_id][\"seen_confirm\"].add(seen_by)\n",
    "                except KeyError as e:\n",
    "                    tx_store[tx_id] = {\"tx\":tx, \"seen\": set(), \"seen_confirm\": {seen_by}}\n",
    "                    \n",
    "                tx_store[tx_id][\"tx\"][\"seq\"] = link\n",
    "                tx_store[tx_id][\"tx\"][\"link\"] = seq_num\n",
    "                # Send \n",
    "                tx_id_inv = str(tx['to_peer']) + \"_\" + str(seq_num)\n",
    "                tx_store[tx_id_inv] = tx_store[tx_id]\n",
    "                inverted_seen[seen_by].add(tx_id)\n",
    "                inverted_seen[seen_by].add(tx_id_inv)\n",
    "            else:\n",
    "                tx_store[tx_id][\"seen\"].add(seen_by)\n",
    "                inverted_seen[seen_by].add(tx_id)\n"
   ]
  },
  {
   "cell_type": "code",
   "execution_count": 160,
   "metadata": {},
   "outputs": [],
   "source": [
    "inverted_seen_gt = inverted_seen.copy()\n",
    "tx_store_gt = tx_store.copy()"
   ]
  },
  {
   "cell_type": "code",
   "execution_count": 166,
   "metadata": {},
   "outputs": [],
   "source": [
    "# Construct overlay network:\n",
    "import ast\n",
    "tx_store = {}\n",
    "inverted_seen = {}\n",
    "\n",
    "\n",
    "G = nx.Graph()\n",
    "with open(\"PeerTrustchainLedgers/peer_connections_1.txt\") as read_file:\n",
    "    first = True\n",
    "    for vals in read_file.readlines():\n",
    "        if first:\n",
    "            first = False\n",
    "        else:\n",
    "            peer_a, peer_b = vals.split(',')\n",
    "            G.add_edge(int(peer_a), int(peer_b))\n",
    "\n",
    "# Read trustchain transactions\n",
    "with open(\"PeerTrustchainLedgers/leader_blocks_time_agg.csv\") as read_file:\n",
    "    first = True\n",
    "    csv_reader = csv.reader(read_file)\n",
    "    first = True\n",
    "    for row in csv_reader:\n",
    "        if first:\n",
    "            first = False\n",
    "        else:\n",
    "            # time, transaction, seq_num, link, seen_by \n",
    "            tx = ast.literal_eval(row[1])\n",
    "            seq_num = int(row[2])\n",
    "            link = int(row[3])\n",
    "            tx_id = str(tx['from_peer'])+\"_\"+str(seq_num)\n",
    "            seen_by = int(row[4])\n",
    "            if seen_by not in inverted_seen.keys():\n",
    "                inverted_seen[seen_by] = set()\n",
    "            if tx_id not in tx_store.keys():\n",
    "                tx_store[tx_id] = {\"tx\":tx, \"seen\": set(), \"seen_confirm\": set()}\n",
    "            if link != 0:\n",
    "                # This is confirmation for the transaction\n",
    "                tx_id = str(tx['from_peer'])+\"_\"+str(link)\n",
    "                tx_store[tx_id][\"seen_confirm\"].add(seen_by)\n",
    "                tx_store[tx_id][\"tx\"][\"seq\"] = link\n",
    "                tx_store[tx_id][\"tx\"][\"link\"] = seq_num\n",
    "                # Send \n",
    "                tx_id_inv = str(tx['to_peer']) + \"_\" + str(seq_num)\n",
    "                tx_store[tx_id_inv] = tx_store[tx_id]\n",
    "                inverted_seen[seen_by].add(tx_id)\n",
    "                inverted_seen[seen_by].add(tx_id_inv)\n",
    "            else:\n",
    "                tx_store[tx_id][\"seen\"].add(seen_by)\n",
    "                inverted_seen[seen_by].add(tx_id)"
   ]
  },
  {
   "cell_type": "code",
   "execution_count": 174,
   "metadata": {},
   "outputs": [
    {
     "data": {
      "text/plain": [
       "set()"
      ]
     },
     "execution_count": 174,
     "metadata": {},
     "output_type": "execute_result"
    }
   ],
   "source": []
  },
  {
   "cell_type": "code",
   "execution_count": 171,
   "metadata": {},
   "outputs": [
    {
     "data": {
      "text/plain": [
       "set()"
      ]
     },
     "execution_count": 171,
     "metadata": {},
     "output_type": "execute_result"
    }
   ],
   "source": [
    "tx_store_gt['40_93']['seen_confirm'] - tx_store['40_93']['seen_confirm']"
   ]
  },
  {
   "cell_type": "code",
   "execution_count": 9,
   "metadata": {},
   "outputs": [],
   "source": [
    "# Process seen transactions\n",
    "# Seen by peer with id \n",
    "peer_id = 92\n",
    "# all transactions seen by \n",
    "peer_knows_peer = {}\n",
    "\n",
    "\n",
    "for tx in sorted(inverted_seen[peer_id], key=lambda tx_id: int(tx_id.split('_')[1])):\n",
    "    #if int(tx.split('_')[0]) == peer_id:\n",
    "    #    continue \n",
    "    # to peer knows about the from_peer\n",
    "    # This is confirmation block \n",
    "    if tx_store[tx]['tx']['link'] == int(tx.split('_')[1]):\n",
    "        \n",
    "        f_peer  = int(tx_store[tx]['tx']['from_peer'])\n",
    "        t_peer = int(tx_store[tx]['tx']['to_peer'])\n",
    "        \n",
    "        if f_peer not in peer_knows_peer.keys():\n",
    "            peer_knows_peer[f_peer] = {}\n",
    "        if t_peer not in peer_knows_peer.keys():\n",
    "            peer_knows_peer[t_peer] = {}\n",
    "        \n",
    "        if t_peer not in peer_knows_peer[f_peer].keys():\n",
    "            peer_knows_peer[f_peer][t_peer] = set()\n",
    "        peer_knows_peer[f_peer][t_peer].add(tx_store[tx]['tx'][\"seq\"])\n",
    "            \n",
    "        if f_peer not in peer_knows_peer[t_peer].keys():\n",
    "            peer_knows_peer[t_peer][f_peer] = set()\n",
    "        peer_knows_peer[t_peer][f_peer].add(tx_store[tx]['tx'][\"link\"])\n",
    "    else:\n",
    "        f_peer  = int(tx_store[tx]['tx']['from_peer'])\n",
    "        t_peer = int(tx_store[tx]['tx']['to_peer'])\n",
    "        \n",
    "        if f_peer not in peer_knows_peer.keys():\n",
    "            peer_knows_peer[f_peer] = {}\n",
    "        if t_peer not in peer_knows_peer.keys():\n",
    "            peer_knows_peer[t_peer] = {}\n",
    "        \n",
    "        if t_peer not in peer_knows_peer[f_peer].keys():\n",
    "            peer_knows_peer[f_peer][t_peer] = set()\n",
    "            \n",
    "        peer_knows_peer[f_peer][t_peer].add(tx_store[tx]['tx'][\"seq\"])\n",
    "            "
   ]
  },
  {
   "cell_type": "code",
   "execution_count": 107,
   "metadata": {},
   "outputs": [],
   "source": [
    "def compress_blocks(blocks):\n",
    "    array = [0 for _ in range(200)]\n",
    "    for b in blocks:\n",
    "        for i in range (b[0], b[1]+1):\n",
    "            array[i] = 1\n",
    "    new_blocks = []\n",
    "    last_open = 0\n",
    "    opened_block = False\n",
    "    last_closed = 0\n",
    "    for k in range(200):\n",
    "        if array[k] == 1:\n",
    "            if not opened_block:\n",
    "                opened_block = True\n",
    "                last_open = k\n",
    "            last_closed = k \n",
    "        else:\n",
    "            if opened_block:\n",
    "                opened_block = False\n",
    "                new_blocks.append((last_open, last_closed))\n",
    "    return new_blocks, array\n",
    "    "
   ]
  },
  {
   "cell_type": "code",
   "execution_count": 35,
   "metadata": {},
   "outputs": [
    {
     "data": {
      "text/plain": [
       "{53, 77, 86}"
      ]
     },
     "execution_count": 35,
     "metadata": {},
     "output_type": "execute_result"
    }
   ],
   "source": [
    "peer_knows_peer[1][81]"
   ]
  },
  {
   "cell_type": "code",
   "execution_count": 82,
   "metadata": {},
   "outputs": [
    {
     "data": {
      "text/plain": [
       "array([ True,  True,  True])"
      ]
     },
     "execution_count": 82,
     "metadata": {},
     "output_type": "execute_result"
    }
   ],
   "source": [
    "np.logical_or([1,0,1], [0,1,0])"
   ]
  },
  {
   "cell_type": "code",
   "execution_count": 101,
   "metadata": {},
   "outputs": [
    {
     "data": {
      "text/plain": [
       "{1, 3, 6, 7, 15, 24, 49, 54, 63, 64, 68, 82, 86, 87, 96, 99}"
      ]
     },
     "execution_count": 101,
     "metadata": {},
     "output_type": "execute_result"
    }
   ],
   "source": [
    "set(G.neighbors(92))"
   ]
  },
  {
   "cell_type": "code",
   "execution_count": 114,
   "metadata": {},
   "outputs": [],
   "source": [
    "def find_last_sig_bit(mask):\n",
    "    index = len(mask)-1\n",
    "    while not mask[index]:\n",
    "        index -= 1\n",
    "    return index"
   ]
  },
  {
   "cell_type": "code",
   "execution_count": 131,
   "metadata": {},
   "outputs": [],
   "source": [
    "wv_peer  = peer_id\n",
    "target_peer = 1\n",
    "window = 5\n",
    "\n",
    "peers_labels = peer_knows_peer[target_peer].keys()\n",
    "peers_num =  len(peer_knows_peer[target_peer].keys())\n",
    "\n",
    "inp = \"\"\n",
    "full_mask = [0 for _ in range(200)]\n",
    "\n",
    "for p in peers_labels:\n",
    "    blocks = [(max(k-window, 0),k) for k in peer_knows_peer[target_peer][p]]\n",
    "    new_blocks, array_mask = compress_blocks(blocks)\n",
    "    full_mask = np.logical_or(full_mask, array_mask)\n",
    "    for b in new_blocks:\n",
    "        inp = inp + str(p) + str(\",\") + str(b[0])+str(\",\")+str(b[1])+str(\",\")+str(\"In\") + \"\\n\"\n",
    "\n",
    "last_index = find_last_sig_bit(full_mask)\n",
    "full_mask = full_mask[:last_index]\n",
    "number_of_holes = len(np.where(full_mask == False)[0])"
   ]
  },
  {
   "cell_type": "code",
   "execution_count": 132,
   "metadata": {},
   "outputs": [
    {
     "data": {
      "image/png": "[encoded data removed]",
      "text/plain": [
       "<Figure size 576x360 with 1 Axes>"
      ]
     },
     "metadata": {
      "needs_background": "light"
     },
     "output_type": "display_data"
    }
   ],
   "source": [
    "import pandas as pd\n",
    "import io\n",
    "import matplotlib.pyplot as plt\n",
    "\n",
    "df = pd.read_csv(io.StringIO(inp), header=None, names=[\"Task\", \"Start\", \"Finish\", \"Resource\"] )\n",
    "df[\"Diff\"] = df.Finish - df.Start\n",
    "\n",
    "color = {\"In\":\"crimson\", \"Out\":\"crimson\"}\n",
    "fig,ax=plt.subplots(figsize=(8,5))\n",
    "\n",
    "labels=[]\n",
    "for i, task in enumerate(df.groupby(\"Task\")):\n",
    "    labels.append(task[0])\n",
    "    for r in task[1].groupby(\"Resource\"):\n",
    "        data = r[1][[\"Start\", \"Diff\"]]\n",
    "        ax.broken_barh(data.values, (i-0.4,0.6), color=color[r[0]] )\n",
    "\n",
    "ax.set_yticks(range(len(labels)))\n",
    "ax.set_yticklabels(labels) \n",
    "ax.set_xlabel(\"Blocks\")\n",
    "plt.tight_layout()       \n",
    "plt.show()"
   ]
  },
  {
   "cell_type": "code",
   "execution_count": null,
   "metadata": {},
   "outputs": [],
   "source": []
  },
  {
   "cell_type": "code",
   "execution_count": null,
   "metadata": {},
   "outputs": [],
   "source": []
  },
  {
   "cell_type": "code",
   "execution_count": 48,
   "metadata": {},
   "outputs": [
    {
     "data": {
      "image/png": "[encoded data removed]",
      "text/plain": [
       "<Figure size 1440x1440 with 1 Axes>"
      ]
     },
     "metadata": {
      "needs_background": "light"
     },
     "output_type": "display_data"
    }
   ],
   "source": [
    "# Declaring a figure \"gnt\" \n",
    "fontsize = 15\n",
    "wv_peer  = peer_id\n",
    "target_peer = 1\n",
    "window = 5\n",
    "\n",
    "\n",
    "\n",
    "fig, gnt = plt.subplots(figsize=(20,20)) \n",
    "\n",
    "fig.suptitle('World View of Peer {} about Peer {}'.format(peer_id, target_peer), fontsize=fontsize+3)\n",
    "\n",
    "# Setting Y-axis limits \n",
    "#gnt.set_ylim(0, 100)\n",
    "  \n",
    "# Setting X-axis limits \n",
    "gnt.set_xlim(0, 200) \n",
    "  \n",
    "# Setting labels for x-axis and y-axis \n",
    "gnt.set_xlabel('Blocks seq numbers', fontsize=fontsize) \n",
    "gnt.set_ylabel('Peers', fontsize=fontsize) \n",
    "  \n",
    "# Setting ticks on y-axis \n",
    "gnt.set_yticks(range(1,(peers_num+2)*1,1)) \n",
    "# Labelling tickes of y-axis \n",
    "gnt.set_yticklabels(peers_labels, fontsize=fontsize) \n",
    "\n",
    "for tick in gnt.xaxis.get_major_ticks():\n",
    "    tick.label.set_fontsize(fontsize) \n",
    "\n",
    "# Setting graph attribute \n",
    "gnt.grid(True) \n",
    "\n",
    "\n",
    "index = 1\n",
    "for p in list(peers_labels):\n",
    "    blocks = [(max(k-window, 0),k) for k in peer_knows_peer[target_peer][p]]\n",
    "    new_blocks = compress_blocks(blocks)\n",
    "    gnt.broken_barh(new_blocks, (1*index, 1), \n",
    "                                  facecolors =('tab:blue'))\n",
    "    index+=1\n",
    "    \n",
    "  \n"
   ]
  },
  {
   "cell_type": "code",
   "execution_count": 118,
   "metadata": {},
   "outputs": [
    {
     "data": {
      "text/plain": [
       "{54: {5, 33, 81},\n",
       " 64: {10, 73, 76},\n",
       " 15: {11, 19, 75},\n",
       " 66: {12},\n",
       " 70: {18, 50},\n",
       " 24: {23, 35, 53},\n",
       " 97: {45},\n",
       " 99: {46, 48, 83, 87},\n",
       " 86: {55},\n",
       " 21: {56}}"
      ]
     },
     "execution_count": 118,
     "metadata": {},
     "output_type": "execute_result"
    }
   ],
   "source": [
    "peer_knows_peer[32]"
   ]
  },
  {
   "cell_type": "code",
   "execution_count": 119,
   "metadata": {},
   "outputs": [
    {
     "data": {
      "text/plain": [
       "{92: {1, 15, 39, 45, 47, 57, 59, 96},\n",
       " 43: {3, 17, 20, 37, 100},\n",
       " 89: {4, 7, 97},\n",
       " 98: {5, 36, 42, 69, 116},\n",
       " 86: {6, 56, 106, 107},\n",
       " 41: {8, 83, 109},\n",
       " 75: {9, 13, 16, 26, 38, 72, 82},\n",
       " 26: {10, 49, 62, 93, 114},\n",
       " 83: {12, 18, 24, 41, 46, 66, 113},\n",
       " 91: {14, 21, 104},\n",
       " 49: {19, 29, 53},\n",
       " 20: {25, 30, 55, 68, 112},\n",
       " 11: {27, 85},\n",
       " 14: {31, 40, 70, 103},\n",
       " 88: {33, 34, 99, 102},\n",
       " 32: {35, 48, 80},\n",
       " 10: {43, 48, 54},\n",
       " 78: {44, 52, 63, 71, 76, 81, 90, 94},\n",
       " 62: {50, 58, 65},\n",
       " 66: {67, 86, 115},\n",
       " 34: {73, 74, 79, 108},\n",
       " 84: {75, 87, 117},\n",
       " 60: {92, 110},\n",
       " 63: {95}}"
      ]
     },
     "execution_count": 119,
     "metadata": {},
     "output_type": "execute_result"
    }
   ],
   "source": [
    "peer_knows_peer[24]"
   ]
  },
  {
   "cell_type": "code",
   "execution_count": 114,
   "metadata": {},
   "outputs": [
    {
     "data": {
      "text/plain": [
       "{47, 55}"
      ]
     },
     "execution_count": 114,
     "metadata": {},
     "output_type": "execute_result"
    }
   ],
   "source": [
    "set(G.neighbors(24))  - set(peer_knows_peer[24].keys())"
   ]
  },
  {
   "cell_type": "code",
   "execution_count": 108,
   "metadata": {},
   "outputs": [
    {
     "data": {
      "text/plain": [
       "{54: [11, 23, 23, 59, 83, 115],\n",
       " 86: [19, 97, 106, 108, 112],\n",
       " 65: [34],\n",
       " 96: [28, 68],\n",
       " 87: [67, 79, 102, 77, 77, 116],\n",
       " 45: [85],\n",
       " 53: [90],\n",
       " 99: [94, 117]}"
      ]
     },
     "execution_count": 108,
     "metadata": {},
     "output_type": "execute_result"
    }
   ],
   "source": [
    "peer_knows_peer[47]"
   ]
  },
  {
   "cell_type": "code",
   "execution_count": 102,
   "metadata": {},
   "outputs": [
    {
     "data": {
      "text/plain": [
       "{1, 3, 6, 7, 15, 24, 49, 54, 63, 64, 68, 82, 86, 87, 96, 99}"
      ]
     },
     "execution_count": 102,
     "metadata": {},
     "output_type": "execute_result"
    }
   ],
   "source": [
    "set(G.neighbors(92))"
   ]
  },
  {
   "cell_type": "code",
   "execution_count": 112,
   "metadata": {},
   "outputs": [
    {
     "data": {
      "text/plain": [
       "{'tx': {'down': 641728512,\n",
       "  'to_peer': '89',\n",
       "  'from_peer': 24,\n",
       "  'up': 625999872,\n",
       "  'seq': 7,\n",
       "  'link': 11},\n",
       " 'seen': {8,\n",
       "  9,\n",
       "  10,\n",
       "  11,\n",
       "  12,\n",
       "  14,\n",
       "  17,\n",
       "  20,\n",
       "  24,\n",
       "  26,\n",
       "  30,\n",
       "  32,\n",
       "  34,\n",
       "  35,\n",
       "  39,\n",
       "  41,\n",
       "  43,\n",
       "  47,\n",
       "  49,\n",
       "  51,\n",
       "  54,\n",
       "  60,\n",
       "  62,\n",
       "  63,\n",
       "  64,\n",
       "  65,\n",
       "  66,\n",
       "  68,\n",
       "  73,\n",
       "  75,\n",
       "  76,\n",
       "  77,\n",
       "  78,\n",
       "  79,\n",
       "  83,\n",
       "  84,\n",
       "  86,\n",
       "  88,\n",
       "  89,\n",
       "  90,\n",
       "  91,\n",
       "  92,\n",
       "  97,\n",
       "  98},\n",
       " 'seen_confirm': {8,\n",
       "  9,\n",
       "  12,\n",
       "  17,\n",
       "  24,\n",
       "  30,\n",
       "  35,\n",
       "  39,\n",
       "  49,\n",
       "  51,\n",
       "  54,\n",
       "  62,\n",
       "  64,\n",
       "  65,\n",
       "  68,\n",
       "  73,\n",
       "  76,\n",
       "  77,\n",
       "  79,\n",
       "  83,\n",
       "  86,\n",
       "  88,\n",
       "  90,\n",
       "  92,\n",
       "  97,\n",
       "  98}}"
      ]
     },
     "execution_count": 112,
     "metadata": {},
     "output_type": "execute_result"
    }
   ],
   "source": [
    "tx_store[\"24_7\"]"
   ]
  },
  {
   "cell_type": "code",
   "execution_count": 97,
   "metadata": {},
   "outputs": [
    {
     "data": {
      "text/plain": [
       "{92: [1, 15, 45, 39, 59, 47, 57, 96],\n",
       " 43: [3, 3, 17, 20, 37],\n",
       " 98: [5, 116],\n",
       " 86: [6, 56, 106, 107],\n",
       " 41: [8, 83],\n",
       " 75: [9, 13, 38, 72],\n",
       " 26: [10, 10, 62, 93, 114],\n",
       " 89: [7, 97],\n",
       " 91: [14, 21, 104],\n",
       " 49: [19, 29, 53],\n",
       " 20: [25, 30, 68, 112],\n",
       " 11: [27],\n",
       " 14: [31, 40, 103],\n",
       " 88: [33, 34],\n",
       " 32: [35, 48, 80],\n",
       " 83: [41, 46, 66],\n",
       " 78: [44, 52, 63, 76, 90, 90, 94],\n",
       " 10: [48],\n",
       " 62: [50, 65],\n",
       " 34: [73, 108],\n",
       " 84: [75, 117],\n",
       " 66: [86],\n",
       " 63: [95, 95]}"
      ]
     },
     "execution_count": 97,
     "metadata": {},
     "output_type": "execute_result"
    }
   ],
   "source": [
    "peer_knows_peer[24]"
   ]
  },
  {
   "cell_type": "code",
   "execution_count": 95,
   "metadata": {},
   "outputs": [
    {
     "data": {
      "text/plain": [
       "{92: [1, 45, 59, 96], 20: [55], 78: [71, 81, 90]}"
      ]
     },
     "execution_count": 95,
     "metadata": {},
     "output_type": "execute_result"
    }
   ],
   "source": [
    "peer_knows_peer[24]"
   ]
  },
  {
   "cell_type": "code",
   "execution_count": 87,
   "metadata": {},
   "outputs": [
    {
     "data": {
      "text/plain": [
       "{'tx': {'down': 862978048,\n",
       "  'to_peer': '20',\n",
       "  'from_peer': 24,\n",
       "  'up': 956301312,\n",
       "  'seq': 55,\n",
       "  'link': 38},\n",
       " 'seen': {1,\n",
       "  11,\n",
       "  12,\n",
       "  13,\n",
       "  14,\n",
       "  20,\n",
       "  21,\n",
       "  24,\n",
       "  26,\n",
       "  31,\n",
       "  32,\n",
       "  34,\n",
       "  37,\n",
       "  41,\n",
       "  43,\n",
       "  47,\n",
       "  55,\n",
       "  58,\n",
       "  60,\n",
       "  62,\n",
       "  63,\n",
       "  66,\n",
       "  70,\n",
       "  71,\n",
       "  75,\n",
       "  78,\n",
       "  83,\n",
       "  84,\n",
       "  86,\n",
       "  88,\n",
       "  89,\n",
       "  91,\n",
       "  92,\n",
       "  98},\n",
       " 'seen_confirm': {1,\n",
       "  12,\n",
       "  13,\n",
       "  20,\n",
       "  21,\n",
       "  24,\n",
       "  31,\n",
       "  37,\n",
       "  41,\n",
       "  47,\n",
       "  58,\n",
       "  60,\n",
       "  70,\n",
       "  71,\n",
       "  75,\n",
       "  91}}"
      ]
     },
     "execution_count": 87,
     "metadata": {},
     "output_type": "execute_result"
    }
   ],
   "source": [
    "tx_store[\"24_55\"]"
   ]
  },
  {
   "cell_type": "code",
   "execution_count": 94,
   "metadata": {},
   "outputs": [
    {
     "data": {
      "text/plain": [
       "{'tx': {'down': 649068544,\n",
       "  'to_peer': '20',\n",
       "  'from_peer': 91,\n",
       "  'up': 262144000,\n",
       "  'seq': 108,\n",
       "  'link': 86},\n",
       " 'seen': {1,\n",
       "  8,\n",
       "  12,\n",
       "  13,\n",
       "  17,\n",
       "  18,\n",
       "  20,\n",
       "  21,\n",
       "  24,\n",
       "  28,\n",
       "  29,\n",
       "  31,\n",
       "  37,\n",
       "  41,\n",
       "  43,\n",
       "  45,\n",
       "  47,\n",
       "  48,\n",
       "  53,\n",
       "  56,\n",
       "  58,\n",
       "  60,\n",
       "  70,\n",
       "  71,\n",
       "  75,\n",
       "  80,\n",
       "  87,\n",
       "  91,\n",
       "  99},\n",
       " 'seen_confirm': {1,\n",
       "  12,\n",
       "  13,\n",
       "  20,\n",
       "  21,\n",
       "  24,\n",
       "  31,\n",
       "  37,\n",
       "  41,\n",
       "  47,\n",
       "  58,\n",
       "  60,\n",
       "  70,\n",
       "  71,\n",
       "  75,\n",
       "  91}}"
      ]
     },
     "execution_count": 94,
     "metadata": {},
     "output_type": "execute_result"
    }
   ],
   "source": [
    "tx_store[\"91_108\"]"
   ]
  },
  {
   "cell_type": "code",
   "execution_count": 93,
   "metadata": {},
   "outputs": [
    {
     "data": {
      "text/plain": [
       "{17: [4], 20: [6, 33, 39, 96, 104, 108], 53: [32, 43, 62, 71, 110, 105]}"
      ]
     },
     "execution_count": 93,
     "metadata": {},
     "output_type": "execute_result"
    }
   ],
   "source": [
    "peer_knows_peer[91]"
   ]
  },
  {
   "cell_type": "code",
   "execution_count": 85,
   "metadata": {},
   "outputs": [
    {
     "data": {
      "text/plain": [
       "{92: [1, 45, 59, 96], 20: [55], 78: [71, 81, 90]}"
      ]
     },
     "execution_count": 85,
     "metadata": {},
     "output_type": "execute_result"
    }
   ],
   "source": [
    "peer_knows_peer[24]"
   ]
  },
  {
   "cell_type": "code",
   "execution_count": 83,
   "metadata": {},
   "outputs": [
    {
     "data": {
      "text/plain": [
       "[1, 45, 59, 96]"
      ]
     },
     "execution_count": 83,
     "metadata": {},
     "output_type": "execute_result"
    }
   ],
   "source": [
    "peer_knows_peer[24][92]"
   ]
  },
  {
   "cell_type": "code",
   "execution_count": 84,
   "metadata": {},
   "outputs": [
    {
     "data": {
      "text/plain": [
       "[2, 35, 45, 75]"
      ]
     },
     "execution_count": 84,
     "metadata": {},
     "output_type": "execute_result"
    }
   ],
   "source": [
    "peer_knows_peer[92][24]"
   ]
  },
  {
   "cell_type": "code",
   "execution_count": null,
   "metadata": {},
   "outputs": [],
   "source": []
  },
  {
   "cell_type": "code",
   "execution_count": null,
   "metadata": {},
   "outputs": [],
   "source": []
  },
  {
   "cell_type": "code",
   "execution_count": 35,
   "metadata": {},
   "outputs": [
    {
     "data": {
      "text/plain": [
       "{4, 17, 20, 25, 31, 51, 52, 53, 65, 72, 78, 81, 92, 93, 94}"
      ]
     },
     "execution_count": 35,
     "metadata": {},
     "output_type": "execute_result"
    }
   ],
   "source": [
    "set(G.neighbors(1))"
   ]
  },
  {
   "cell_type": "code",
   "execution_count": 32,
   "metadata": {},
   "outputs": [
    {
     "data": {
      "text/plain": [
       "{4, 17, 20, 25, 51, 53, 65, 78, 81, 92, 94}"
      ]
     },
     "execution_count": 32,
     "metadata": {},
     "output_type": "execute_result"
    }
   ],
   "source": [
    "tx_store['1_1'][\"seen\"]-tx_store['1_1'][\"seen_confirm\"]"
   ]
  },
  {
   "cell_type": "code",
   "execution_count": 47,
   "metadata": {},
   "outputs": [
    {
     "data": {
      "text/plain": [
       "{'tx': {'down': 834666496,\n",
       "  'to_peer': '37',\n",
       "  'from_peer': 68,\n",
       "  'up': 858783744,\n",
       "  'seq': 1,\n",
       "  'link': 2},\n",
       " 'seen': {2,\n",
       "  3,\n",
       "  5,\n",
       "  8,\n",
       "  9,\n",
       "  11,\n",
       "  15,\n",
       "  16,\n",
       "  20,\n",
       "  25,\n",
       "  29,\n",
       "  37,\n",
       "  39,\n",
       "  42,\n",
       "  44,\n",
       "  49,\n",
       "  52,\n",
       "  53,\n",
       "  55,\n",
       "  56,\n",
       "  61,\n",
       "  67,\n",
       "  68,\n",
       "  69,\n",
       "  72,\n",
       "  74,\n",
       "  75,\n",
       "  76,\n",
       "  79,\n",
       "  83,\n",
       "  84,\n",
       "  91,\n",
       "  92,\n",
       "  98},\n",
       " 'seen_confirm': {2,\n",
       "  5,\n",
       "  15,\n",
       "  16,\n",
       "  20,\n",
       "  29,\n",
       "  37,\n",
       "  39,\n",
       "  42,\n",
       "  44,\n",
       "  55,\n",
       "  56,\n",
       "  61,\n",
       "  67,\n",
       "  68,\n",
       "  72,\n",
       "  75,\n",
       "  76,\n",
       "  79,\n",
       "  83,\n",
       "  91,\n",
       "  98}}"
      ]
     },
     "execution_count": 47,
     "metadata": {},
     "output_type": "execute_result"
    }
   ],
   "source": [
    "tx_store['68_1']"
   ]
  },
  {
   "cell_type": "code",
   "execution_count": 44,
   "metadata": {},
   "outputs": [
    {
     "data": {
      "text/plain": [
       "{'tx': {'down': 11534336,\n",
       "  'to_peer': '68',\n",
       "  'from_peer': 2,\n",
       "  'up': 451936256,\n",
       "  'seq': 2,\n",
       "  'link': 5},\n",
       " 'seen': {2,\n",
       "  3,\n",
       "  4,\n",
       "  8,\n",
       "  9,\n",
       "  10,\n",
       "  11,\n",
       "  15,\n",
       "  19,\n",
       "  25,\n",
       "  29,\n",
       "  30,\n",
       "  34,\n",
       "  35,\n",
       "  37,\n",
       "  42,\n",
       "  43,\n",
       "  44,\n",
       "  49,\n",
       "  52,\n",
       "  53,\n",
       "  55,\n",
       "  59,\n",
       "  62,\n",
       "  63,\n",
       "  64,\n",
       "  66,\n",
       "  68,\n",
       "  69,\n",
       "  73,\n",
       "  74,\n",
       "  77,\n",
       "  84,\n",
       "  88,\n",
       "  92},\n",
       " 'seen_confirm': {2,\n",
       "  3,\n",
       "  8,\n",
       "  9,\n",
       "  11,\n",
       "  25,\n",
       "  29,\n",
       "  37,\n",
       "  42,\n",
       "  44,\n",
       "  49,\n",
       "  52,\n",
       "  53,\n",
       "  55,\n",
       "  68,\n",
       "  69,\n",
       "  74,\n",
       "  84,\n",
       "  92}}"
      ]
     },
     "execution_count": 44,
     "metadata": {},
     "output_type": "execute_result"
    }
   ],
   "source": [
    "tx_store['2_2']"
   ]
  },
  {
   "cell_type": "code",
   "execution_count": 43,
   "metadata": {},
   "outputs": [
    {
     "data": {
      "text/plain": [
       "{4,\n",
       " 10,\n",
       " 11,\n",
       " 15,\n",
       " 19,\n",
       " 29,\n",
       " 30,\n",
       " 34,\n",
       " 35,\n",
       " 37,\n",
       " 42,\n",
       " 43,\n",
       " 55,\n",
       " 59,\n",
       " 62,\n",
       " 63,\n",
       " 64,\n",
       " 66,\n",
       " 68,\n",
       " 73,\n",
       " 77,\n",
       " 88}"
      ]
     },
     "execution_count": 43,
     "metadata": {},
     "output_type": "execute_result"
    }
   ],
   "source": [
    "set(G.neighbors(2)) & tx_store['2_1']['seen']  # tx_store['2_1']['seen_confirm']"
   ]
  },
  {
   "cell_type": "code",
   "execution_count": 36,
   "metadata": {},
   "outputs": [
    {
     "data": {
      "text/plain": [
       "{1, 9, 11, 19, 31, 38, 43, 45, 50, 52, 57, 58, 68, 72, 74, 76, 93, 97, 99}"
      ]
     },
     "execution_count": 36,
     "metadata": {},
     "output_type": "execute_result"
    }
   ],
   "source": [
    "tx_store['1_1'][\"seen_confirm\"]"
   ]
  },
  {
   "cell_type": "code",
   "execution_count": 2,
   "metadata": {},
   "outputs": [],
   "source": [
    "# Load a snapshot of a network \n",
    "G = nx.read_gpickle('trustchain.pickle')"
   ]
  },
  {
   "cell_type": "code",
   "execution_count": null,
   "metadata": {},
   "outputs": [],
   "source": []
  },
  {
   "cell_type": "markdown",
   "metadata": {},
   "source": [
    "## Peers interaction simulation"
   ]
  },
  {
   "cell_type": "code",
   "execution_count": 3,
   "metadata": {},
   "outputs": [],
   "source": [
    "from ledger import Transaction, MergeSet"
   ]
  },
  {
   "cell_type": "code",
   "execution_count": 4,
   "metadata": {},
   "outputs": [],
   "source": [
    "peer_list = list(G.nodes())\n",
    "peer_state = {}\n",
    "for p in peer_list:\n",
    "    # Initailize ledgers\n",
    "    peer_state[p] = MergeSet(G.neighbors(p))"
   ]
  },
  {
   "cell_type": "code",
   "execution_count": null,
   "metadata": {},
   "outputs": [],
   "source": []
  },
  {
   "cell_type": "code",
   "execution_count": null,
   "metadata": {},
   "outputs": [],
   "source": [
    "# System chooses some inital peers to share inital tokens - SYSTEM genesis\n",
    "init_peers = np.random.choice(peer_list,100, replace=False)\n",
    "for p1 in init_peers: \n",
    "    # inital transaction\n",
    "    tx = Transaction(\"SYSTEM\", p1, \"valid\", p1+\"v0\", [0], 1)\n",
    "    peer_state[p1].store_transaction(tx)\n",
    "    if not peer_state[p1].is_malicious: \n",
    "        # Share transaction with neighbours \n",
    "        peer_state[p1].overlay_neighbours\n",
    "    \n",
    "\n",
    "\n"
   ]
  },
  {
   "cell_type": "code",
   "execution_count": 6,
   "metadata": {},
   "outputs": [],
   "source": [
    "\n",
    "# Assume that peer knows all 1-hop neighbours \n",
    "# Test 1000 transactions on one specific peer\n",
    "target_peer = np.random.choice(peer_list, replace=False)\n",
    "TX_COUNT = 1000\n",
    "\n",
    "# No consistency \n",
    "# Eventual consistency \n",
    "# Casual consistency \n",
    "# Strong consistency \n",
    "\n",
    "\n",
    "\n",
    "\n",
    "for i in range()\n",
    "\n"
   ]
  },
  {
   "cell_type": "markdown",
   "metadata": {},
   "source": [
    "## Set-reconcilation with cuckoo filters"
   ]
  },
  {
   "cell_type": "markdown",
   "metadata": {},
   "source": [
    "### One filter per account?\n",
    "\n",
    "The performance of the filter will degrade with more values inserted. \n",
    "To improve performance we need to introduce moving window of the elements, or limit the number of transactions. \n",
    "\n",
    "Filter will be filled with transaction id/hash. \n",
    "\n",
    "Having a filter and a new transaction one can check quickly if the transacion is inserted in the right time. \n",
    "Bloom clock \n",
    "\n"
   ]
  },
  {
   "cell_type": "markdown",
   "metadata": {},
   "source": [
    "## Transaction "
   ]
  },
  {
   "cell_type": "markdown",
   "metadata": {},
   "source": [
    "Transaction is a state transaction of a Peer A from $T_k: s_k -> s_{k+1}$. \n",
    "\n",
    "State can be represented as a Bloom clock? Counting Bloom Filter or Cuckoo filter\n",
    "\n",
    "Each peer has own clock, event happend can be computed -> $H_k(B)+=1$ for each $H_k$. This will update certain cells in the clock. \n",
    "\n",
    "Transactions with different peers can be executed concurrently and later merged. \n"
   ]
  },
  {
   "cell_type": "code",
   "execution_count": null,
   "metadata": {},
   "outputs": [],
   "source": []
  }
 ],
 "metadata": {
  "kernelspec": {
   "display_name": "Python 3",
   "language": "python",
   "name": "python3"
  },
  "language_info": {
   "codemirror_mode": {
    "name": "ipython",
    "version": 3
   },
   "file_extension": ".py",
   "mimetype": "text/x-python",
   "name": "python",
   "nbconvert_exporter": "python",
   "pygments_lexer": "ipython3",
   "version": "3.7.2"
  }
 },
 "nbformat": 4,
 "nbformat_minor": 2
}
