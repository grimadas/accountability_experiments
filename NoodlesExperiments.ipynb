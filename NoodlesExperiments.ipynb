{
 "cells": [
  {
   "cell_type": "markdown",
   "metadata": {},
   "source": [
    "# Experiments with Trustchain Data"
   ]
  },
  {
   "cell_type": "code",
   "execution_count": 1071,
   "metadata": {},
   "outputs": [],
   "source": [
    "%matplotlib inline\n",
    "import csv\n",
    "import networkx as nx\n",
    "import matplotlib.pyplot as plt\n",
    "import itertools\n",
    "import collections\n",
    "import numpy as np\n",
    "import ast\n",
    "import pandas as pd\n",
    "import io\n",
    "from random import random"
   ]
  },
  {
   "cell_type": "markdown",
   "metadata": {},
   "source": [
    "## Used Functions"
   ]
  },
  {
   "cell_type": "code",
   "execution_count": 1081,
   "metadata": {},
   "outputs": [],
   "source": [
    "def compress_blocks(blocks):\n",
    "    \"\"\"\n",
    "    Compress blocks -> is a seqencing algorithm in a nutshell \n",
    "    \"\"\"\n",
    "    array = [0 for _ in range(200)]\n",
    "    for b in blocks:\n",
    "        for i in range (b[0], b[1]+1):\n",
    "            array[i] = 1\n",
    "    new_blocks = []\n",
    "    last_open = 0\n",
    "    opened_block = False\n",
    "    last_closed = 0\n",
    "    for k in range(200):\n",
    "        if array[k] == 1:\n",
    "            if not opened_block:\n",
    "                opened_block = True\n",
    "                last_open = k\n",
    "            last_closed = k \n",
    "        else:\n",
    "            if opened_block:\n",
    "                opened_block = False\n",
    "                new_blocks.append((last_open, last_closed))\n",
    "    return new_blocks, array\n",
    "\n",
    "def find_last_sig_bit(mask):\n",
    "    \"\"\"\n",
    "    Used to find holes\n",
    "    \"\"\"\n",
    "    index = len(mask)-1\n",
    "    while not mask[index]:\n",
    "        index -= 1\n",
    "    return index\n",
    "\n",
    "def create_world_knowledge(peer_id, tx_store, inv_seen):\n",
    "    # all transactions seen by \n",
    "    peer_knows_peer = {}\n",
    "\n",
    "    for tx in sorted(inv_seen[peer_id], key=lambda tx_id: (int(tx_id.split('_')[0]), int(tx_id.split('_')[1]))):\n",
    "        #if int(tx.split('_')[0]) == peer_id:\n",
    "        #    continue \n",
    "        # to peer knows about the from_peer\n",
    "        # This is confirmation block \n",
    "        f_peer  = int(tx_store[tx]['tx']['from_peer'])\n",
    "        t_peer = int(tx_store[tx]['tx']['to_peer'])\n",
    "        \n",
    "        if f_peer not in peer_knows_peer.keys():\n",
    "            peer_knows_peer[f_peer] = {}\n",
    "        if t_peer not in peer_knows_peer.keys():\n",
    "            peer_knows_peer[t_peer] = {}\n",
    "        \n",
    "        if 'link' not in tx_store[tx].keys():\n",
    "            # The transaction was never confirmed by counterparty - potentially not seen! \n",
    "            continue\n",
    "        if t_peer not in peer_knows_peer[f_peer].keys():\n",
    "            peer_knows_peer[f_peer][t_peer] = set()\n",
    "\n",
    "        if f_peer not in peer_knows_peer[t_peer].keys():\n",
    "            peer_knows_peer[t_peer][f_peer] = set()\n",
    "        peer_knows_peer[f_peer][t_peer].add(tx_store[tx][\"seq\"])\n",
    "        peer_knows_peer[t_peer][f_peer].add(tx_store[tx][\"link\"])        \n",
    "        \n",
    "    return peer_knows_peer\n",
    "\n",
    "def enchance_dataset(inverted_seen, tx_store, window):\n",
    "    \"\"\"\n",
    "    Enchance dataset with validation protocol \n",
    "    \"\"\"\n",
    "    import copy\n",
    "    new_inverted_seen = copy.deepcopy(inverted_seen)\n",
    "    num_not_seen = 0\n",
    "    num_not_seen_link = 0\n",
    "    num_unconfirmed = 0\n",
    "    added_tx = 0\n",
    "    \n",
    "    for t in tx_store.values():\n",
    "        t_peer = int(t['tx']['to_peer'])\n",
    "        f_peer = int(t['tx']['from_peer'])\n",
    "        \n",
    "        if 'seq' not in t.keys():\n",
    "            print(t)\n",
    "            \n",
    "        seq = int(t['seq'])\n",
    "            \n",
    "        if 'link' not in t.keys():\n",
    "            num_unconfirmed += 1\n",
    "            continue\n",
    "            \n",
    "        link = int(t['link'])    \n",
    "\n",
    "        if str(f_peer)+\"_\"+str(seq) in inverted_seen[t_peer]:\n",
    "            for i in range(max(1, seq-window), seq):\n",
    "                k1 = str(f_peer)+\"_\"+str(i)\n",
    "                if k1 not in new_inverted_seen[t_peer]:\n",
    "                    new_inverted_seen[t_peer].add(k1)\n",
    "                    added_tx+=1\n",
    "        else:\n",
    "            num_not_seen+=1\n",
    "\n",
    "        if str(t_peer)+\"_\"+str(link) in inverted_seen[f_peer]:\n",
    "            for i in range(max(1, link-window), link):\n",
    "                k1 = str(t_peer)+\"_\"+str(i)\n",
    "                if k1 not in new_inverted_seen[f_peer]:\n",
    "                    new_inverted_seen[f_peer].add(k1)\n",
    "                    added_tx+=1\n",
    "        else:\n",
    "            num_not_seen_link += 1  \n",
    "            \n",
    "    print(\"Transactions never seen by linked peer: %s; Link block never seen by source peer %s,\\n \\\n",
    "          uncofirmed trnsactions %s\" % (num_not_seen, num_not_seen_link, num_unconfirmed))\n",
    "    print(\"Number of transactions added \", added_tx)\n",
    "    return new_inverted_seen\n",
    "\n",
    "def create_inp(peer_knowledge, target_peer, window):\n",
    "    \"\"\"\n",
    "    Create knowledge with window verification\n",
    "    \"\"\"\n",
    "    if target_peer not in peer_knowledge.keys():\n",
    "        return None\n",
    "    else:\n",
    "        peers_labels = peer_knowledge[target_peer].keys()\n",
    "        peers_num =  len(peer_knowledge[target_peer].keys())\n",
    "        \n",
    "        inp = \"\"\n",
    "        full_mask = [0 for _ in range(200)]\n",
    "\n",
    "        for p in peers_labels:\n",
    "            blocks = [(max(k-window, 1),k) for k in peer_knowledge[target_peer][p]]\n",
    "            new_blocks, array_mask = compress_blocks(blocks)\n",
    "            full_mask = np.logical_or(full_mask, array_mask)\n",
    "            for b in new_blocks:\n",
    "                inp = inp + str(p) + str(\",\") + str(b[0])+str(\",\")+str(b[1])+str(\",\")+str(\"In\") + \"\\n\"\n",
    "\n",
    "        last_index = find_last_sig_bit(full_mask)\n",
    "        full_mask = full_mask[:last_index]\n",
    "        holes = np.where(full_mask == False)[0][1:]\n",
    "\n",
    "        return (inp, holes)\n",
    "\n",
    "def show_peer_dna(inp):\n",
    "    df = pd.read_csv(io.StringIO(inp), header=None, names=[\"Task\", \"Start\", \"Finish\", \"Resource\"] )\n",
    "    df[\"Diff\"] = df.Finish - df.Start\n",
    "\n",
    "    color = {\"In\":\"crimson\", \"Out\":\"crimson\"}\n",
    "    fig,ax=plt.subplots(figsize=(9,6))\n",
    "\n",
    "    fig.suptitle(\"Peer's %s knowledge about peer %s \"%(wv_peer, target_peer), fontsize=15)\n",
    "    labels=[]\n",
    "    for i, task in enumerate(df.groupby(\"Task\")):\n",
    "        labels.append(task[0])\n",
    "        for r in task[1].groupby(\"Resource\"):\n",
    "            data = r[1][[\"Start\", \"Diff\"]]\n",
    "            ax.broken_barh(data.values, (i-0.4,0.6), color=color[r[0]] )\n",
    "\n",
    "    ax.set_yticks(range(len(labels)))\n",
    "    ax.set_yticklabels(labels) \n",
    "    ax.set_xlabel(\"Blocks\")\n",
    "    plt.tight_layout()       \n",
    "    plt.show()\n",
    "    \n",
    "def add_edge(G: nx.Graph, wv_know, p):\n",
    "    for p2 in wv_know[p].keys():\n",
    "        if not G.has_edge(p2, p):\n",
    "            G.add_edge(p2, p)\n",
    "            add_edge(G, wv_know, p2)\n",
    "\n",
    "def form_local_graph(peer_id, tx_store,  inverted_seen):\n",
    "    local_graph = nx.Graph()\n",
    "    wv_know = create_world_knowledge(peer_id, tx_store, inverted_seen)\n",
    "    add_edge(local_graph, wv_know, peer_id)\n",
    "    return local_graph\n",
    "    \n",
    "\n",
    "# Random broadcasting\n",
    "\n",
    "def decide_next_peers(source, target_peer, known_graph, depth):\n",
    "    next_peers = set()\n",
    "    if target_peer not in known_graph:\n",
    "        return next_peers\n",
    "\n",
    "    for paths in map(lambda p:\n",
    "                     map(lambda path: path[1],\n",
    "                         filter(lambda path: path[1] != target_peer,\n",
    "                                nx.all_simple_paths(known_graph, source=source, target=p, cutoff=depth))),\n",
    "                     nx.neighbors(known_graph, target_peer)):\n",
    "        next_peers |= set(paths)\n",
    "    return next_peers\n",
    "\n",
    "def broadcast(topology, initiator, depth, source, target, broadacast_fanout, random=False):\n",
    "    res = set()\n",
    "    if depth == 0:\n",
    "        return (res,0)\n",
    "    if not random:\n",
    "        my_local_graph = form_local_graph(source, tx_store, inverted_seen)\n",
    "        next_peers = decide_next_peers(source, target, my_local_graph, depth) - {initiator} \n",
    "    else:\n",
    "        next_peers = set()\n",
    "        \n",
    "    if len(next_peers) < broadacast_fanout: \n",
    "        # There is not enough knowledge to make decision -> use random neighbours  \n",
    "        my_neigh = set(topology[source]) - {target, initiator}\n",
    "        next_peers = next_peers | set(np.random.choice(list(my_neigh), broadacast_fanout, replace=False))\n",
    "    \n",
    "    if len(next_peers) > broadacast_fanout:\n",
    "        # There is much more peers send this round - decrease fanout for next peers \n",
    "        # Choose only broadacast_fanout\n",
    "        next_peers = set(np.random.choice(list(next_peers), broadacast_fanout, replace=False))\n",
    "    messages_send = 0\n",
    "    for p in next_peers:\n",
    "        res.add(p)\n",
    "        val_res = broadcast(topology, source, depth-1, p, target, broadacast_fanout)\n",
    "        res = res | val_res[0]\n",
    "        messages_send += val_res[1] + 1\n",
    "    return (res, messages_send)\n",
    "    \n",
    "\n",
    "    \n",
    "    "
   ]
  },
  {
   "cell_type": "markdown",
   "metadata": {},
   "source": [
    "## Initialize experiments dataset"
   ]
  },
  {
   "cell_type": "code",
   "execution_count": 1116,
   "metadata": {},
   "outputs": [],
   "source": [
    "\n",
    "def calc_diff(vec1, vec2, ids1, ids2):\n",
    "    if not np.array_equal(ids1, ids2):     \n",
    "        iter_set = ids2\n",
    "        main_set = ids1\n",
    "        \n",
    "        main_vec = vec1\n",
    "        sub_vec = vec2\n",
    "        \n",
    "        if len(ids1) < len(ids2):\n",
    "            iter_set = ids1\n",
    "            main_set = ids2\n",
    "            \n",
    "            main_vec = vec2\n",
    "            sub_vec = vec1\n",
    "            \n",
    "            print(\"Main set is 2 vector\")\n",
    "        else:\n",
    "            print(\"Main set is 1 vector\")\n",
    "            \n",
    "        ix = np.isin(main_set, iter_set)\n",
    "        vals = np.where(ix)\n",
    "        \n",
    "        vec3 = main_vec[vals] - sub_vec       \n",
    "    else:\n",
    "        print(\"Main set is 1 vector\")\n",
    "        vec3 = vec1-vec2\n",
    "    return (np.sum(vec3), np.max(vec3), np.mean(vec3))\n",
    "\n",
    "        "
   ]
  },
  {
   "cell_type": "code",
   "execution_count": null,
   "metadata": {},
   "outputs": [],
   "source": [
    "res_vector_f = {}\n",
    "res_vector_fr = {}\n",
    "res_vector_p = {}\n",
    "res_vector_pr = {}\n",
    "vector_ids = {}\n",
    "\n",
    "def get_exp_id(*vals):\n",
    "    res = \"\"\n",
    "    for v in vals:\n",
    "        res = res + \"_\" +str(v)\n",
    "    return res    \n",
    "\n"
   ]
  },
  {
   "cell_type": "markdown",
   "metadata": {},
   "source": [
    "## Create transactions store from the csv file"
   ]
  },
  {
   "cell_type": "code",
   "execution_count": 1118,
   "metadata": {},
   "outputs": [],
   "source": [
    "tx_store = {}\n",
    "inverted_seen = {}\n",
    "# Read trustchain transactions\n",
    "ledger_path = \"PeerTrustchainLedgers/Exp_1000_5.csv\"\n",
    "precent_lost = 0.5\n",
    "max_time_val = 90.\n",
    "\n",
    "\n",
    "with open(ledger_path) as read_file:\n",
    "    first = True\n",
    "    csv_reader = csv.reader(read_file)\n",
    "    first = True\n",
    "    for row in csv_reader:\n",
    "        if first:\n",
    "            first = False\n",
    "        else:\n",
    "            i = 0\n",
    "            if 'database' in ledger_path:\n",
    "                i = 1\n",
    "                time = None\n",
    "            else:\n",
    "                time = float(row[0])\n",
    "                \n",
    "            tx = ast.literal_eval(row[1-i])\n",
    "            seq_num = int(row[2-i])\n",
    "            link = int(row[3-i])\n",
    "            seen_by = int(row[4-i])\n",
    "            \n",
    "            if time:\n",
    "                # Cut by time\n",
    "                if time > (1-precent_lost)*max_time_val:\n",
    "                    continue\n",
    "            else:\n",
    "                # Cut randomly \n",
    "                if random() < precent_lost:\n",
    "                    continue\n",
    "            \n",
    "            if seen_by not in inverted_seen.keys():\n",
    "                inverted_seen[seen_by] = set()                \n",
    "            \n",
    "            if link != 0:\n",
    "                # This is confirmation for the transaction\n",
    "                tx_id = str(tx['from_peer'])+\"_\"+str(link)\n",
    "                try:\n",
    "                    tx_store[tx_id][\"seen_confirm\"].add(seen_by)\n",
    "                except KeyError as e:\n",
    "                    tx_store[tx_id] = {\"tx\":tx, \"seen\": set(), \"seen_confirm\": {seen_by}}\n",
    "                    \n",
    "                tx_store[tx_id][\"seq\"] = link\n",
    "                tx_store[tx_id][\"link\"] = seq_num\n",
    "                # Send \n",
    "                tx_id_inv = str(tx['to_peer']) + \"_\" + str(seq_num)\n",
    "                tx_store[tx_id_inv] = tx_store[tx_id].copy()\n",
    "                inverted_seen[seen_by].add(tx_id)\n",
    "                inverted_seen[seen_by].add(tx_id_inv)\n",
    "            else:\n",
    "                tx_id = str(tx['from_peer'])+\"_\"+str(seq_num)\n",
    "                if tx_id not in tx_store.keys():\n",
    "                    tx_store[tx_id] = {\"tx\":tx, \"seen\": set(), \"seen_confirm\": set()}\n",
    "                tx_store[tx_id][\"seq\"] = seq_num\n",
    "                tx_store[tx_id][\"seen\"].add(seen_by)\n",
    "                inverted_seen[seen_by].add(tx_id)\n",
    "\n",
    "# Read overlay connection\n",
    "G = nx.Graph()\n",
    "with open(\"PeerTrustchainLedgers/Exp_1000_5.peers.log\") as read_file:\n",
    "    first = True\n",
    "    for vals in read_file.readlines():\n",
    "        if first:\n",
    "            first = False\n",
    "        else:\n",
    "            peer_a, peer_b = vals.split(',')\n",
    "            G.add_edge(int(peer_a), int(peer_b))"
   ]
  },
  {
   "cell_type": "markdown",
   "metadata": {},
   "source": [
    "## Enchance the dataset with window crawler\n",
    "\n",
    "Crawler might be off for the peers dataset, we can emulate that peer also crawls block with a crawl window `window`\n"
   ]
  },
  {
   "cell_type": "code",
   "execution_count": null,
   "metadata": {},
   "outputs": [],
   "source": [
    "# Enchance the dataset with window\n",
    "window = 5\n",
    "n_inv = enchance_dataset(inverted_seen, tx_store, window)\n",
    "print(\"Total transactions\", len(tx_store))"
   ]
  },
  {
   "cell_type": "markdown",
   "metadata": {},
   "source": [
    "## Double Spend Experiments\n",
    "\n",
    "We choose a source and an adversary connected to that source. The goal of adversary is to hide double spend. \n",
    "Adversary chooses another neighbour and hides the block by not broadcasting it. \n",
    "Source peer and choosen peer are honest and are trying to decrease the probability of double spend by broadcasting block to the neighbours. \n",
    "\n",
    "There are two possibilities for broadcasting: \n",
    "\n",
    "1. Informed decision using the best knowledge peer has: broadcast the blocks to the neighbours of the adversary(they are likely to be cheated)\n",
    "2. Randomly broadcast the blocks \n"
   ]
  },
  {
   "cell_type": "code",
   "execution_count": 1124,
   "metadata": {},
   "outputs": [],
   "source": [
    "stats = {}\n",
    "\n",
    "num_exp = 50\n",
    "source = 1\n",
    "adv = 950\n",
    "depth = 2\n",
    "random = True\n",
    "fanout = 8\n",
    "dataset = inverted_seen\n",
    "\n",
    "adv_network = form_local_graph(adv, tx_store, dataset)\n",
    "adv_set = set(adv_network[adv]) - {source, adv}\n",
    "\n",
    "for source_2 in adv_set:    \n",
    "\n",
    "    stats[source_2] = {} \n",
    "    stats[source_2][\"messages\"] = []\n",
    "    stats[source_2][\"f\"] = []\n",
    "    stats[source_2][\"total\"] = []\n",
    "    stats[source_2][\"f_r\"] = []\n",
    "\n",
    "    for _ in range(num_exp):\n",
    "        peers_1 = broadcast(G, initiator=source, depth=depth, source=source, target=adv, broadacast_fanout=fanout, random=random)\n",
    "        peers_999 = broadcast(G, initiator=source_2, depth=depth, source=source_2, target=adv, broadacast_fanout=fanout, random=random)\n",
    "\n",
    "        stats[source_2][\"messages\"].append(peers_1[1])\n",
    "        stats[source_2][\"f\"].append(len(peers_1[0] & peers_999[0]))\n",
    "        stats[source_2][\"total\"].append(len(peers_1[0] | peers_999[0]))\n",
    "        stats[source_2][\"f_r\"].append(len(set(G[950]) & peers_1[0] & peers_999[0]))    \n"
   ]
  },
  {
   "cell_type": "markdown",
   "metadata": {},
   "source": [
    "## Add experiment results to vector"
   ]
  },
  {
   "cell_type": "code",
   "execution_count": 1121,
   "metadata": {},
   "outputs": [],
   "source": [
    "f = 0\n",
    "prefix = \"50know\"\n",
    "experiment = prefix+get_exp_id(num_exp, source, adv, depth, fanout, random)\n",
    "res_vector_f[experiment] = []\n",
    "res_vector_fr[experiment] = []\n",
    "res_vector_p[experiment] = []\n",
    "res_vector_pr[experiment] = []\n",
    "vector_ids[experiment] = []\n",
    "\n",
    "\n",
    "for s in adv_set:\n",
    "    el = np.array(stats[s]['f'])\n",
    "    el_r = np.array(stats[s]['f_r'])\n",
    "\n",
    "    fault = len(np.where( el > f)[0]) / float(len(el))\n",
    "    fault_r = len(np.where( el_r > f)[0]) / float(len(el_r)) \n",
    "    res_vector_f[experiment].append(fault)\n",
    "    res_vector_fr[experiment].append(fault_r)\n",
    "    res_vector_p[experiment].append(np.median(el))\n",
    "    res_vector_pr[experiment].append(np.median(el_r)) \n",
    "    vector_ids[experiment].append(s)\n",
    "\n",
    "res_vector_f[experiment] = np.array(res_vector_f[experiment])\n",
    "res_vector_fr[experiment] = np.array(res_vector_fr[experiment])\n",
    "res_vector_p[experiment] = np.array(res_vector_p[experiment])\n",
    "res_vector_pr[experiment] = np.array(res_vector_pr[experiment])"
   ]
  },
  {
   "cell_type": "markdown",
   "metadata": {},
   "source": [
    "## Compare two vectors"
   ]
  },
  {
   "cell_type": "code",
   "execution_count": 1123,
   "metadata": {},
   "outputs": [
    {
     "name": "stdout",
     "output_type": "stream",
     "text": [
      " SUM    MAX      MEAN\n",
      "Main set is 1 vector\n",
      "(0.040000000000000036, 0.040000000000000036, 0.00235294117647059)\n",
      "Main set is 1 vector\n",
      "(2.0600000000000005, 0.52, 0.12117647058823533)\n",
      "Main set is 1 vector\n",
      "(-0.5, 1.0, -0.029411764705882353)\n",
      "Main set is 1 vector\n",
      "(3.0, 1.0, 0.17647058823529413)\n"
     ]
    }
   ],
   "source": [
    "# The decision based on knowledge is better then random\n",
    "print( \" SUM                  MAX                MEAN\")\n",
    "val1 = '75know_50_1_950_2_8_False'\n",
    "val2 = '50know_50_1_950_2_8_False'\n",
    "\n",
    "id1 = np.array(vector_ids[val1])\n",
    "id2 = np.array(vector_ids[val2])\n",
    "\n",
    "print(calc_diff(res_vector_f[val1], res_vector_f[val2], id1, id2))\n",
    "print(calc_diff(res_vector_fr[val1], res_vector_fr[val2], id1, id2))\n",
    "print(calc_diff(res_vector_p[val1], res_vector_p[val2], id1, id2))\n",
    "print(calc_diff(res_vector_pr[val1], res_vector_pr[val2], id1, id2))\n"
   ]
  },
  {
   "cell_type": "code",
   "execution_count": null,
   "metadata": {},
   "outputs": [],
   "source": []
  },
  {
   "cell_type": "code",
   "execution_count": 1031,
   "metadata": {},
   "outputs": [
    {
     "name": "stdout",
     "output_type": "stream",
     "text": [
      " SUM    MAX      MEAN\n",
      "(-0.040000000000000036, 0.040000000000000036, -0.0015384615384615398)\n",
      "(-9.46, 0.08000000000000002, -0.3638461538461538)\n",
      "(-24.0, 1.0, -0.9230769230769231)\n",
      "(-31.0, 0.0, -1.1923076923076923)\n"
     ]
    }
   ],
   "source": [
    "# The decision based on knowledge is better then random\n",
    "print( \" SUM    MAX      MEAN\")\n",
    "print(calc_diff(res_vector_f['_50_1_950_2_8_True'], res_vector_f['_50_1_950_2_8_False']))\n",
    "print(calc_diff(res_vector_fr['_50_1_950_2_8_True'], res_vector_fr['_50_1_950_2_8_False']))\n",
    "print(calc_diff(res_vector_p['_50_1_950_2_8_True'], res_vector_p['_50_1_950_2_8_False']))\n",
    "print(calc_diff(res_vector_pr['_50_1_950_2_8_True'], res_vector_pr['_50_1_950_2_8_False']))"
   ]
  },
  {
   "cell_type": "code",
   "execution_count": 1021,
   "metadata": {},
   "outputs": [
    {
     "name": "stdout",
     "output_type": "stream",
     "text": [
      " SUM    MAX      MEAN\n",
      "(0.07999999999999996, 0.08999999999999997, 0.003076923076923075)\n",
      "(-0.22999999999999998, 0.21999999999999997, -0.008846153846153846)\n",
      "(-0.5, 1.0, -0.019230769230769232)\n",
      "(1.0, 1.0, 0.038461538461538464)\n"
     ]
    }
   ],
   "source": [
    "print( \" SUM    MAX      MEAN\")\n",
    "print(calc_diff(res_vector_f['_100_1_950_2_8_False'], res_vector_f['_20_1_950_2_8_False']))\n",
    "print(calc_diff(res_vector_fr['_100_1_950_2_8_False'], res_vector_fr['_20_1_950_2_8_False']))\n",
    "print(calc_diff(res_vector_p['_100_1_950_2_8_False'], res_vector_p['_20_1_950_2_8_False']))\n",
    "print(calc_diff(res_vector_pr['_100_1_950_2_8_False'], res_vector_pr['_20_1_950_2_8_False']))"
   ]
  },
  {
   "cell_type": "code",
   "execution_count": 981,
   "metadata": {},
   "outputs": [
    {
     "data": {
      "image/png": "[encoded data removed]",
      "text/plain": [
       "<Figure size 576x576 with 1 Axes>"
      ]
     },
     "metadata": {
      "needs_background": "light"
     },
     "output_type": "display_data"
    }
   ],
   "source": [
    "fig = plt.figure(3, figsize=(8,8)) \n",
    "plt.title(\"Number of peers seen both transactions\")\n",
    "plt.hist(stats[\"f\"])\n",
    "plt.show()"
   ]
  },
  {
   "cell_type": "code",
   "execution_count": null,
   "metadata": {},
   "outputs": [],
   "source": []
  },
  {
   "cell_type": "code",
   "execution_count": 1126,
   "metadata": {},
   "outputs": [
    {
     "data": {
      "image/png": "[encoded data removed]",
      "text/plain": [
       "<Figure size 648x432 with 1 Axes>"
      ]
     },
     "metadata": {
      "needs_background": "light"
     },
     "output_type": "display_data"
    }
   ],
   "source": [
    "# Analyse the world from the perspective of peer wv\n",
    "wv_peer  = 950\n",
    "# The peer who needs to be analysed \n",
    "target_peer = 1\n",
    "# Validation window\n",
    "window = 5\n",
    "\n",
    "peer_knows_peer = create_world_knowledge(wv_peer, tx_store, inverted_seen)\n",
    "inp = create_inp(peer_knows_peer, target_peer, window)\n",
    "if inp is None:\n",
    "    print(\"Peer is not known\")\n",
    "else:\n",
    "    show_peer_dna(inp[0])"
   ]
  },
  {
   "cell_type": "markdown",
   "metadata": {},
   "source": [
    "## Peers interaction simulation"
   ]
  },
  {
   "cell_type": "markdown",
   "metadata": {},
   "source": [
    "## Set-reconcilation with cuckoo filters"
   ]
  },
  {
   "cell_type": "markdown",
   "metadata": {},
   "source": [
    "### One filter per account?\n",
    "\n",
    "The performance of the filter will degrade with more values inserted. \n",
    "To improve performance we need to introduce moving window of the elements, or limit the number of transactions. \n",
    "\n",
    "Filter will be filled with transaction id/hash. \n",
    "\n",
    "Having a filter and a new transaction one can check quickly if the transacion is inserted in the right time. \n",
    "Bloom clock \n",
    "\n"
   ]
  },
  {
   "cell_type": "markdown",
   "metadata": {},
   "source": [
    "## Transaction "
   ]
  },
  {
   "cell_type": "markdown",
   "metadata": {},
   "source": [
    "Transaction is a state transaction of a Peer A from $T_k: s_k -> s_{k+1}$. \n",
    "\n",
    "State can be represented as a Bloom clock? Counting Bloom Filter or Cuckoo filter\n",
    "\n",
    "Each peer has own clock, event happend can be computed -> $H_k(B)+=1$ for each $H_k$. This will update certain cells in the clock. \n",
    "\n",
    "Transactions with different peers can be executed concurrently and later merged. \n"
   ]
  },
  {
   "cell_type": "code",
   "execution_count": null,
   "metadata": {},
   "outputs": [],
   "source": []
  }
 ],
 "metadata": {
  "kernelspec": {
   "display_name": "Python 3",
   "language": "python",
   "name": "python3"
  },
  "language_info": {
   "codemirror_mode": {
    "name": "ipython",
    "version": 3
   },
   "file_extension": ".py",
   "mimetype": "text/x-python",
   "name": "python",
   "nbconvert_exporter": "python",
   "pygments_lexer": "ipython3",
   "version": "3.7.2"
  }
 },
 "nbformat": 4,
 "nbformat_minor": 2
}
