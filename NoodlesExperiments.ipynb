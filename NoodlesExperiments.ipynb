{
 "cells": [
  {
   "cell_type": "markdown",
   "metadata": {},
   "source": [
    "# Experiments with Trustchain Data"
   ]
  },
  {
   "cell_type": "code",
   "execution_count": 2,
   "metadata": {},
   "outputs": [],
   "source": [
    "%matplotlib inline\n",
    "import csv\n",
    "import networkx as nx\n",
    "import matplotlib.pyplot as plt\n",
    "import itertools\n",
    "import collections\n",
    "import numpy as np\n",
    "import ast\n",
    "import pandas as pd\n",
    "import io"
   ]
  },
  {
   "cell_type": "markdown",
   "metadata": {},
   "source": [
    "### Fetch transactions and peer confirmations"
   ]
  },
  {
   "cell_type": "code",
   "execution_count": 3,
   "metadata": {},
   "outputs": [],
   "source": [
    "tx_store = {}\n",
    "inverted_seen = {}\n",
    "# Read trustchain transactions\n",
    "with open(\"Datasets/leader_blocks_time_agg_1000_15.csv\") as read_file:\n",
    "    first = True\n",
    "    csv_reader = csv.reader(read_file)\n",
    "    first = True\n",
    "    for row in csv_reader:\n",
    "        if first:\n",
    "            first = False\n",
    "        else:\n",
    "            # time, transaction, seq_num, link, seen_by \n",
    "            time = float(row[0])\n",
    "            tx = ast.literal_eval(row[1])\n",
    "            seq_num = int(row[2])\n",
    "            link = int(row[3])\n",
    "            seen_by = int(row[4])\n",
    "            \n",
    "            if seen_by not in inverted_seen.keys():\n",
    "                inverted_seen[seen_by] = set()\n",
    "                \n",
    "            tx_id = str(tx['from_peer'])+\"_\"+str(seq_num)\n",
    "            if tx_id not in tx_store.keys():\n",
    "                tx_store[tx_id] = {\"tx\":tx, \"seen\": set(), \"seen_confirm\": set()}\n",
    "            if link != 0:\n",
    "                # This is confirmation for the transaction\n",
    "                tx_id = str(tx['from_peer'])+\"_\"+str(link)\n",
    "                try:\n",
    "                    tx_store[tx_id][\"seen_confirm\"].add(seen_by)\n",
    "                except KeyError as e:\n",
    "                    tx_store[tx_id] = {\"tx\":tx, \"seen\": set(), \"seen_confirm\": {seen_by}}\n",
    "                    \n",
    "                tx_store[tx_id][\"tx\"][\"seq\"] = link\n",
    "                tx_store[tx_id][\"tx\"][\"link\"] = seq_num\n",
    "                # Send \n",
    "                tx_id_inv = str(tx['to_peer']) + \"_\" + str(seq_num)\n",
    "                tx_store[tx_id_inv] = tx_store[tx_id]\n",
    "                inverted_seen[seen_by].add(tx_id)\n",
    "                inverted_seen[seen_by].add(tx_id_inv)\n",
    "            else:\n",
    "                tx_store[tx_id][\"tx\"][\"seq\"] = seq_num\n",
    "                tx_store[tx_id][\"seen\"].add(seen_by)\n",
    "                inverted_seen[seen_by].add(tx_id)\n"
   ]
  },
  {
   "cell_type": "raw",
   "metadata": {},
   "source": [
    "\"\"\"\n",
    "Read peer connections - overlay network \n",
    "\n",
    "\n",
    "G = nx.Graph()\n",
    "with open(\"PeerTrustchainLedgers/peer_connections_1.txt\") as read_file:\n",
    "    first = True\n",
    "    for vals in read_file.readlines():\n",
    "        if first:\n",
    "            first = False\n",
    "        else:\n",
    "            peer_a, peer_b = vals.split(',')\n",
    "            G.add_edge(int(peer_a), int(peer_b))\n",
    "            \n",
    "\"\"\""
   ]
  },
  {
   "cell_type": "code",
   "execution_count": 52,
   "metadata": {},
   "outputs": [],
   "source": [
    "def compress_blocks(blocks):\n",
    "    \"\"\"\n",
    "    Compress blocks -> is a seqencing algorithm in a nutshell \n",
    "    \"\"\"\n",
    "    array = [0 for _ in range(200)]\n",
    "    for b in blocks:\n",
    "        for i in range (b[0], b[1]+1):\n",
    "            array[i] = 1\n",
    "    new_blocks = []\n",
    "    last_open = 0\n",
    "    opened_block = False\n",
    "    last_closed = 0\n",
    "    for k in range(200):\n",
    "        if array[k] == 1:\n",
    "            if not opened_block:\n",
    "                opened_block = True\n",
    "                last_open = k\n",
    "            last_closed = k \n",
    "        else:\n",
    "            if opened_block:\n",
    "                opened_block = False\n",
    "                new_blocks.append((last_open, last_closed))\n",
    "    return new_blocks, array\n",
    "\n",
    "def find_last_sig_bit(mask):\n",
    "    \"\"\"\n",
    "    Used to find holes\n",
    "    \"\"\"\n",
    "    index = len(mask)-1\n",
    "    while not mask[index]:\n",
    "        index -= 1\n",
    "    return index\n",
    "\n",
    "def create_world_knowledge(peer_id, tx_store, inverted_seen):\n",
    "    # all transactions seen by \n",
    "    peer_knows_peer = {}\n",
    "\n",
    "    for tx in sorted(inverted_seen[peer_id], key=lambda tx_id: int(tx_id.split('_')[1])):\n",
    "        #if int(tx.split('_')[0]) == peer_id:\n",
    "        #    continue \n",
    "        # to peer knows about the from_peer\n",
    "        # This is confirmation block \n",
    "        f_peer  = int(tx_store[tx]['tx']['from_peer'])\n",
    "        t_peer = int(tx_store[tx]['tx']['to_peer'])\n",
    "        \n",
    "        if f_peer not in peer_knows_peer.keys():\n",
    "            peer_knows_peer[f_peer] = {}\n",
    "        if t_peer not in peer_knows_peer.keys():\n",
    "            peer_knows_peer[t_peer] = {}\n",
    "        \n",
    "        if 'link' not in tx_store[tx]['tx'].keys():\n",
    "            # The transaction was never confirmed by counterparty - potentially not seen! \n",
    "            continue\n",
    "\n",
    "        if tx_store[tx]['tx']['link'] == int(tx.split('_')[1]):\n",
    "            # We see confirmation transaction from the counterparty \n",
    "            # Update our knowledge \n",
    "\n",
    "\n",
    "            if t_peer not in peer_knows_peer[f_peer].keys():\n",
    "                peer_knows_peer[f_peer][t_peer] = set()\n",
    "            \n",
    "            # F Peer was verified by T Peer up to SEQ num\n",
    "            peer_knows_peer[f_peer][t_peer].add(tx_store[tx]['tx'][\"seq\"])\n",
    "        \n",
    "        if f_peer not in peer_knows_peer[t_peer].keys():\n",
    "                peer_knows_peer[t_peer][f_peer] = set()\n",
    "        # T peer was verified by F Peer upto link block        \n",
    "        peer_knows_peer[t_peer][f_peer].add(tx_store[tx]['tx'][\"link\"])\n",
    "    return peer_knows_peer\n",
    "            "
   ]
  },
  {
   "cell_type": "code",
   "execution_count": 69,
   "metadata": {},
   "outputs": [
    {
     "name": "stdout",
     "output_type": "stream",
     "text": [
      "Number of block holes in our world view 6\n",
      "Last known block 56\n",
      "Holes: \n",
      "[14 15 22 23 24 25]\n"
     ]
    }
   ],
   "source": [
    "# Analyse the world from the perspective of peer wv\n",
    "wv_peer  = 950 \n",
    "# The peer who needs to be analysed \n",
    "target_peer = 1\n",
    "# Validation window\n",
    "window = 5\n",
    "\n",
    "peer_knows_peer = create_world_knowledge(wv_peer, tx_store, inverted_seen)\n",
    "\n",
    "\n",
    "if target_peer not in peer_knows_peer.keys():\n",
    "    print(\"Peer is unknown\")\n",
    "else:\n",
    "    peers_labels = peer_knows_peer[target_peer].keys()\n",
    "    peers_num =  len(peer_knows_peer[target_peer].keys())\n",
    "\n",
    "    inp = \"\"\n",
    "    full_mask = [0 for _ in range(200)]\n",
    "\n",
    "    for p in peers_labels:\n",
    "        blocks = [(max(k-window, 1),k) for k in peer_knows_peer[target_peer][p]]\n",
    "        new_blocks, array_mask = compress_blocks(blocks)\n",
    "        full_mask = np.logical_or(full_mask, array_mask)\n",
    "        for b in new_blocks:\n",
    "            inp = inp + str(p) + str(\",\") + str(b[0])+str(\",\")+str(b[1])+str(\",\")+str(\"In\") + \"\\n\"\n",
    "\n",
    "    last_index = find_last_sig_bit(full_mask)\n",
    "    full_mask = full_mask[:last_index]\n",
    "    holes = np.where(full_mask == False)[0][1:]\n",
    "    number_of_holes = len(holes)\n",
    "\n",
    "    print(\"Number of block holes in our world view \"+ str(number_of_holes))\n",
    "    print(\"Last known block \"+str(last_index))\n",
    "    if number_of_holes > 0:\n",
    "        print(\"Holes: \")\n",
    "        print(holes)\n"
   ]
  },
  {
   "cell_type": "code",
   "execution_count": 62,
   "metadata": {},
   "outputs": [
    {
     "data": {
      "image/png": "[encoded data removed]",
      "text/plain": [
       "<Figure size 648x432 with 1 Axes>"
      ]
     },
     "metadata": {
      "needs_background": "light"
     },
     "output_type": "display_data"
    }
   ],
   "source": [
    "df = pd.read_csv(io.StringIO(inp), header=None, names=[\"Task\", \"Start\", \"Finish\", \"Resource\"] )\n",
    "df[\"Diff\"] = df.Finish - df.Start\n",
    "\n",
    "color = {\"In\":\"crimson\", \"Out\":\"crimson\"}\n",
    "fig,ax=plt.subplots(figsize=(9,6))\n",
    "\n",
    "fig.suptitle(\"Peer's %s knowledge about peer %s \"%(wv_peer, target_peer), fontsize=15)\n",
    "labels=[]\n",
    "for i, task in enumerate(df.groupby(\"Task\")):\n",
    "    labels.append(task[0])\n",
    "    for r in task[1].groupby(\"Resource\"):\n",
    "        data = r[1][[\"Start\", \"Diff\"]]\n",
    "        ax.broken_barh(data.values, (i-0.4,0.6), color=color[r[0]] )\n",
    "\n",
    "ax.set_yticks(range(len(labels)))\n",
    "ax.set_yticklabels(labels) \n",
    "ax.set_xlabel(\"Blocks\")\n",
    "plt.tight_layout()       \n",
    "plt.show()"
   ]
  },
  {
   "cell_type": "code",
   "execution_count": 68,
   "metadata": {},
   "outputs": [
    {
     "data": {
      "image/png": "[encoded data removed]",
      "text/plain": [
       "<Figure size 648x432 with 1 Axes>"
      ]
     },
     "metadata": {
      "needs_background": "light"
     },
     "output_type": "display_data"
    }
   ],
   "source": [
    "df = pd.read_csv(io.StringIO(inp), header=None, names=[\"Task\", \"Start\", \"Finish\", \"Resource\"] )\n",
    "df[\"Diff\"] = df.Finish - df.Start\n",
    "\n",
    "color = {\"In\":\"crimson\", \"Out\":\"crimson\"}\n",
    "fig,ax=plt.subplots(figsize=(9,6))\n",
    "\n",
    "fig.suptitle(\"Peer's %s knowledge about peer %s \"%(wv_peer, target_peer), fontsize=15)\n",
    "labels=[]\n",
    "for i, task in enumerate(df.groupby(\"Task\")):\n",
    "    labels.append(task[0])\n",
    "    for r in task[1].groupby(\"Resource\"):\n",
    "        data = r[1][[\"Start\", \"Diff\"]]\n",
    "        ax.broken_barh(data.values, (i-0.4,0.6), color=color[r[0]] )\n",
    "\n",
    "ax.set_yticks(range(len(labels)))\n",
    "ax.set_yticklabels(labels) \n",
    "ax.set_xlabel(\"Blocks\")\n",
    "plt.tight_layout()       \n",
    "plt.show()"
   ]
  },
  {
   "cell_type": "code",
   "execution_count": 70,
   "metadata": {},
   "outputs": [
    {
     "data": {
      "image/png": "[encoded data removed]",
      "text/plain": [
       "<Figure size 648x432 with 1 Axes>"
      ]
     },
     "metadata": {
      "needs_background": "light"
     },
     "output_type": "display_data"
    }
   ],
   "source": [
    "df = pd.read_csv(io.StringIO(inp), header=None, names=[\"Task\", \"Start\", \"Finish\", \"Resource\"] )\n",
    "df[\"Diff\"] = df.Finish - df.Start\n",
    "\n",
    "color = {\"In\":\"crimson\", \"Out\":\"crimson\"}\n",
    "fig,ax=plt.subplots(figsize=(9,6))\n",
    "\n",
    "fig.suptitle(\"Peer's %s knowledge about peer %s \"%(wv_peer, target_peer), fontsize=15)\n",
    "labels=[]\n",
    "for i, task in enumerate(df.groupby(\"Task\")):\n",
    "    labels.append(task[0])\n",
    "    for r in task[1].groupby(\"Resource\"):\n",
    "        data = r[1][[\"Start\", \"Diff\"]]\n",
    "        ax.broken_barh(data.values, (i-0.4,0.6), color=color[r[0]] )\n",
    "\n",
    "ax.set_yticks(range(len(labels)))\n",
    "ax.set_yticklabels(labels) \n",
    "ax.set_xlabel(\"Blocks\")\n",
    "plt.tight_layout()       \n",
    "plt.show()"
   ]
  },
  {
   "cell_type": "markdown",
   "metadata": {},
   "source": [
    "## Peers interaction simulation"
   ]
  },
  {
   "cell_type": "markdown",
   "metadata": {},
   "source": [
    "## Set-reconcilation with cuckoo filters"
   ]
  },
  {
   "cell_type": "markdown",
   "metadata": {},
   "source": [
    "### One filter per account?\n",
    "\n",
    "The performance of the filter will degrade with more values inserted. \n",
    "To improve performance we need to introduce moving window of the elements, or limit the number of transactions. \n",
    "\n",
    "Filter will be filled with transaction id/hash. \n",
    "\n",
    "Having a filter and a new transaction one can check quickly if the transacion is inserted in the right time. \n",
    "Bloom clock \n",
    "\n"
   ]
  },
  {
   "cell_type": "markdown",
   "metadata": {},
   "source": [
    "## Transaction "
   ]
  },
  {
   "cell_type": "markdown",
   "metadata": {},
   "source": [
    "Transaction is a state transaction of a Peer A from $T_k: s_k -> s_{k+1}$. \n",
    "\n",
    "State can be represented as a Bloom clock? Counting Bloom Filter or Cuckoo filter\n",
    "\n",
    "Each peer has own clock, event happend can be computed -> $H_k(B)+=1$ for each $H_k$. This will update certain cells in the clock. \n",
    "\n",
    "Transactions with different peers can be executed concurrently and later merged. \n"
   ]
  },
  {
   "cell_type": "code",
   "execution_count": null,
   "metadata": {},
   "outputs": [],
   "source": []
  }
 ],
 "metadata": {
  "kernelspec": {
   "display_name": "Python 3",
   "language": "python",
   "name": "python3"
  },
  "language_info": {
   "codemirror_mode": {
    "name": "ipython",
    "version": 3
   },
   "file_extension": ".py",
   "mimetype": "text/x-python",
   "name": "python",
   "nbconvert_exporter": "python",
   "pygments_lexer": "ipython3",
   "version": "3.6.8"
  }
 },
 "nbformat": 4,
 "nbformat_minor": 2
}
