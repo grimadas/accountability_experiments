{
 "cells": [
  {
   "cell_type": "code",
   "execution_count": 29,
   "metadata": {},
   "outputs": [],
   "source": [
    "%matplotlib inline\n",
    "import csv\n",
    "import networkx as nx\n",
    "import matplotlib.pyplot as plt\n",
    "import itertools\n",
    "import collections\n",
    "import numpy as np\n",
    "import ast\n",
    "import pandas as pd\n",
    "import io\n",
    "from random import random, randint"
   ]
  },
  {
   "cell_type": "markdown",
   "metadata": {},
   "source": [
    "# Account clock experiments\n",
    "\n",
    "- Each account has two sets: Spend Set and Claim Set: \n",
    "    + Sets are essentially an array, where each index corresonds to the transaction partner (input or output)\n",
    "    + Each set value is an aggregate of total balance: total up/ total down\n",
    "    + Claim set with index zero is minting claim and such claim must be provided with a proof of minting\n",
    "- Each transaction has link to the two set aggregate. \n",
    "\n"
   ]
  },
  {
   "cell_type": "markdown",
   "metadata": {},
   "source": [
    "### Create an interaction network"
   ]
  },
  {
   "cell_type": "code",
   "execution_count": 90,
   "metadata": {},
   "outputs": [
    {
     "name": "stdout",
     "output_type": "stream",
     "text": [
      "25886\n",
      "64299\n"
     ]
    },
    {
     "data": {
      "image/png": "[encoded data removed]",
      "text/plain": [
       "<Figure size 432x288 with 1 Axes>"
      ]
     },
     "metadata": {
      "needs_background": "light"
     },
     "output_type": "display_data"
    }
   ],
   "source": [
    "from math import log\n",
    "\n",
    "# Auxilary functions\n",
    "def construct_graph(filename):\n",
    "    G = nx.Graph()\n",
    "    with open(filename, \"r\") as csvfile:\n",
    "        first = True\n",
    "        for k in csvfile:\n",
    "            if first:\n",
    "                first = False\n",
    "                continue\n",
    "            a, b = k.split(\",\")\n",
    "            G.add_edge(int(a), int(b))\n",
    "    return G\n",
    "\n",
    "    \n",
    "def query_neighbors(G, p1, pn):\n",
    "    '''\n",
    "    p1 queries pn about neighbors of the graph G\n",
    "    '''\n",
    "    # Honest answer\n",
    "    return G[pn]\n",
    "\n",
    "\n",
    "# initialize peers/ Create and Overlay network  \n",
    "N = 500\n",
    "#G = construct_graph(\"GraphDynamics/peer_connections.log.txt\")\n",
    "M = N**(1/3) * N\n",
    "p = (log(N) - log(log(N))+1)/(1-log(log(N))/3)\n",
    "p = p / N\n",
    "#G = nx.gnp_random_graph(N, p)\n",
    "#G = nx.gnm_random_graph(N, p*N*N)\n",
    "\n",
    "G = nx.read_gml(\"Datasets/ripple-graph.gml\")\n",
    "#G = G.to_undirected()10012\n",
    "#G = construct_graph(\"/home/bulat/project/DetectionExperiments/noodles/Datasets/test_peers_q.log\")\n",
    "# Discovery community after 210 seconds \n",
    "print(G.number_of_nodes())\n",
    "print(G.number_of_edges())\n",
    "x = sorted([d for n, d in G.degree()], reverse=True)\n",
    "\n",
    "fig = plt.figure()\n",
    "ax = fig.add_subplot(111)\n",
    "n, bins, rectangles = ax.hist(x, 100, density=False)\n",
    "fig.canvas.draw()\n",
    "plt.show()\n",
    "\n",
    "\n"
   ]
  },
  {
   "cell_type": "markdown",
   "metadata": {},
   "source": [
    "## Experiments with clocks"
   ]
  },
  {
   "cell_type": "code",
   "execution_count": 298,
   "metadata": {},
   "outputs": [
    {
     "name": "stdout",
     "output_type": "stream",
     "text": [
      "25886\n",
      "64299\n"
     ]
    },
    {
     "data": {
      "image/png": "[encoded data removed]",
      "text/plain": [
       "<Figure size 432x288 with 1 Axes>"
      ]
     },
     "metadata": {
      "needs_background": "light"
     },
     "output_type": "display_data"
    }
   ],
   "source": [
    "\n",
    "class State:\n",
    "    def __init__(self, my_id, neigh_set):\n",
    "        self.claim_set = {k:0 for k in neigh_set}\n",
    "        self.spend_set = {k:0 for k in neigh_set}\n",
    "        self.claim_set[my_id] = 0\n",
    "    \n",
    "    def compress(self):\n",
    "        return (self.claim_set, self.spend_set)\n",
    "\n",
    "class Peer:\n",
    "    ''' \n",
    "    Partner must have enough balance. For this we need to calculate spends and claims:\n",
    "      1. All spends must be fullfilled. Nothing should be missed\n",
    "        - Peer can synchronize with other parties to ensure that. \n",
    "        - Depending on the double spending policy, peer must decide what to do if double spending happends.\n",
    "          Potentially, all spends, including double spends might be accounted. \n",
    "          Otherwise peer when detecting can exlude other peer.  \n",
    "      2. Claims must be valid. A valid claim must fullfill following conditions: \n",
    "        - Claim must initally come from a trusted/verified source, either trusted minter, miner, transaction fee, etc.\n",
    "        - If claim does not come from the peer itself(minting, mining), the previous owner balance must be accountable.\n",
    "        - If the transaction links to the peer itself, the transaction is valid. \n",
    "        - Otherwise the claim has a vector clock of last timestamp. \n",
    "          Such timestamp can be used as the verification pointer for the third party. \n",
    "          For example, A has a balance estimation for the peer B at timestamp (0, 2, 1, 10). \n",
    "          Then if C comes to A with a spend from B that is older than the timestamp, claim of C that is linked to this timestamp is valid. \n",
    "        - Peer cannot verify everything directly. A confirmation from at least K near witness would convince peer A.   \n",
    "    '''\n",
    "    def __init__(self, my_id, neigh_set, chain_budget=100, peer_budget=10, wit_count=3, weight_set=None):\n",
    "        self.my_id = my_id\n",
    "        self.neigh_set = neigh_set\n",
    "        self.weight_set = weight_set\n",
    "        self.chain = []\n",
    "        self.last_neigh_chain = {k:0 for k in neigh_set}\n",
    "        \n",
    "        self.state = State(self.my_id, self.neigh_set)\n",
    "        \n",
    "        self.incoming_spend_set = {k:0 for k in neigh_set}\n",
    "        self.verified_balance = dict()\n",
    "        \n",
    "        self.C_B = chain_budget\n",
    "        self.P_B = peer_budget\n",
    "        \n",
    "        self.wit_count = wit_count\n",
    "\n",
    "    def balance(self):\n",
    "        return sum(self.state.claim_set.values()) - sum(self.state.spend_set.values())\n",
    "    \n",
    "    def mint(self, num):\n",
    "        self.state.claim_set[self.my_id] += num\n",
    "        self.chain.append((self.my_id, num))\n",
    "    \n",
    "    def spend(self, par, num):\n",
    "        self.state.spend_set[par] += num\n",
    "        self.chain.append((par, -num))\n",
    "        \n",
    "    def random_spend_claim(self, num, t=1):\n",
    "        if self.weight_set:\n",
    "            # randomness should be biased with a weight set            \n",
    "            val1 = sorted([(w['weight'], n) for n,w in self.weight_set.items()], reverse=True)\n",
    "            sum1 = sum((pair[0] for pair in val1))\n",
    "            \n",
    "            par = None\n",
    "            cur_ind = 0\n",
    "            \n",
    "            rand = randint(0, sum1 - 1)\n",
    "            for v in val1:\n",
    "                if cur_ind + v[0] > rand:\n",
    "                    par = v[1]\n",
    "                    break\n",
    "                cur_ind += v[0]\n",
    "        else:\n",
    "            par = np.random.choice(self.neigh_set, t)\n",
    "            \n",
    "        if self.balance() > num: \n",
    "            self.spend(par, num)        \n",
    "            if peers[par].claim(self.my_id, num):\n",
    "                return par\n",
    "            else:\n",
    "                return (None, par)\n",
    "        else: \n",
    "            return self.my_id\n",
    "    \n",
    "    def estimate_balance(self, par, spends, claims):\n",
    "        # Account all spends\n",
    "        total_spends = sum(spends.values())\n",
    "        # Account claims that are first directly verifiable: \n",
    "        #  claims that are mint, or claims given by my peer        \n",
    "        total_claim = claims[par]\n",
    "        if self.my_id in claims:\n",
    "            total_claim+=claims[self.my_id]\n",
    "        unverified_claims = list()\n",
    "        # Check peer that are known and verified to some extend \n",
    "        for k in set(claims.keys())-{self.my_id, par}:\n",
    "            # TODO: count in timestamps too/ Now it assumes it is recent\n",
    "            if claims[k] == 0:\n",
    "                continue\n",
    "            if k in self.verified_balance:\n",
    "                total_claim += claims[k]\n",
    "            else:\n",
    "                # Peer is not known, need additional verification\n",
    "                # Check witnesses \n",
    "                count = 0\n",
    "                for w in self.neigh_set:\n",
    "                    if k in peers[w].verified_balance:\n",
    "                        count+=1 \n",
    "                if count > len(self.neigh_set)/self.wit_count + 1:\n",
    "                    total_claim+=claims[k]\n",
    "                else:\n",
    "                    unverified_claims.append((claims[k], k))\n",
    "        return (total_claim-total_spends, unverified_claims)\n",
    "    \n",
    "        \n",
    "    def try_sync(self, par, K, max_depth):\n",
    "        #print(\"Sync \", par, \" on node \", self.my_id)\n",
    "        # K budget for the synchronization \n",
    "        if par not in self.last_neigh_chain:\n",
    "            self.last_neigh_chain[par] = 0\n",
    "        if len(peers[par].chain) - self.last_neigh_chain[par] < K:\n",
    "            # Get the whole chain TODO: fix that\n",
    "            self.last_neigh_chain[par] = len(peers[par].chain)\n",
    "            bal, left = self.estimate_balance(par, peers[par].state.spend_set, \n",
    "                                                           peers[par].state.claim_set)\n",
    "            if bal >= 0:\n",
    "                if par not in self.verified_balance:\n",
    "                    self.verified_balance[par] = bal\n",
    "                return True\n",
    "            else:\n",
    "                if max_depth > 1:\n",
    "                    sorted_left  = sorted(left, reverse=True)\n",
    "                    for val, peer in sorted_left:\n",
    "                        if self.try_sync(peer, self.C_B, max_depth-1):\n",
    "                            bal+= val\n",
    "                            if bal >= 0:\n",
    "                                if par not in self.verified_balance:\n",
    "                                    self.verified_balance[par] = bal\n",
    "                                return True\n",
    "        return False\n",
    "\n",
    "    \n",
    "    def verify_claim(self, par, num):\n",
    "        if self.incoming_spend_set[par] + num != peers[par].state.spend_set[self.my_id]:\n",
    "            # Something is wrong, your partner spend more than you recorded \n",
    "            print(\"Not synchronized\")\n",
    "            return False\n",
    "        # Estimate balance of the peer 'par'\n",
    "        # Assuming you know everything about the peer\n",
    "        balance, unverified_claims = self.estimate_balance(par, peers[par].state.spend_set, \n",
    "                                                           peers[par].state.claim_set)\n",
    "        \n",
    "        # Balance from the estimation is positive 3\n",
    "        if balance >= 0:\n",
    "            if par not in self.verified_balance:\n",
    "                self.verified_balance[par] = balance\n",
    "            return True\n",
    "        \n",
    "        # Not enough balance/ Need to verify other claims \n",
    "        \n",
    "        # Otherwise use witnesses/ or download some blocks \n",
    "        \n",
    "        sorted_left  = sorted(unverified_claims, reverse=True)\n",
    "        for val, peer in sorted_left:                \n",
    "            if self.try_sync(peer, self.C_B, self.P_B):\n",
    "                balance+=val\n",
    "\n",
    "            \n",
    "        if balance < 0: \n",
    "                return False\n",
    "        else:\n",
    "            if par not in self.verified_balance:\n",
    "                self.verified_balance[par] = balance\n",
    "            return True\n",
    "    \n",
    "    \n",
    "    def claim(self, par, num):\n",
    "        if self.verify_claim(par, num):\n",
    "            self.state.claim_set[par] += num\n",
    "            self.chain.append((par, num))\n",
    "            self.last_neigh_chain[par] =  len(peers[par].chain)\n",
    "            self.incoming_spend_set[par] += num\n",
    "            return True\n",
    "        else:\n",
    "            self.incoming_spend_set[par] += num\n",
    "            return False\n",
    "print(G.number_of_nodes())\n",
    "print(G.number_of_edges())\n",
    "x = sorted([d for n, d in G.degree()], reverse=True)\n",
    "\n",
    "fig = plt.figure()\n",
    "ax = fig.add_subplot(111)\n",
    "n, bins, rectangles = ax.hist(x, 100, density=False)\n",
    "fig.canvas.draw()\n",
    "plt.show()\n"
   ]
  },
  {
   "cell_type": "markdown",
   "metadata": {},
   "source": [
    "## Build a random network "
   ]
  },
  {
   "cell_type": "code",
   "execution_count": 128,
   "metadata": {},
   "outputs": [],
   "source": [
    "# Make mapping \n",
    "cont_map = dict()\n",
    "cont_map_inv = dict()\n",
    "ind = 0\n",
    "for g in G.nodes():\n",
    "    cont_map[g] = ind\n",
    "    cont_map_inv[ind] = g\n",
    "    ind+=1"
   ]
  },
  {
   "cell_type": "code",
   "execution_count": 136,
   "metadata": {},
   "outputs": [],
   "source": [
    "N = G.number_of_nodes()\n",
    "#G = construct_graph(\"GraphDynamics/peer_connections.log.txt\")\n",
    "M = N**(1/3) * N\n",
    "p = (log(N) - log(log(N))+1)/(1-log(log(N))/3)\n",
    "p = p / N\n",
    "G_o =  nx.gnp_random_graph(N, p)"
   ]
  },
  {
   "cell_type": "code",
   "execution_count": 137,
   "metadata": {},
   "outputs": [],
   "source": [
    "nx.set_node_attributes(G_o, cont_map_inv, \"map\")"
   ]
  },
  {
   "cell_type": "code",
   "execution_count": 172,
   "metadata": {},
   "outputs": [
    {
     "name": "stdout",
     "output_type": "stream",
     "text": [
      "{'3': {'weight': 2}, '623': {'weight': 1}, '633': {'weight': 1}, '128': {'weight': 42}, '1792': {'weight': 2}, '1961': {'weight': 2}, '2251': {'weight': 6}, '2531': {'weight': 1}, '2792': {'weight': 1}, '2823': {'weight': 7}, '3775': {'weight': 5}, '4090': {'weight': 4}, '4991': {'weight': 2}, '5027': {'weight': 13}, '5591': {'weight': 2}, '6302': {'weight': 6}, '6756': {'weight': 1}, '7589': {'weight': 2}, '8029': {'weight': 2}, '8253': {'weight': 1}, '8416': {'weight': 1}, '8469': {'weight': 14}, '2258': {'weight': 5}, '1678': {'weight': 3}, '10404': {'weight': 1}, '9505': {'weight': 4}, '10564': {'weight': 1}, '10777': {'weight': 1}, '10973': {'weight': 13}, '11059': {'weight': 1}, '11336': {'weight': 2}, '1635': {'weight': 10}, '12117': {'weight': 6}, '12153': {'weight': 1}, '2256': {'weight': 2}, '12237': {'weight': 4}, '12595': {'weight': 11}, '12635': {'weight': 1}, '12659': {'weight': 13}, '12662': {'weight': 14}, '2239': {'weight': 1}, '12749': {'weight': 4}, '4': {'weight': 2}, '13509': {'weight': 1}, '13537': {'weight': 1}, '12462': {'weight': 6}, '13165': {'weight': 4}, '15920': {'weight': 2}, '1168': {'weight': 7}, '13140': {'weight': 13}, '13589': {'weight': 4}, '12844': {'weight': 1}, '8692': {'weight': 4}, '18439': {'weight': 1}, '994': {'weight': 1}, '13241': {'weight': 2}, '255': {'weight': 5}, '5865': {'weight': 13}, '12823': {'weight': 11}, '13633': {'weight': 1}, '13604': {'weight': 9}, '22618': {'weight': 1}, '13591': {'weight': 1}, '4801': {'weight': 20}, '13613': {'weight': 2}, '13469': {'weight': 1}, '1573': {'weight': 2}, '13606': {'weight': 6}, '13603': {'weight': 3}, '1780': {'weight': 4}, '4314': {'weight': 6}, '12840': {'weight': 1}, '8691': {'weight': 9}, '1069': {'weight': 8}, '12897': {'weight': 6}, '13611': {'weight': 2}, '13549': {'weight': 7}}\n"
     ]
    }
   ],
   "source": [
    "print(G['7'])\n",
    "target = '13165'\n",
    "source = '7'\n"
   ]
  },
  {
   "cell_type": "code",
   "execution_count": 295,
   "metadata": {},
   "outputs": [
    {
     "data": {
      "text/plain": [
       "True"
      ]
     },
     "execution_count": 295,
     "metadata": {},
     "output_type": "execute_result"
    }
   ],
   "source": []
  },
  {
   "cell_type": "code",
   "execution_count": 175,
   "metadata": {},
   "outputs": [
    {
     "data": {
      "text/plain": [
       "40"
      ]
     },
     "execution_count": 175,
     "metadata": {},
     "output_type": "execute_result"
    }
   ],
   "source": [
    "H.degree['7']"
   ]
  },
  {
   "cell_type": "code",
   "execution_count": 176,
   "metadata": {},
   "outputs": [],
   "source": [
    "nx.write_gml(H, \"Datasets/ripple-random.gml\")"
   ]
  },
  {
   "cell_type": "code",
   "execution_count": 154,
   "metadata": {},
   "outputs": [],
   "source": [
    "H = nx.relabel_nodes(G_o, cont_map_inv)"
   ]
  },
  {
   "cell_type": "code",
   "execution_count": 173,
   "metadata": {},
   "outputs": [
    {
     "data": {
      "text/plain": [
       "[['7', '14902', '23243', '13165'],\n",
       " ['7', '17734', '12474', '13165'],\n",
       " ['7', '38170', '33767', '13165'],\n",
       " ['7', '40174', '20399', '13165']]"
      ]
     },
     "execution_count": 173,
     "metadata": {},
     "output_type": "execute_result"
    }
   ],
   "source": [
    "list(nx.simple_paths.all_simple_paths(H, source, target, cutoff=3))"
   ]
  },
  {
   "cell_type": "markdown",
   "metadata": {},
   "source": [
    "## Build greedy graph"
   ]
  },
  {
   "cell_type": "code",
   "execution_count": 281,
   "metadata": {},
   "outputs": [],
   "source": [
    "def calc_undir_weight(G, n):\n",
    "    return sum((w['weight'] for k, w in G[n].items()))\n",
    "\n",
    "def calc_claim_weight(G, n):\n",
    "    return sum((w['weight'] for k, w in G.pred[ n].items()))\n",
    "    \n",
    "def calc_spend_weight(G, n):\n",
    "    return sum((w['weight'] for k, w in G.succ[n].items()))\n"
   ]
  },
  {
   "cell_type": "code",
   "execution_count": 256,
   "metadata": {},
   "outputs": [],
   "source": [
    "top_claims = sorted(((calc_claim_weight(G, n), n) for n in G.nodes()), reverse=True)\n",
    "top_spends = sorted(((calc_spend_weight(G, n), n) for n in G.nodes()), reverse=True)"
   ]
  },
  {
   "cell_type": "code",
   "execution_count": 292,
   "metadata": {},
   "outputs": [],
   "source": [
    "def add_edges(G, J, g, mode='in'):\n",
    "    add_nodes = set()\n",
    "    \n",
    "    if mode == 'in':\n",
    "        edge_set = G.in_edges(g)\n",
    "    else:\n",
    "        edge_set = G.out_edges(g)\n",
    "\n",
    "    for e in edge_set:\n",
    "        if J.has_node(e[1]):\n",
    "            if J.degree[e[1]] < 40: \n",
    "                add_nodes.add((e[0], e[1], weights[e]))    \n",
    "    return add_nodes\n",
    "\n",
    "\n",
    "max_deg = 15\n",
    "min_deg = 10\n",
    "J = nx.Graph()\n",
    "\n",
    "for c,g in top_claims:\n",
    "    add_nodes = add_edges(G, J, g, 'out')\n",
    "    total_edges = len(add_nodes)\n",
    "\n",
    "    if total_edges < min_deg:\n",
    "        # Add from the out_edges \n",
    "        #add_nodes = add_nodes | add_edges(G, J, g, 'out')\n",
    "        if len(add_nodes) < min_deg:\n",
    "            # Add random connections in the network \n",
    "            rand_connect = set(np.random.choice(G.nodes(), min_deg-len(add_nodes), replace=False))\n",
    "            rand_connect = rand_connect - {g}\n",
    "            rand_set = set()\n",
    "            for k in rand_connect:\n",
    "                if (g,k) in weights:\n",
    "                    rand_set.add((g, k, weights[(g,k)]))\n",
    "                else:\n",
    "                    rand_set.add((g, k, 0))\n",
    "            J.add_weighted_edges_from(rand_set)\n",
    "    if total_edges < max_deg:\n",
    "        #include all transactions \n",
    "        J.add_weighted_edges_from(add_nodes)\n",
    "    else:\n",
    "        # Choose top max_deg\n",
    "        top_vals = sorted([(w_e[2],w_e[0], w_e[1]) for w_e in add_nodes], reverse=True)\n",
    "        top_edges = [(e_1, e_2, w) for w, e_1, e_2 in top_vals[:max_deg]]\n",
    "        J.add_weighted_edges_from(top_edges)\n",
    "\n"
   ]
  },
  {
   "cell_type": "code",
   "execution_count": 288,
   "metadata": {},
   "outputs": [
    {
     "name": "stdout",
     "output_type": "stream",
     "text": [
      "25886\n",
      "257004\n"
     ]
    },
    {
     "data": {
      "image/png": "[encoded data removed]",
      "text/plain": [
       "<Figure size 432x288 with 1 Axes>"
      ]
     },
     "metadata": {
      "needs_background": "light"
     },
     "output_type": "display_data"
    }
   ],
   "source": [
    "print(J.number_of_nodes())\n",
    "print(J.number_of_edges())\n",
    "x = sorted([d for n, d in J.degree()], reverse=True)\n",
    "\n",
    "fig = plt.figure()\n",
    "ax = fig.add_subplot(111)\n",
    "n, bins, rectangles = ax.hist(x, 100, density=False)\n",
    "fig.canvas.draw()\n",
    "plt.show()\n"
   ]
  },
  {
   "cell_type": "code",
   "execution_count": null,
   "metadata": {},
   "outputs": [],
   "source": []
  },
  {
   "cell_type": "code",
   "execution_count": 282,
   "metadata": {},
   "outputs": [
    {
     "name": "stdout",
     "output_type": "stream",
     "text": [
      "[(314444, '37605'), (314444, '37604'), (183739, '37601'), (182951, '37600'), (105930, '46'), (69389, '44'), (54588, '11'), (54008, '12'), (49642, '45'), (43828, '48199'), (43738, '48198'), (40217, '48182'), (40217, '48181'), (30272, '253'), (29848, '632'), (26541, '2339'), (23897, '47835'), (23897, '47834'), (21955, '31605'), (21952, '31606'), (20910, '78'), (20706, '35232'), (20696, '35231'), (19959, '401'), (19956, '2431'), (17445, '629'), (15078, '48144'), (14793, '77'), (14792, '110'), (14179, '48143'), (13736, '13'), (13474, '14'), (12577, '319'), (11588, '338'), (11448, '168'), (10807, '513'), (9319, '79'), (7918, '337'), (7470, '341'), (7017, '344'), (6984, '169'), (6863, '631'), (6531, '473'), (6367, '472'), (5409, '109'), (4874, '47713'), (4873, '47868'), (4869, '34791'), (4809, '34790'), (4542, '35360'), (4539, '35359'), (4503, '48152'), (4182, '47823'), (4150, '47822'), (4135, '47820'), (4086, '47819'), (3990, '269'), (3971, '802'), (3964, '69'), (3917, '29273'), (3914, '29766'), (3876, '2'), (3688, '34807'), (3685, '34808'), (3589, '22'), (3490, '1335'), (3469, '470'), (3153, '2099'), (2953, '887'), (2912, '47765'), (2911, '47764'), (2674, '15195'), (2609, '15196'), (2600, '4450'), (2586, '37'), (2576, '196'), (2567, '197'), (2516, '28090'), (2500, '5822'), (2311, '48154'), (2295, '48155'), (2281, '469'), (2162, '239'), (2159, '240'), (2111, '2798'), (2092, '352'), (2027, '655'), (1828, '211'), (1810, '33937'), (1803, '28105'), (1737, '295'), (1721, '13648'), (1713, '47866'), (1707, '47867'), (1685, '674'), (1653, '4580'), (1642, '28598'), (1632, '16'), (1599, '28671'), (1597, '15')]\n"
     ]
    }
   ],
   "source": [
    "top_claims = sorted(((calc_undir_weight(J, n), n) for n in J.nodes()), reverse=True)\n",
    "print(top_claims[:100])"
   ]
  },
  {
   "cell_type": "code",
   "execution_count": 323,
   "metadata": {},
   "outputs": [],
   "source": [
    "nx.write_gml(J, \"Datasets/ripple-greedy.gml\")"
   ]
  },
  {
   "cell_type": "code",
   "execution_count": null,
   "metadata": {},
   "outputs": [],
   "source": []
  },
  {
   "cell_type": "code",
   "execution_count": 157,
   "metadata": {},
   "outputs": [
    {
     "name": "stdout",
     "output_type": "stream",
     "text": [
      "Hop 2\n"
     ]
    }
   ],
   "source": [
    "target = '13140'\n",
    "check_set = set(H['4'])\n",
    "\n",
    "def verify(H, k, target):\n",
    "    check_set = set(H[k])\n",
    "    return target in check_set\n",
    "\n",
    "\n",
    "# Hop 1\n",
    "if verify(H, '4', target):\n",
    "    print(\"Hop 1\")\n",
    "# Hop 2\n",
    "print(\"Hop 2\")\n",
    "for k in H['4']:\n",
    "    if verify(H, k, target):\n",
    "        print(\"Target in \", k, \" neighb\")\n",
    "    else: \n",
    "\n",
    "\n",
    "    \n",
    "    \n",
    "    \n",
    "    "
   ]
  },
  {
   "cell_type": "code",
   "execution_count": 184,
   "metadata": {},
   "outputs": [],
   "source": [
    "d1 = dict(nx.shortest_path_length(H, '4'))"
   ]
  },
  {
   "cell_type": "code",
   "execution_count": 177,
   "metadata": {},
   "outputs": [
    {
     "data": {
      "text/plain": [
       "0.14982711261016385"
      ]
     },
     "execution_count": 177,
     "metadata": {},
     "output_type": "execute_result"
    }
   ],
   "source": [
    "nx.centrality.closenes(G, '4')"
   ]
  },
  {
   "cell_type": "code",
   "execution_count": null,
   "metadata": {},
   "outputs": [],
   "source": [
    "for g in G_o.nodes():\n",
    "    g.add"
   ]
  },
  {
   "cell_type": "code",
   "execution_count": 116,
   "metadata": {},
   "outputs": [
    {
     "name": "stdout",
     "output_type": "stream",
     "text": [
      "25886\n",
      "502211\n"
     ]
    },
    {
     "data": {
      "image/png": "[encoded data removed]",
      "text/plain": [
       "<Figure size 432x288 with 1 Axes>"
      ]
     },
     "metadata": {
      "needs_background": "light"
     },
     "output_type": "display_data"
    }
   ],
   "source": [
    "print(G_o.number_of_nodes())\n",
    "print(G_o.number_of_edges())\n",
    "x = sorted([d for n, d in G_o.degree()], reverse=True)\n",
    "\n",
    "fig = plt.figure()\n",
    "ax = fig.add_subplot(111)\n",
    "n, bins, rectangles = ax.hist(x, 100, density=False)\n",
    "fig.canvas.draw()\n",
    "plt.show()"
   ]
  },
  {
   "cell_type": "code",
   "execution_count": 125,
   "metadata": {},
   "outputs": [],
   "source": [
    "\n",
    "    "
   ]
  },
  {
   "cell_type": "markdown",
   "metadata": {},
   "source": [
    "## Intersection between overlay/content"
   ]
  },
  {
   "cell_type": "code",
   "execution_count": null,
   "metadata": {},
   "outputs": [],
   "source": [
    "x = sorted([(d,n) for n, d in G_o.degree()], reverse=True)\n",
    "for d,n in x[:30]:\n",
    "    dG[n]\n",
    "    cont_map[n]\n",
    "    \n",
    "    "
   ]
  },
  {
   "cell_type": "code",
   "execution_count": null,
   "metadata": {},
   "outputs": [],
   "source": []
  },
  {
   "cell_type": "code",
   "execution_count": 5,
   "metadata": {},
   "outputs": [],
   "source": [
    "x = sorted([(d,n) for n, d in G.degree()], reverse=True)\n",
    "initial_minters = [n for d,n in x[:10]]"
   ]
  },
  {
   "cell_type": "code",
   "execution_count": 52,
   "metadata": {},
   "outputs": [],
   "source": [
    "val1 = sorted([(w['weight'], n) for n,w in  dict(G['3']).items()], reverse=True)\n",
    "sum1 = sum((pair[0] for pair in val1))"
   ]
  },
  {
   "cell_type": "code",
   "execution_count": 35,
   "metadata": {},
   "outputs": [
    {
     "data": {
      "text/plain": [
       "5"
      ]
     },
     "execution_count": 35,
     "metadata": {},
     "output_type": "execute_result"
    }
   ],
   "source": [
    "[(2, '7'), (1, '4'), (1, '1528'), (1, '13140'), (1, '12844'), (1, '128')]"
   ]
  },
  {
   "cell_type": "code",
   "execution_count": null,
   "metadata": {},
   "outputs": [],
   "source": []
  },
  {
   "cell_type": "code",
   "execution_count": 55,
   "metadata": {},
   "outputs": [],
   "source": [
    "ind = None\n",
    "cur_ind = 0\n",
    "rand = randint(0, sum1 - 1)\n",
    "for v in val1:\n",
    "    if cur_ind + v[0] > rand:\n",
    "        ind = v[1]\n",
    "        break\n",
    "    cur_ind += v[0]"
   ]
  },
  {
   "cell_type": "code",
   "execution_count": null,
   "metadata": {},
   "outputs": [],
   "source": [
    "x = sorted([(d,n) for n, d in G.degree()], reverse=True)\n",
    "initial_minters = [n for d,n in x[:10]]"
   ]
  },
  {
   "cell_type": "code",
   "execution_count": 319,
   "metadata": {},
   "outputs": [
    {
     "name": "stdout",
     "output_type": "stream",
     "text": [
      "6020\n"
     ]
    }
   ],
   "source": [
    "peers = {k:Peer(k, list(J[k]), chain_budget=10000, peer_budget=3, wit_count=5, weight_set=dict(J[k])) for k in J.nodes()}\n",
    "\n",
    "t = 15\n",
    "tx_size = 1\n",
    "frontier = []\n",
    "failed_txs = 0\n",
    "failed = set()\n",
    "\n",
    "for k in initial_minters:\n",
    "    peers[k].mint(10000)\n",
    "    for l in range(t):\n",
    "        val = peers[k].random_spend_claim(tx_size)\n",
    "        if not val or type(val)==tuple:\n",
    "            failed_txs+=1\n",
    "            failed.add((k, val[1]))\n",
    "        else:\n",
    "            frontier.append(val)\n",
    "\n",
    "for h in range(3):\n",
    "    new_frontier = []\n",
    "    tx_size /= (t+1)\n",
    "    for k in frontier:\n",
    "        for l in range(t):\n",
    "            val = peers[k].random_spend_claim(tx_size)\n",
    "            if not val or type(val)==tuple:\n",
    "                failed_txs+=1\n",
    "                failed.add((k, val[1]))\n",
    "            else:\n",
    "                new_frontier.append(val)\n",
    "    frontier = new_frontier\n",
    "print(failed_txs)    "
   ]
  },
  {
   "cell_type": "markdown",
   "metadata": {},
   "source": [
    "## Total complexity per Peer"
   ]
  },
  {
   "cell_type": "markdown",
   "metadata": {},
   "source": [
    "### Burden for the transaction chain \n",
    "\n",
    "The more degree of the peer the higher the burden. \n"
   ]
  },
  {
   "cell_type": "code",
   "execution_count": 320,
   "metadata": {},
   "outputs": [
    {
     "name": "stdout",
     "output_type": "stream",
     "text": [
      "Total transaction in the system  1078790\n"
     ]
    },
    {
     "name": "stderr",
     "output_type": "stream",
     "text": [
      "/usr/local/lib/python3.6/dist-packages/ipykernel_launcher.py:8: MatplotlibDeprecationWarning: Adding an axes using the same arguments as a previous axes currently reuses the earlier instance.  In a future version, a new instance will always be created and returned.  Meanwhile, this warning can be suppressed, and the future behavior ensured, by passing a unique label to each axes instance.\n",
      "  \n"
     ]
    },
    {
     "data": {
      "image/png": "[encoded data removed]",
      "text/plain": [
       "<Figure size 432x288 with 1 Axes>"
      ]
     },
     "metadata": {
      "needs_background": "light"
     },
     "output_type": "display_data"
    }
   ],
   "source": [
    "x = sorted([ sum(peers[n].last_neigh_chain.values()) for n in G.nodes()], reverse=True)\n",
    "\n",
    "print(\"Total transaction in the system \",sum([len(peers[n].chain) for n in G.nodes()]))\n",
    "\n",
    "fig = plt.figure()\n",
    "plt.yscale(\"log\")\n",
    "#plt.xscale(\"log\")\n",
    "ax = fig.add_subplot(111)\n",
    "n, bins, rectangles = ax.hist(x, 20, density=False)\n",
    "fig.canvas.draw()\n",
    "plt.show()"
   ]
  },
  {
   "cell_type": "code",
   "execution_count": 318,
   "metadata": {},
   "outputs": [
    {
     "name": "stdout",
     "output_type": "stream",
     "text": [
      "Total transaction in the system  93469\n"
     ]
    },
    {
     "name": "stderr",
     "output_type": "stream",
     "text": [
      "/usr/local/lib/python3.6/dist-packages/ipykernel_launcher.py:8: MatplotlibDeprecationWarning: Adding an axes using the same arguments as a previous axes currently reuses the earlier instance.  In a future version, a new instance will always be created and returned.  Meanwhile, this warning can be suppressed, and the future behavior ensured, by passing a unique label to each axes instance.\n",
      "  \n"
     ]
    },
    {
     "data": {
      "image/png": "[encoded data removed]",
      "text/plain": [
       "<Figure size 432x288 with 1 Axes>"
      ]
     },
     "metadata": {
      "needs_background": "light"
     },
     "output_type": "display_data"
    }
   ],
   "source": [
    "x = sorted([ sum(peers[n].last_neigh_chain.values()) for n in G.nodes()], reverse=True)\n",
    "\n",
    "print(\"Total transaction in the system \",sum([len(peers[n].chain) for n in G.nodes()]))\n",
    "\n",
    "fig = plt.figure()\n",
    "plt.yscale(\"log\")\n",
    "#plt.xscale(\"log\")\n",
    "ax = fig.add_subplot(111)\n",
    "n, bins, rectangles = ax.hist(x, 20, density=False)\n",
    "fig.canvas.draw()\n",
    "plt.show()"
   ]
  },
  {
   "cell_type": "code",
   "execution_count": 313,
   "metadata": {},
   "outputs": [
    {
     "name": "stdout",
     "output_type": "stream",
     "text": [
      "Total transaction in the system  389064\n"
     ]
    },
    {
     "name": "stderr",
     "output_type": "stream",
     "text": [
      "/usr/local/lib/python3.6/dist-packages/ipykernel_launcher.py:8: MatplotlibDeprecationWarning: Adding an axes using the same arguments as a previous axes currently reuses the earlier instance.  In a future version, a new instance will always be created and returned.  Meanwhile, this warning can be suppressed, and the future behavior ensured, by passing a unique label to each axes instance.\n",
      "  \n"
     ]
    },
    {
     "data": {
      "image/png": "[encoded data removed]",
      "text/plain": [
       "<Figure size 432x288 with 1 Axes>"
      ]
     },
     "metadata": {
      "needs_background": "light"
     },
     "output_type": "display_data"
    }
   ],
   "source": [
    "x = sorted([ sum(peers[n].last_neigh_chain.values()) for n in G.nodes()], reverse=True)\n",
    "\n",
    "print(\"Total transaction in the system \",sum([len(peers[n].chain) for n in G.nodes()]))\n",
    "\n",
    "fig = plt.figure()\n",
    "plt.yscale(\"log\")\n",
    "#plt.xscale(\"log\")\n",
    "ax = fig.add_subplot(111)\n",
    "n, bins, rectangles = ax.hist(x, 20, density=False)\n",
    "fig.canvas.draw()\n",
    "plt.show()"
   ]
  },
  {
   "cell_type": "code",
   "execution_count": 311,
   "metadata": {},
   "outputs": [
    {
     "name": "stdout",
     "output_type": "stream",
     "text": [
      "Total transaction in the system  185961\n"
     ]
    },
    {
     "name": "stderr",
     "output_type": "stream",
     "text": [
      "/usr/local/lib/python3.6/dist-packages/ipykernel_launcher.py:8: MatplotlibDeprecationWarning: Adding an axes using the same arguments as a previous axes currently reuses the earlier instance.  In a future version, a new instance will always be created and returned.  Meanwhile, this warning can be suppressed, and the future behavior ensured, by passing a unique label to each axes instance.\n",
      "  \n"
     ]
    },
    {
     "data": {
      "image/png": "[encoded data removed]",
      "text/plain": [
       "<Figure size 432x288 with 1 Axes>"
      ]
     },
     "metadata": {
      "needs_background": "light"
     },
     "output_type": "display_data"
    }
   ],
   "source": [
    "x = sorted([ sum(peers[n].last_neigh_chain.values()) for n in G.nodes()], reverse=True)\n",
    "\n",
    "print(\"Total transaction in the system \",sum([len(peers[n].chain) for n in G.nodes()]))\n",
    "\n",
    "fig = plt.figure()\n",
    "plt.yscale(\"log\")\n",
    "#plt.xscale(\"log\")\n",
    "ax = fig.add_subplot(111)\n",
    "n, bins, rectangles = ax.hist(x, 20, density=False)\n",
    "fig.canvas.draw()\n",
    "plt.show()"
   ]
  },
  {
   "cell_type": "code",
   "execution_count": 301,
   "metadata": {},
   "outputs": [
    {
     "name": "stdout",
     "output_type": "stream",
     "text": [
      "Total transaction in the system  221888\n"
     ]
    },
    {
     "name": "stderr",
     "output_type": "stream",
     "text": [
      "/usr/local/lib/python3.6/dist-packages/ipykernel_launcher.py:8: MatplotlibDeprecationWarning: Adding an axes using the same arguments as a previous axes currently reuses the earlier instance.  In a future version, a new instance will always be created and returned.  Meanwhile, this warning can be suppressed, and the future behavior ensured, by passing a unique label to each axes instance.\n",
      "  \n"
     ]
    },
    {
     "data": {
      "image/png": "[encoded data removed]",
      "text/plain": [
       "<Figure size 432x288 with 1 Axes>"
      ]
     },
     "metadata": {
      "needs_background": "light"
     },
     "output_type": "display_data"
    }
   ],
   "source": [
    "x = sorted([ sum(peers[n].last_neigh_chain.values()) for n in G.nodes()], reverse=True)\n",
    "\n",
    "print(\"Total transaction in the system \",sum([len(peers[n].chain) for n in G.nodes()]))\n",
    "\n",
    "fig = plt.figure()\n",
    "plt.yscale(\"log\")\n",
    "#plt.xscale(\"log\")\n",
    "ax = fig.add_subplot(111)\n",
    "n, bins, rectangles = ax.hist(x, 20, density=False)\n",
    "fig.canvas.draw()\n",
    "plt.show()"
   ]
  },
  {
   "cell_type": "code",
   "execution_count": 7,
   "metadata": {},
   "outputs": [
    {
     "name": "stdout",
     "output_type": "stream",
     "text": [
      "Total transaction in the system  222140\n"
     ]
    },
    {
     "data": {
      "image/png": "[encoded data removed]",
      "text/plain": [
       "<Figure size 432x288 with 1 Axes>"
      ]
     },
     "metadata": {
      "needs_background": "light"
     },
     "output_type": "display_data"
    }
   ],
   "source": [
    "x = sorted([ sum(peers[n].last_neigh_chain.values()) for n in G.nodes()], reverse=True)\n",
    "\n",
    "print(\"Total transaction in the system \",sum([len(peers[n].chain) for n in G.nodes()]))\n",
    "\n",
    "fig = plt.figure()\n",
    "ax = fig.add_subplot(111)\n",
    "n, bins, rectangles = ax.hist(x, 20, density=False)\n",
    "fig.canvas.draw()\n",
    "plt.show()"
   ]
  },
  {
   "cell_type": "code",
   "execution_count": 70,
   "metadata": {},
   "outputs": [
    {
     "name": "stdout",
     "output_type": "stream",
     "text": [
      "Total transaction in the system  222121\n"
     ]
    },
    {
     "data": {
      "image/png": "[encoded data removed]",
      "text/plain": [
       "<Figure size 432x288 with 1 Axes>"
      ]
     },
     "metadata": {
      "needs_background": "light"
     },
     "output_type": "display_data"
    }
   ],
   "source": [
    "x = sorted([ sum(peers[n].last_neigh_chain.values()) for n in G.nodes()], reverse=True)\n",
    "\n",
    "print(\"Total transaction in the system \",sum([len(peers[n].chain) for n in G.nodes()]))\n",
    "\n",
    "fig = plt.figure()\n",
    "ax = fig.add_subplot(111)\n",
    "n, bins, rectangles = ax.hist(x, 20, density=False)\n",
    "fig.canvas.draw()\n",
    "plt.show()"
   ]
  },
  {
   "cell_type": "code",
   "execution_count": 10,
   "metadata": {},
   "outputs": [
    {
     "name": "stdout",
     "output_type": "stream",
     "text": [
      "Total transaction in the system  199149\n"
     ]
    },
    {
     "data": {
      "image/png": "[encoded data removed]",
      "text/plain": [
       "<Figure size 432x288 with 1 Axes>"
      ]
     },
     "metadata": {
      "needs_background": "light"
     },
     "output_type": "display_data"
    }
   ],
   "source": [
    "x = sorted([ sum(peers[n].last_neigh_chain.values()) for n in G.nodes()], reverse=True)\n",
    "\n",
    "print(\"Total transaction in the system \",sum([len(peers[n].chain) for n in G.nodes()]))\n",
    "\n",
    "fig = plt.figure()\n",
    "ax = fig.add_subplot(111)\n",
    "n, bins, rectangles = ax.hist(x, 20, density=False)\n",
    "fig.canvas.draw()\n",
    "plt.show()"
   ]
  },
  {
   "cell_type": "code",
   "execution_count": 8,
   "metadata": {},
   "outputs": [
    {
     "name": "stdout",
     "output_type": "stream",
     "text": [
      "Top by transaction burden \n",
      "(22744, 83, 30)\n",
      "(22565, 450, 24)\n",
      "(20671, 963, 25)\n",
      "(20615, 899, 24)\n",
      "(20515, 408, 28)\n",
      "(20309, 405, 33)\n",
      "(20269, 160, 20)\n",
      "(20247, 71, 18)\n",
      "(20035, 591, 24)\n",
      "(19979, 490, 28)\n",
      "(19762, 316, 25)\n",
      "(19423, 727, 21)\n",
      "(19249, 864, 28)\n",
      "(18887, 181, 33)\n",
      "(18879, 656, 21)\n",
      "(18823, 600, 33)\n",
      "(18813, 682, 27)\n",
      "(18722, 36, 18)\n",
      "(18596, 189, 19)\n",
      "(18454, 824, 36)\n",
      "Lowest by transaction burden \n",
      "(5241, 35, 18)\n",
      "(4955, 281, 17)\n",
      "(4832, 466, 14)\n",
      "(4816, 297, 21)\n",
      "(4809, 851, 17)\n",
      "(4796, 104, 12)\n",
      "(4784, 223, 17)\n",
      "(4642, 985, 17)\n",
      "(4632, 637, 14)\n",
      "(4247, 816, 17)\n",
      "(4184, 377, 26)\n",
      "(4138, 714, 16)\n",
      "(4031, 445, 20)\n",
      "(3879, 876, 19)\n",
      "(3678, 738, 17)\n",
      "(3658, 653, 17)\n",
      "(3245, 378, 22)\n",
      "(3228, 195, 19)\n",
      "(2515, 336, 9)\n",
      "(2236, 716, 14)\n"
     ]
    }
   ],
   "source": [
    "x = sorted([ (sum(peers[n].last_neigh_chain.values()), n, G.degree(n)) for n in G.nodes()], reverse=True)\n",
    "print(\"Top by transaction burden \", *x[:20], sep=\"\\n\")\n",
    "print(\"Lowest by transaction burden \", *x[-20:], sep=\"\\n\")"
   ]
  },
  {
   "cell_type": "markdown",
   "metadata": {},
   "source": [
    "### Burden for the known and verified peers\n",
    "\n",
    "\n",
    "The number of known/verified peers depends on two factors: \n",
    " - The degree of the node\n",
    " - Number of mining/minting. The minter usually have less burden on the known peers\n"
   ]
  },
  {
   "cell_type": "code",
   "execution_count": 321,
   "metadata": {},
   "outputs": [
    {
     "name": "stdout",
     "output_type": "stream",
     "text": [
      "Total peers in the system  25886\n"
     ]
    },
    {
     "name": "stderr",
     "output_type": "stream",
     "text": [
      "/usr/local/lib/python3.6/dist-packages/ipykernel_launcher.py:7: MatplotlibDeprecationWarning: Adding an axes using the same arguments as a previous axes currently reuses the earlier instance.  In a future version, a new instance will always be created and returned.  Meanwhile, this warning can be suppressed, and the future behavior ensured, by passing a unique label to each axes instance.\n",
      "  import sys\n"
     ]
    },
    {
     "data": {
      "image/png": "[encoded data removed]",
      "text/plain": [
       "<Figure size 432x288 with 1 Axes>"
      ]
     },
     "metadata": {
      "needs_background": "light"
     },
     "output_type": "display_data"
    }
   ],
   "source": [
    "x = sorted([ len(peers[n].last_neigh_chain.values()) for n in G.nodes()], reverse=True)\n",
    "print('Total peers in the system ', G.number_of_nodes())\n",
    "\n",
    "\n",
    "fig = plt.figure()\n",
    "plt.yscale(\"log\")\n",
    "ax = fig.add_subplot(111)\n",
    "n, bins, rectangles = ax.hist(x, 20, density=False)\n",
    "fig.canvas.draw()\n",
    "plt.show()"
   ]
  },
  {
   "cell_type": "code",
   "execution_count": 309,
   "metadata": {},
   "outputs": [
    {
     "name": "stdout",
     "output_type": "stream",
     "text": [
      "Total peers in the system  25886\n"
     ]
    },
    {
     "name": "stderr",
     "output_type": "stream",
     "text": [
      "/usr/local/lib/python3.6/dist-packages/ipykernel_launcher.py:7: MatplotlibDeprecationWarning: Adding an axes using the same arguments as a previous axes currently reuses the earlier instance.  In a future version, a new instance will always be created and returned.  Meanwhile, this warning can be suppressed, and the future behavior ensured, by passing a unique label to each axes instance.\n",
      "  import sys\n"
     ]
    },
    {
     "data": {
      "image/png": "[encoded data removed]",
      "text/plain": [
       "<Figure size 432x288 with 1 Axes>"
      ]
     },
     "metadata": {
      "needs_background": "light"
     },
     "output_type": "display_data"
    }
   ],
   "source": [
    "x = sorted([ len(peers[n].last_neigh_chain.values()) for n in G.nodes()], reverse=True)\n",
    "print('Total peers in the system ', G.number_of_nodes())\n",
    "\n",
    "\n",
    "fig = plt.figure()\n",
    "plt.yscale(\"log\")\n",
    "ax = fig.add_subplot(111)\n",
    "n, bins, rectangles = ax.hist(x, 20, density=False)\n",
    "fig.canvas.draw()\n",
    "plt.show()"
   ]
  },
  {
   "cell_type": "code",
   "execution_count": 302,
   "metadata": {},
   "outputs": [
    {
     "name": "stdout",
     "output_type": "stream",
     "text": [
      "Total peers in the system  25886\n"
     ]
    },
    {
     "name": "stderr",
     "output_type": "stream",
     "text": [
      "/usr/local/lib/python3.6/dist-packages/ipykernel_launcher.py:7: MatplotlibDeprecationWarning: Adding an axes using the same arguments as a previous axes currently reuses the earlier instance.  In a future version, a new instance will always be created and returned.  Meanwhile, this warning can be suppressed, and the future behavior ensured, by passing a unique label to each axes instance.\n",
      "  import sys\n"
     ]
    },
    {
     "data": {
      "image/png": "[encoded data removed]",
      "text/plain": [
       "<Figure size 432x288 with 1 Axes>"
      ]
     },
     "metadata": {
      "needs_background": "light"
     },
     "output_type": "display_data"
    }
   ],
   "source": [
    "x = sorted([ len(peers[n].last_neigh_chain.values()) for n in G.nodes()], reverse=True)\n",
    "print('Total peers in the system ', G.number_of_nodes())\n",
    "\n",
    "\n",
    "fig = plt.figure()\n",
    "plt.yscale(\"log\")\n",
    "ax = fig.add_subplot(111)\n",
    "n, bins, rectangles = ax.hist(x, 20, density=False)\n",
    "fig.canvas.draw()\n",
    "plt.show()"
   ]
  },
  {
   "cell_type": "code",
   "execution_count": 291,
   "metadata": {},
   "outputs": [
    {
     "name": "stdout",
     "output_type": "stream",
     "text": [
      "Total peers in the system  25886\n"
     ]
    },
    {
     "name": "stderr",
     "output_type": "stream",
     "text": [
      "/usr/local/lib/python3.6/dist-packages/ipykernel_launcher.py:7: MatplotlibDeprecationWarning: Adding an axes using the same arguments as a previous axes currently reuses the earlier instance.  In a future version, a new instance will always be created and returned.  Meanwhile, this warning can be suppressed, and the future behavior ensured, by passing a unique label to each axes instance.\n",
      "  import sys\n"
     ]
    },
    {
     "data": {
      "image/png": "[encoded data removed]",
      "text/plain": [
       "<Figure size 432x288 with 1 Axes>"
      ]
     },
     "metadata": {
      "needs_background": "light"
     },
     "output_type": "display_data"
    }
   ],
   "source": [
    "x = sorted([ len(peers[n].last_neigh_chain.values()) for n in G.nodes()], reverse=True)\n",
    "print('Total peers in the system ', G.number_of_nodes())\n",
    "\n",
    "\n",
    "fig = plt.figure()\n",
    "plt.yscale(\"log\")\n",
    "ax = fig.add_subplot(111)\n",
    "n, bins, rectangles = ax.hist(x, 20, density=False)\n",
    "fig.canvas.draw()\n",
    "plt.show()"
   ]
  },
  {
   "cell_type": "code",
   "execution_count": 71,
   "metadata": {},
   "outputs": [
    {
     "name": "stdout",
     "output_type": "stream",
     "text": [
      "Total peers in the system  25886\n"
     ]
    },
    {
     "data": {
      "image/png": "[encoded data removed]",
      "text/plain": [
       "<Figure size 432x288 with 1 Axes>"
      ]
     },
     "metadata": {
      "needs_background": "light"
     },
     "output_type": "display_data"
    }
   ],
   "source": [
    "x = sorted([ len(peers[n].last_neigh_chain.values()) for n in G.nodes()], reverse=True)\n",
    "print('Total peers in the system ', G.number_of_nodes())\n",
    "\n",
    "\n",
    "fig = plt.figure()\n",
    "ax = fig.add_subplot(111)\n",
    "n, bins, rectangles = ax.hist(x, 20, density=False)\n",
    "fig.canvas.draw()\n",
    "plt.show()"
   ]
  },
  {
   "cell_type": "code",
   "execution_count": 11,
   "metadata": {},
   "outputs": [
    {
     "name": "stdout",
     "output_type": "stream",
     "text": [
      "Total peers in the system  500\n"
     ]
    },
    {
     "data": {
      "image/png": "[encoded data removed]",
      "text/plain": [
       "<Figure size 432x288 with 1 Axes>"
      ]
     },
     "metadata": {
      "needs_background": "light"
     },
     "output_type": "display_data"
    }
   ],
   "source": [
    "x = sorted([ len(peers[n].last_neigh_chain.values()) for n in G.nodes()], reverse=True)\n",
    "print('Total peers in the system ', G.number_of_nodes())\n",
    "\n",
    "\n",
    "fig = plt.figure()\n",
    "ax = fig.add_subplot(111)\n",
    "n, bins, rectangles = ax.hist(x, 20, density=False)\n",
    "fig.canvas.draw()\n",
    "plt.show()"
   ]
  },
  {
   "cell_type": "code",
   "execution_count": 114,
   "metadata": {},
   "outputs": [
    {
     "name": "stdout",
     "output_type": "stream",
     "text": [
      "Total peers in the system  1000\n"
     ]
    },
    {
     "data": {
      "image/png": "[encoded data removed]",
      "text/plain": [
       "<Figure size 432x288 with 1 Axes>"
      ]
     },
     "metadata": {
      "needs_background": "light"
     },
     "output_type": "display_data"
    }
   ],
   "source": [
    "x = sorted([ len(peers[n].last_neigh_chain.values()) for n in G.nodes()], reverse=True)\n",
    "print('Total peers in the system ', G.number_of_nodes())\n",
    "\n",
    "\n",
    "fig = plt.figure()\n",
    "ax = fig.add_subplot(111)\n",
    "n, bins, rectangles = ax.hist(x, 20, density=False)\n",
    "fig.canvas.draw()\n",
    "plt.show()"
   ]
  },
  {
   "cell_type": "code",
   "execution_count": 109,
   "metadata": {},
   "outputs": [
    {
     "name": "stdout",
     "output_type": "stream",
     "text": [
      "Total peers in the system  1000\n"
     ]
    },
    {
     "data": {
      "image/png": "[encoded data removed]",
      "text/plain": [
       "<Figure size 432x288 with 1 Axes>"
      ]
     },
     "metadata": {
      "needs_background": "light"
     },
     "output_type": "display_data"
    }
   ],
   "source": [
    "x = sorted([ len(peers[n].last_neigh_chain.values()) for n in G.nodes()], reverse=True)\n",
    "print('Total peers in the system ', G.number_of_nodes())\n",
    "\n",
    "\n",
    "fig = plt.figure()\n",
    "ax = fig.add_subplot(111)\n",
    "n, bins, rectangles = ax.hist(x, 20, density=False)\n",
    "fig.canvas.draw()\n",
    "plt.show()"
   ]
  },
  {
   "cell_type": "code",
   "execution_count": 106,
   "metadata": {},
   "outputs": [
    {
     "name": "stdout",
     "output_type": "stream",
     "text": [
      "Total peers in the system  1000\n"
     ]
    },
    {
     "data": {
      "image/png": "[encoded data removed]",
      "text/plain": [
       "<Figure size 432x288 with 1 Axes>"
      ]
     },
     "metadata": {
      "needs_background": "light"
     },
     "output_type": "display_data"
    }
   ],
   "source": [
    "x = sorted([ len(peers[n].last_neigh_chain.values()) for n in G.nodes()], reverse=True)\n",
    "print('Total peers in the system ', G.number_of_nodes())\n",
    "\n",
    "\n",
    "fig = plt.figure()\n",
    "ax = fig.add_subplot(111)\n",
    "n, bins, rectangles = ax.hist(x, 20, density=False)\n",
    "fig.canvas.draw()\n",
    "plt.show()"
   ]
  },
  {
   "cell_type": "code",
   "execution_count": 102,
   "metadata": {},
   "outputs": [
    {
     "name": "stdout",
     "output_type": "stream",
     "text": [
      "Total peers in the system  1000\n"
     ]
    },
    {
     "data": {
      "image/png": "[encoded data removed]",
      "text/plain": [
       "<Figure size 432x288 with 1 Axes>"
      ]
     },
     "metadata": {
      "needs_background": "light"
     },
     "output_type": "display_data"
    }
   ],
   "source": [
    "x = sorted([ len(peers[n].last_neigh_chain.values()) for n in G.nodes()], reverse=True)\n",
    "print('Total peers in the system ', G.number_of_nodes())\n",
    "\n",
    "\n",
    "fig = plt.figure()\n",
    "ax = fig.add_subplot(111)\n",
    "n, bins, rectangles = ax.hist(x, 20, density=False)\n",
    "fig.canvas.draw()\n",
    "plt.show()"
   ]
  },
  {
   "cell_type": "code",
   "execution_count": 100,
   "metadata": {},
   "outputs": [
    {
     "name": "stdout",
     "output_type": "stream",
     "text": [
      "Total peers in the system  1000\n"
     ]
    },
    {
     "data": {
      "image/png": "[encoded data removed]",
      "text/plain": [
       "<Figure size 432x288 with 1 Axes>"
      ]
     },
     "metadata": {
      "needs_background": "light"
     },
     "output_type": "display_data"
    }
   ],
   "source": [
    "x = sorted([ len(peers[n].last_neigh_chain.values()) for n in G.nodes()], reverse=True)\n",
    "print('Total peers in the system ', G.number_of_nodes())\n",
    "\n",
    "\n",
    "fig = plt.figure()\n",
    "ax = fig.add_subplot(111)\n",
    "n, bins, rectangles = ax.hist(x, 20, density=False)\n",
    "fig.canvas.draw()\n",
    "plt.show()"
   ]
  },
  {
   "cell_type": "code",
   "execution_count": 96,
   "metadata": {},
   "outputs": [
    {
     "name": "stdout",
     "output_type": "stream",
     "text": [
      "Total peers in the system  1000\n"
     ]
    },
    {
     "data": {
      "image/png": "[encoded data removed]",
      "text/plain": [
       "<Figure size 432x288 with 1 Axes>"
      ]
     },
     "metadata": {
      "needs_background": "light"
     },
     "output_type": "display_data"
    }
   ],
   "source": [
    "x = sorted([ len(peers[n].last_neigh_chain.values()) for n in G.nodes()], reverse=True)\n",
    "print('Total peers in the system ', G.number_of_nodes())\n",
    "\n",
    "\n",
    "fig = plt.figure()\n",
    "ax = fig.add_subplot(111)\n",
    "n, bins, rectangles = ax.hist(x, 20, density=False)\n",
    "fig.canvas.draw()\n",
    "plt.show()"
   ]
  },
  {
   "cell_type": "code",
   "execution_count": 93,
   "metadata": {},
   "outputs": [
    {
     "name": "stdout",
     "output_type": "stream",
     "text": [
      "Total peers in the system  1000\n"
     ]
    },
    {
     "data": {
      "image/png": "[encoded data removed]",
      "text/plain": [
       "<Figure size 432x288 with 1 Axes>"
      ]
     },
     "metadata": {
      "needs_background": "light"
     },
     "output_type": "display_data"
    }
   ],
   "source": [
    "x = sorted([ len(peers[n].last_neigh_chain.values()) for n in G.nodes()], reverse=True)\n",
    "print('Total peers in the system ', G.number_of_nodes())\n",
    "\n",
    "\n",
    "fig = plt.figure()\n",
    "ax = fig.add_subplot(111)\n",
    "n, bins, rectangles = ax.hist(x, 20, density=False)\n",
    "fig.canvas.draw()\n",
    "plt.show()"
   ]
  },
  {
   "cell_type": "code",
   "execution_count": 90,
   "metadata": {},
   "outputs": [
    {
     "name": "stdout",
     "output_type": "stream",
     "text": [
      "Total peers in the system  1000\n"
     ]
    },
    {
     "data": {
      "image/png": "[encoded data removed]",
      "text/plain": [
       "<Figure size 432x288 with 1 Axes>"
      ]
     },
     "metadata": {
      "needs_background": "light"
     },
     "output_type": "display_data"
    }
   ],
   "source": [
    "x = sorted([ len(peers[n].last_neigh_chain.values()) for n in G.nodes()], reverse=True)\n",
    "print('Total peers in the system ', G.number_of_nodes())\n",
    "\n",
    "\n",
    "fig = plt.figure()\n",
    "ax = fig.add_subplot(111)\n",
    "n, bins, rectangles = ax.hist(x, 20, density=False)\n",
    "fig.canvas.draw()\n",
    "plt.show()"
   ]
  },
  {
   "cell_type": "code",
   "execution_count": 58,
   "metadata": {},
   "outputs": [
    {
     "name": "stdout",
     "output_type": "stream",
     "text": [
      "Top by known peers burden \n",
      "(913, 336, 9)\n",
      "(774, 364, 10)\n",
      "(599, 886, 17)\n",
      "(531, 770, 14)\n",
      "(489, 930, 16)\n",
      "(470, 237, 17)\n",
      "(463, 674, 16)\n",
      "(452, 197, 15)\n",
      "(450, 387, 19)\n",
      "(446, 448, 15)\n",
      "(433, 527, 14)\n",
      "(425, 557, 17)\n",
      "(409, 518, 12)\n",
      "(409, 466, 14)\n",
      "(393, 213, 20)\n",
      "(386, 855, 16)\n",
      "(365, 889, 17)\n",
      "(339, 844, 13)\n",
      "(328, 997, 21)\n",
      "(320, 983, 19)\n",
      "Lowest  by known peers burden \n",
      "(30, 868, 30)\n",
      "(30, 696, 27)\n",
      "(30, 540, 24)\n",
      "(30, 514, 24)\n",
      "(30, 275, 26)\n",
      "(30, 29, 26)\n",
      "(29, 792, 18)\n",
      "(29, 635, 27)\n",
      "(29, 575, 27)\n",
      "(29, 497, 20)\n",
      "(28, 874, 20)\n",
      "(28, 814, 24)\n",
      "(26, 869, 24)\n",
      "(26, 317, 21)\n",
      "(25, 710, 23)\n",
      "(25, 452, 23)\n",
      "(25, 61, 24)\n",
      "(24, 880, 24)\n",
      "(24, 647, 24)\n",
      "(23, 378, 22)\n"
     ]
    }
   ],
   "source": [
    "x = sorted([ (len(peers[n].last_neigh_chain.values()), n, G.degree(n)) for n in G.nodes()], reverse=True)\n",
    "print(\"Top by known peers burden \", *x[:20], sep=\"\\n\")\n",
    "print(\"Lowest  by known peers burden \", *x[-20:], sep=\"\\n\")"
   ]
  },
  {
   "cell_type": "code",
   "execution_count": null,
   "metadata": {},
   "outputs": [],
   "source": []
  }
 ],
 "metadata": {
  "kernelspec": {
   "display_name": "Python 3",
   "language": "python",
   "name": "python3"
  },
  "language_info": {
   "codemirror_mode": {
    "name": "ipython",
    "version": 3
   },
   "file_extension": ".py",
   "mimetype": "text/x-python",
   "name": "python",
   "nbconvert_exporter": "python",
   "pygments_lexer": "ipython3",
   "version": "3.6.8"
  }
 },
 "nbformat": 4,
 "nbformat_minor": 2
}
