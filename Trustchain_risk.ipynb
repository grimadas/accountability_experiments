{
 "cells": [
  {
   "cell_type": "code",
   "execution_count": 1,
   "metadata": {},
   "outputs": [],
   "source": [
    "%matplotlib inline\n",
    "import csv\n",
    "import networkx as nx\n",
    "import matplotlib.pyplot as plt\n",
    "import itertools\n",
    "import collections\n",
    "import numpy as np\n",
    "import ast\n",
    "import pandas as pd\n",
    "import io\n",
    "from random import random"
   ]
  },
  {
   "cell_type": "markdown",
   "metadata": {},
   "source": [
    "# Account clock experiments\n",
    "\n",
    "- Each account has two sets: Spend Set and Claim Set: \n",
    "    + Sets are essentially an array, where each index corresonds to the transaction partner (input or output)\n",
    "    + Each set value is an aggregate of total balance: total up/ total down\n",
    "    + Claim set with index zero is minting claim and such claim must be provided with a proof of minting\n",
    "- Each transaction has link to the two set aggregate. \n",
    "\n"
   ]
  },
  {
   "cell_type": "markdown",
   "metadata": {},
   "source": [
    "## Experiments with clocks"
   ]
  },
  {
   "cell_type": "code",
   "execution_count": 3,
   "metadata": {},
   "outputs": [],
   "source": [
    "# Auxilary functions\n",
    "def construct_graph(filename):\n",
    "    G = nx.Graph()\n",
    "    with open(filename, \"r\") as csvfile:\n",
    "        first = True\n",
    "        for k in csvfile:\n",
    "            if first:\n",
    "                first = False\n",
    "                continue\n",
    "            a, b = k.split(\",\")\n",
    "            G.add_edge(int(a), int(b))\n",
    "    return G\n",
    "\n",
    "    \n",
    "def query_neighbors(G, p1, pn):\n",
    "    '''\n",
    "    p1 queries pn about neighbors of the graph G\n",
    "    '''\n",
    "    # Honest answer\n",
    "    return G[pn]"
   ]
  },
  {
   "cell_type": "code",
   "execution_count": 64,
   "metadata": {},
   "outputs": [],
   "source": [
    "\n",
    "class State:\n",
    "    def __init__(self, my_id, neigh_set):\n",
    "        self.claim_set = {k:0 for k in neigh_set}\n",
    "        self.spend_set = {k:0 for k in neigh_set}\n",
    "        self.claim_set[my_id] = 0\n",
    "    \n",
    "    def compress(self):\n",
    "        return (self.claim_set, self.spend_set)\n",
    "\n",
    "class Peer:\n",
    "    ''' \n",
    "    Partner must have enough balance. For this we need to calculate spends and claims:\n",
    "      1. All spends must be fullfilled. Nothing should be missed\n",
    "        - Peer can synchronize with other parties to ensure that. \n",
    "        - Depending on the double spending policy, peer must decide what to do if double spending happends.\n",
    "          Potentially, all spends, including double spends might be accounted. \n",
    "          Otherwise peer when detecting can exlude other peer.  \n",
    "      2. Claims must be valid. A valid claim must fullfill following conditions: \n",
    "        - Claim must initally come from a trusted/verified source, either trusted minter, miner, transaction fee, etc.\n",
    "        - If claim does not come from the peer itself(minting, mining), the previous owner balance must be accountable.\n",
    "        - If the transaction links to the peer itself, the transaction is valid. \n",
    "        - Otherwise the claim has a vector clock of last timestamp. \n",
    "          Such timestamp can be used as the verification pointer for the third party. \n",
    "          For example, A has a balance estimation for the peer B at timestamp (0, 2, 1, 10). \n",
    "          Then if C comes to A with a spend from B that is older than the timestamp, claim of C that is linked to this timestamp is valid. \n",
    "        - Peer cannot verify everything directly. A confirmation from at least K near witness would convince peer A.   \n",
    "    '''\n",
    "    def __init__(self, my_id, neigh_set):\n",
    "        self.my_id = my_id\n",
    "        self.neigh_set = neigh_set\n",
    "        self.chain = []\n",
    "        self.neigh_chains = {k:[] for k in neigh_set}\n",
    "        \n",
    "        self.state = State(self.my_id, self.neigh_set)\n",
    "        \n",
    "        self.incoming_spend_set = {k:0 for k in neigh_set}\n",
    "        self.verified_balance = {k:[0, None] for k in neigh_set}\n",
    "        \n",
    "    def mint(self, num):\n",
    "        self.state.claim_set[self.my_id] += num\n",
    "    \n",
    "    def spend(self, par, num):\n",
    "        self.state.spend_set[par] += num\n",
    "        \n",
    "    def random_spend_claim(self, num):\n",
    "        par = np.random.choice(self.neigh_set)\n",
    "        self.spend(par, num)        \n",
    "        peers[par].claim(self.my_id, num)\n",
    "        return par\n",
    "    \n",
    "    \n",
    "    def verify_claim(self, par, num):\n",
    "        if self.incoming_spend_set[par] + num != peers[par].state.spend_set[self.my_id]:\n",
    "            # Something is wrong, your partner spend more than you recorded \n",
    "            print(\"Not synchronized\")\n",
    "            return False\n",
    "        \n",
    "        # Account all spends first\n",
    "        total_spends = sum(peers[par].state.spend_set.values())\n",
    "        \n",
    "        # Account claims that are first directly verifiable \n",
    "        total_claim = peers[par].state.claim_set[par] + peers[par].state.claim_set[self.my_id]\n",
    "        unverified_claims = list()\n",
    "        \n",
    "        # Check peer that are known and verified to some extend \n",
    "        for k in set(peers[par].state.claim_set.keys())-{self.my_id, par}:\n",
    "            # TODO: count in timestamps too/ Now it assumes it is recent\n",
    "            if k in self.verified_balance:\n",
    "                total_claim += peers[par].state.claim_set[k]\n",
    "            else:\n",
    "                unverified_claims.append(k)\n",
    "        # Otherwise use witnesses/ or download some blocks \n",
    "        for u_c in unverified_claims:\n",
    "            self.try_sync(par, u_c)\n",
    "        \n",
    "        \n",
    "        if total_claim - total_spends >= 0:\n",
    "            return True\n",
    "        else:\n",
    "            print(\"Not enough balance\")\n",
    "            print(\"Estimated balance is \", total_claim - total_spends)\n",
    "            return False\n",
    "    \n",
    "    def try_sync(self, par, K):\n",
    "        # K budget for the synchronization \n",
    "        \n",
    "        \n",
    "    \n",
    "    def claim(self, par, num):\n",
    "        \n",
    "        if not self.verify_claim(par, num):\n",
    "            \n",
    "            \n",
    "            \n",
    "            self.incoming_spend_set[par] += num\n",
    "            self.state.claim_set[par] += num\n",
    "        else: \n",
    "            print(\"Will not claim the spend, is not valid\")\n",
    "\n",
    "\n",
    "    "
   ]
  },
  {
   "cell_type": "code",
   "execution_count": null,
   "metadata": {},
   "outputs": [],
   "source": []
  },
  {
   "cell_type": "code",
   "execution_count": 65,
   "metadata": {},
   "outputs": [
    {
     "name": "stdout",
     "output_type": "stream",
     "text": [
      "940 208\n",
      "Not enough balance\n",
      "Estimated balance is  -2\n",
      "Will not claim the spend, is not valid\n",
      "300\n",
      "Not enough balance\n",
      "Estimated balance is  -4\n",
      "Will not claim the spend, is not valid\n",
      "786\n",
      "Not enough balance\n",
      "Estimated balance is  -2\n",
      "Will not claim the spend, is not valid\n"
     ]
    },
    {
     "data": {
      "text/plain": [
       "1"
      ]
     },
     "execution_count": 65,
     "metadata": {},
     "output_type": "execute_result"
    }
   ],
   "source": [
    "peers = {k:Peer(k, list(G[k])) for k in G.nodes()}\n",
    "\n",
    "# First hop chain \n",
    "peers[1].mint(10)\n",
    "par1 = peers[1].random_spend_claim(5)\n",
    "par2 = peers[1].random_spend_claim(5)\n",
    "\n",
    "print(par1, par2)\n",
    "\n",
    "# Second hop chain \n",
    "print(peers[par1].random_spend_claim(2))\n",
    "print(peers[par1].random_spend_claim(2))\n",
    "\n",
    "peers[par2].random_spend_claim(2)\n",
    "peers[par2].random_spend_claim(2)\n",
    "\n",
    "\n",
    "\n"
   ]
  },
  {
   "cell_type": "code",
   "execution_count": 45,
   "metadata": {},
   "outputs": [
    {
     "data": {
      "text/plain": [
       "{512: 0,\n",
       " 4: 0,\n",
       " 395: 0,\n",
       " 523: 0,\n",
       " 919: 0,\n",
       " 794: 0,\n",
       " 539: 0,\n",
       " 30: 0,\n",
       " 290: 0,\n",
       " 675: 0,\n",
       " 164: 0,\n",
       " 804: 0,\n",
       " 422: 0,\n",
       " 295: 0,\n",
       " 555: 0,\n",
       " 561: 0,\n",
       " 65: 0,\n",
       " 835: 0,\n",
       " 201: 0,\n",
       " 842: 0,\n",
       " 716: 0,\n",
       " 465: 0,\n",
       " 210: 0,\n",
       " 865: 0,\n",
       " 994: 0,\n",
       " 102: 10,\n",
       " 876: 0,\n",
       " 373: 0,\n",
       " 506: 0,\n",
       " 380: 0,\n",
       " 263: 0}"
      ]
     },
     "execution_count": 45,
     "metadata": {},
     "output_type": "execute_result"
    }
   ],
   "source": [
    "peers[263].state.claim_set"
   ]
  },
  {
   "cell_type": "code",
   "execution_count": null,
   "metadata": {},
   "outputs": [],
   "source": []
  },
  {
   "cell_type": "code",
   "execution_count": 26,
   "metadata": {},
   "outputs": [],
   "source": []
  },
  {
   "cell_type": "code",
   "execution_count": 27,
   "metadata": {},
   "outputs": [
    {
     "data": {
      "text/plain": [
       "{773: 0,\n",
       " 263: 0,\n",
       " 906: 0,\n",
       " 397: 0,\n",
       " 398: 0,\n",
       " 911: 0,\n",
       " 141: 0,\n",
       " 142: 0,\n",
       " 535: 0,\n",
       " 152: 0,\n",
       " 412: 0,\n",
       " 311: 0,\n",
       " 825: 0,\n",
       " 186: 0,\n",
       " 828: 0,\n",
       " 846: 0,\n",
       " 595: 0,\n",
       " 731: 0,\n",
       " 861: 0,\n",
       " 990: 0,\n",
       " 608: 0,\n",
       " 868: 0,\n",
       " 109: 0,\n",
       " 370: 0,\n",
       " 249: 0,\n",
       " 634: 0,\n",
       " 102: 100}"
      ]
     },
     "execution_count": 27,
     "metadata": {},
     "output_type": "execute_result"
    }
   ],
   "source": []
  },
  {
   "cell_type": "markdown",
   "metadata": {},
   "source": [
    "### Create an interaction network"
   ]
  },
  {
   "cell_type": "code",
   "execution_count": 6,
   "metadata": {},
   "outputs": [
    {
     "name": "stdout",
     "output_type": "stream",
     "text": [
      "1000\n"
     ]
    },
    {
     "data": {
      "image/png": "[encoded data removed]",
      "text/plain": [
       "<Figure size 432x288 with 1 Axes>"
      ]
     },
     "metadata": {
      "needs_background": "light"
     },
     "output_type": "display_data"
    }
   ],
   "source": [
    "# initialize peers/ Create and Overlay network  \n",
    "N = 100\n",
    "G = construct_graph(\"/home/bulat/project/DetectionExperiments/noodles/Datasets/test_peers_q.log\")\n",
    "# Discovery community after 210 seconds \n",
    "print(G.number_of_nodes())\n",
    "x = sorted([d for n, d in G.degree()], reverse=True)\n",
    "\n",
    "fig = plt.figure()\n",
    "ax = fig.add_subplot(111)\n",
    "n, bins, rectangles = ax.hist(x, 100, density=False)\n",
    "fig.canvas.draw()\n",
    "plt.show()\n",
    "\n",
    "\n"
   ]
  },
  {
   "cell_type": "markdown",
   "metadata": {},
   "source": [
    "### Initialize clocks and peers"
   ]
  },
  {
   "cell_type": "code",
   "execution_count": null,
   "metadata": {},
   "outputs": [],
   "source": [
    "\n",
    "\n",
    "for p in G.nodes():\n",
    "    for n in neigh\n",
    "    neigh = G[p]\n",
    "    \n",
    "    "
   ]
  }
 ],
 "metadata": {
  "kernelspec": {
   "display_name": "Python 3",
   "language": "python",
   "name": "python3"
  },
  "language_info": {
   "codemirror_mode": {
    "name": "ipython",
    "version": 3
   },
   "file_extension": ".py",
   "mimetype": "text/x-python",
   "name": "python",
   "nbconvert_exporter": "python",
   "pygments_lexer": "ipython3",
   "version": "3.6.8"
  }
 },
 "nbformat": 4,
 "nbformat_minor": 2
}
