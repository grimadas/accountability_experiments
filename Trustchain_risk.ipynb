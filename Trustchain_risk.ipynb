{
 "cells": [
  {
   "cell_type": "code",
   "execution_count": 1,
   "metadata": {},
   "outputs": [],
   "source": [
    "%matplotlib inline\n",
    "import csv\n",
    "import networkx as nx\n",
    "import matplotlib.pyplot as plt\n",
    "import itertools\n",
    "import collections\n",
    "import numpy as np\n",
    "import ast\n",
    "import pandas as pd\n",
    "import io\n",
    "from random import random"
   ]
  },
  {
   "cell_type": "markdown",
   "metadata": {},
   "source": [
    "# Account clock experiments\n",
    "\n",
    "- Each account has two sets: Spend Set and Claim Set: \n",
    "    + Sets are essentially an array, where each index corresonds to the transaction partner (input or output)\n",
    "    + Each set value is an aggregate of total balance: total up/ total down\n",
    "    + Claim set with index zero is minting claim and such claim must be provided with a proof of minting\n",
    "- Each transaction has link to the two set aggregate. \n",
    "\n"
   ]
  },
  {
   "cell_type": "markdown",
   "metadata": {},
   "source": [
    "### Create an interaction network"
   ]
  },
  {
   "cell_type": "code",
   "execution_count": 10,
   "metadata": {},
   "outputs": [
    {
     "name": "stdout",
     "output_type": "stream",
     "text": [
      "7732\n",
      "14308\n"
     ]
    },
    {
     "data": {
      "image/png": "[encoded data removed]",
      "text/plain": [
       "<Figure size 432x288 with 1 Axes>"
      ]
     },
     "metadata": {
      "needs_background": "light"
     },
     "output_type": "display_data"
    }
   ],
   "source": [
    "from math import log\n",
    "\n",
    "# Auxilary functions\n",
    "def construct_graph(filename):\n",
    "    G = nx.Graph()\n",
    "    with open(filename, \"r\") as csvfile:\n",
    "        first = True\n",
    "        for k in csvfile:\n",
    "            if first:\n",
    "                first = False\n",
    "                continue\n",
    "            a, b = k.split(\",\")\n",
    "            G.add_edge(int(a), int(b))\n",
    "    return G\n",
    "\n",
    "    \n",
    "def query_neighbors(G, p1, pn):\n",
    "    '''\n",
    "    p1 queries pn about neighbors of the graph G\n",
    "    '''\n",
    "    # Honest answer\n",
    "    return G[pn]\n",
    "\n",
    "\n",
    "# initialize peers/ Create and Overlay network  \n",
    "N = 500\n",
    "#G = construct_graph(\"GraphDynamics/peer_connections.log.txt\")\n",
    "M = N**(1/3) * N\n",
    "p = (log(N) - log(log(N))+1)/(1-log(log(N))/3)\n",
    "p = p / N\n",
    "#G = nx.gnp_random_graph(N, p)\n",
    "#G = nx.gnm_random_graph(N, p*N*N)\n",
    "\n",
    "G = nx.read_gml(\"Datasets/eth-graph.gml\")\n",
    "G = G.to_undirected()\n",
    "#G = construct_graph(\"/home/bulat/project/DetectionExperiments/noodles/Datasets/test_peers_q.log\")\n",
    "# Discovery community after 210 seconds \n",
    "print(G.number_of_nodes())\n",
    "print(G.number_of_edges())\n",
    "x = sorted([d for n, d in G.degree()], reverse=True)\n",
    "\n",
    "fig = plt.figure()\n",
    "ax = fig.add_subplot(111)\n",
    "n, bins, rectangles = ax.hist(x, 100, density=False)\n",
    "fig.canvas.draw()\n",
    "plt.show()\n",
    "\n",
    "\n"
   ]
  },
  {
   "cell_type": "markdown",
   "metadata": {},
   "source": [
    "## Experiments with clocks"
   ]
  },
  {
   "cell_type": "code",
   "execution_count": 3,
   "metadata": {},
   "outputs": [],
   "source": [
    "\n",
    "class State:\n",
    "    def __init__(self, my_id, neigh_set):\n",
    "        self.claim_set = {k:0 for k in neigh_set}\n",
    "        self.spend_set = {k:0 for k in neigh_set}\n",
    "        self.claim_set[my_id] = 0\n",
    "    \n",
    "    def compress(self):\n",
    "        return (self.claim_set, self.spend_set)\n",
    "\n",
    "class Peer:\n",
    "    ''' \n",
    "    Partner must have enough balance. For this we need to calculate spends and claims:\n",
    "      1. All spends must be fullfilled. Nothing should be missed\n",
    "        - Peer can synchronize with other parties to ensure that. \n",
    "        - Depending on the double spending policy, peer must decide what to do if double spending happends.\n",
    "          Potentially, all spends, including double spends might be accounted. \n",
    "          Otherwise peer when detecting can exlude other peer.  \n",
    "      2. Claims must be valid. A valid claim must fullfill following conditions: \n",
    "        - Claim must initally come from a trusted/verified source, either trusted minter, miner, transaction fee, etc.\n",
    "        - If claim does not come from the peer itself(minting, mining), the previous owner balance must be accountable.\n",
    "        - If the transaction links to the peer itself, the transaction is valid. \n",
    "        - Otherwise the claim has a vector clock of last timestamp. \n",
    "          Such timestamp can be used as the verification pointer for the third party. \n",
    "          For example, A has a balance estimation for the peer B at timestamp (0, 2, 1, 10). \n",
    "          Then if C comes to A with a spend from B that is older than the timestamp, claim of C that is linked to this timestamp is valid. \n",
    "        - Peer cannot verify everything directly. A confirmation from at least K near witness would convince peer A.   \n",
    "    '''\n",
    "    def __init__(self, my_id, neigh_set, chain_budget=100, peer_budget=10, wit_count=3):\n",
    "        self.my_id = my_id\n",
    "        self.neigh_set = neigh_set\n",
    "        self.chain = []\n",
    "        self.last_neigh_chain = {k:0 for k in neigh_set}\n",
    "        \n",
    "        self.state = State(self.my_id, self.neigh_set)\n",
    "        \n",
    "        self.incoming_spend_set = {k:0 for k in neigh_set}\n",
    "        self.verified_balance = dict()\n",
    "        \n",
    "        self.C_B = chain_budget\n",
    "        self.P_B = peer_budget\n",
    "        \n",
    "        self.wit_count = wit_count\n",
    "\n",
    "    def balance(self):\n",
    "        return sum(self.state.claim_set.values()) - sum(self.state.spend_set.values())\n",
    "    \n",
    "    def mint(self, num):\n",
    "        self.state.claim_set[self.my_id] += num\n",
    "        self.chain.append((self.my_id, num))\n",
    "    \n",
    "    def spend(self, par, num):\n",
    "        self.state.spend_set[par] += num\n",
    "        self.chain.append((par, -num))\n",
    "        \n",
    "    def random_spend_claim(self, num):\n",
    "        par = np.random.choice(self.neigh_set)\n",
    "        if self.balance() > num: \n",
    "            self.spend(par, num)        \n",
    "            if peers[par].claim(self.my_id, num):\n",
    "                return par\n",
    "            else:\n",
    "                return None\n",
    "        else: \n",
    "            return self.my_id\n",
    "    \n",
    "    def estimate_balance(self, par, spends, claims):\n",
    "        # Account all spends\n",
    "        total_spends = sum(spends.values())\n",
    "        # Account claims that are first directly verifiable: \n",
    "        #  claims that are mint, or claims given by my peer        \n",
    "        total_claim = claims[par]\n",
    "        if self.my_id in claims:\n",
    "            total_claim+=claims[self.my_id]\n",
    "        unverified_claims = list()\n",
    "        # Check peer that are known and verified to some extend \n",
    "        for k in set(claims.keys())-{self.my_id, par}:\n",
    "            # TODO: count in timestamps too/ Now it assumes it is recent\n",
    "            if claims[k] == 0:\n",
    "                continue\n",
    "            if k in self.verified_balance:\n",
    "                total_claim += claims[k]\n",
    "            else:\n",
    "                # Peer is not known, need additional verification\n",
    "                # Check witnesses \n",
    "                count = 0\n",
    "                for w in self.neigh_set:\n",
    "                    if k in peers[w].verified_balance:\n",
    "                        count+=1 \n",
    "                if count > len(self.neigh_set)/self.wit_count + 1:\n",
    "                    total_claim+=claims[k]\n",
    "                else:\n",
    "                    unverified_claims.append((claims[k], k))\n",
    "        return (total_claim-total_spends, unverified_claims)\n",
    "    \n",
    "        \n",
    "    def try_sync(self, par, K, max_depth):\n",
    "        #print(\"Sync \", par, \" on node \", self.my_id)\n",
    "        # K budget for the synchronization \n",
    "        if par not in self.last_neigh_chain:\n",
    "            self.last_neigh_chain[par] = 0\n",
    "        if len(peers[par].chain) - self.last_neigh_chain[par] < K:\n",
    "            # Get the whole chain TODO: fix that\n",
    "            self.last_neigh_chain[par] = len(peers[par].chain)\n",
    "            bal, left = self.estimate_balance(par, peers[par].state.spend_set, \n",
    "                                                           peers[par].state.claim_set)\n",
    "            if bal >= 0:\n",
    "                if par not in self.verified_balance:\n",
    "                    self.verified_balance[par] = bal\n",
    "                return True\n",
    "            else:\n",
    "                if max_depth > 1:\n",
    "                    sorted_left  = sorted(left, reverse=True)\n",
    "                    for val, peer in sorted_left:\n",
    "                        if self.try_sync(peer, self.C_B, max_depth-1):\n",
    "                            bal+= val\n",
    "                            if bal >= 0:\n",
    "                                if par not in self.verified_balance:\n",
    "                                    self.verified_balance[par] = bal\n",
    "                                return True\n",
    "        return False\n",
    "\n",
    "    \n",
    "    def verify_claim(self, par, num):\n",
    "        if self.incoming_spend_set[par] + num != peers[par].state.spend_set[self.my_id]:\n",
    "            # Something is wrong, your partner spend more than you recorded \n",
    "            print(\"Not synchronized\")\n",
    "            return False\n",
    "        # Estimate balance of the peer 'par'\n",
    "        # Assuming you know everything about the peer\n",
    "        balance, unverified_claims = self.estimate_balance(par, peers[par].state.spend_set, \n",
    "                                                           peers[par].state.claim_set)\n",
    "        \n",
    "        # Balance from the estimation is positive 3\n",
    "        if balance >= 0:\n",
    "            if par not in self.verified_balance:\n",
    "                self.verified_balance[par] = balance\n",
    "            return True\n",
    "        \n",
    "        # Not enough balance/ Need to verify other claims \n",
    "        \n",
    "        # Otherwise use witnesses/ or download some blocks \n",
    "        \n",
    "        sorted_left  = sorted(unverified_claims, reverse=True)\n",
    "        for val, peer in sorted_left:                \n",
    "            if self.try_sync(peer, self.C_B, self.P_B):\n",
    "                balance+=val\n",
    "\n",
    "            \n",
    "        if balance < 0: \n",
    "                return False\n",
    "        else:\n",
    "            if par not in self.verified_balance:\n",
    "                self.verified_balance[par] = balance\n",
    "            return True\n",
    "    \n",
    "    \n",
    "    def claim(self, par, num):\n",
    "        if self.verify_claim(par, num):\n",
    "            self.state.claim_set[par] += num\n",
    "            self.chain.append((par, num))\n",
    "            self.last_neigh_chain[par] =  len(peers[par].chain)\n",
    "            self.incoming_spend_set[par] += num\n",
    "            return True\n",
    "        else:\n",
    "            self.incoming_spend_set[par] += num\n",
    "            return False\n"
   ]
  },
  {
   "cell_type": "code",
   "execution_count": 11,
   "metadata": {},
   "outputs": [],
   "source": [
    "x = sorted([(d,n) for n, d in G.degree()], reverse=True)\n",
    "initial_minters = [n for d,n in x[:10]]"
   ]
  },
  {
   "cell_type": "code",
   "execution_count": 18,
   "metadata": {},
   "outputs": [
    {
     "ename": "KeyError",
     "evalue": "'4'",
     "output_type": "error",
     "traceback": [
      "\u001b[0;31m---------------------------------------------------------------------------\u001b[0m",
      "\u001b[0;31mKeyError\u001b[0m                                  Traceback (most recent call last)",
      "\u001b[0;32m<ipython-input-18-763208d08021>\u001b[0m in \u001b[0;36m<module>\u001b[0;34m\u001b[0m\n\u001b[0;32m----> 1\u001b[0;31m \u001b[0mG\u001b[0m\u001b[0;34m[\u001b[0m\u001b[0;34m'4'\u001b[0m\u001b[0;34m]\u001b[0m\u001b[0;34m\u001b[0m\u001b[0;34m\u001b[0m\u001b[0m\n\u001b[0m",
      "\u001b[0;32m/usr/local/lib/python3.7/site-packages/networkx/classes/graph.py\u001b[0m in \u001b[0;36m__getitem__\u001b[0;34m(self, n)\u001b[0m\n\u001b[1;32m    470\u001b[0m         \u001b[0mAtlasView\u001b[0m\u001b[0;34m(\u001b[0m\u001b[0;34m{\u001b[0m\u001b[0;36m1\u001b[0m\u001b[0;34m:\u001b[0m \u001b[0;34m{\u001b[0m\u001b[0;34m}\u001b[0m\u001b[0;34m}\u001b[0m\u001b[0;34m)\u001b[0m\u001b[0;34m\u001b[0m\u001b[0;34m\u001b[0m\u001b[0m\n\u001b[1;32m    471\u001b[0m         \"\"\"\n\u001b[0;32m--> 472\u001b[0;31m         \u001b[0;32mreturn\u001b[0m \u001b[0mself\u001b[0m\u001b[0;34m.\u001b[0m\u001b[0madj\u001b[0m\u001b[0;34m[\u001b[0m\u001b[0mn\u001b[0m\u001b[0;34m]\u001b[0m\u001b[0;34m\u001b[0m\u001b[0;34m\u001b[0m\u001b[0m\n\u001b[0m\u001b[1;32m    473\u001b[0m \u001b[0;34m\u001b[0m\u001b[0m\n\u001b[1;32m    474\u001b[0m     \u001b[0;32mdef\u001b[0m \u001b[0madd_node\u001b[0m\u001b[0;34m(\u001b[0m\u001b[0mself\u001b[0m\u001b[0;34m,\u001b[0m \u001b[0mnode_for_adding\u001b[0m\u001b[0;34m,\u001b[0m \u001b[0;34m**\u001b[0m\u001b[0mattr\u001b[0m\u001b[0;34m)\u001b[0m\u001b[0;34m:\u001b[0m\u001b[0;34m\u001b[0m\u001b[0;34m\u001b[0m\u001b[0m\n",
      "\u001b[0;32m/usr/local/lib/python3.7/site-packages/networkx/classes/coreviews.py\u001b[0m in \u001b[0;36m__getitem__\u001b[0;34m(self, name)\u001b[0m\n\u001b[1;32m     79\u001b[0m \u001b[0;34m\u001b[0m\u001b[0m\n\u001b[1;32m     80\u001b[0m     \u001b[0;32mdef\u001b[0m \u001b[0m__getitem__\u001b[0m\u001b[0;34m(\u001b[0m\u001b[0mself\u001b[0m\u001b[0;34m,\u001b[0m \u001b[0mname\u001b[0m\u001b[0;34m)\u001b[0m\u001b[0;34m:\u001b[0m\u001b[0;34m\u001b[0m\u001b[0;34m\u001b[0m\u001b[0m\n\u001b[0;32m---> 81\u001b[0;31m         \u001b[0;32mreturn\u001b[0m \u001b[0mAtlasView\u001b[0m\u001b[0;34m(\u001b[0m\u001b[0mself\u001b[0m\u001b[0;34m.\u001b[0m\u001b[0m_atlas\u001b[0m\u001b[0;34m[\u001b[0m\u001b[0mname\u001b[0m\u001b[0;34m]\u001b[0m\u001b[0;34m)\u001b[0m\u001b[0;34m\u001b[0m\u001b[0;34m\u001b[0m\u001b[0m\n\u001b[0m\u001b[1;32m     82\u001b[0m \u001b[0;34m\u001b[0m\u001b[0m\n\u001b[1;32m     83\u001b[0m     \u001b[0;32mdef\u001b[0m \u001b[0mcopy\u001b[0m\u001b[0;34m(\u001b[0m\u001b[0mself\u001b[0m\u001b[0;34m)\u001b[0m\u001b[0;34m:\u001b[0m\u001b[0;34m\u001b[0m\u001b[0;34m\u001b[0m\u001b[0m\n",
      "\u001b[0;31mKeyError\u001b[0m: '4'"
     ]
    }
   ],
   "source": []
  },
  {
   "cell_type": "code",
   "execution_count": 14,
   "metadata": {},
   "outputs": [
    {
     "name": "stdout",
     "output_type": "stream",
     "text": [
      "134\n"
     ]
    }
   ],
   "source": [
    "peers = {k:Peer(k, list(G[k]), chain_budget=10000, peer_budget=3, wit_count=5) for k in G.nodes()}\n",
    "\n",
    "t = 10\n",
    "tx_size = 9\n",
    "frontier = []\n",
    "failed_txs = 0\n",
    "\n",
    "for k in initial_minters:\n",
    "    peers[k].mint(10000)\n",
    "    for l in range(t):\n",
    "        val = peers[k].random_spend_claim(tx_size)\n",
    "        if not val:\n",
    "            failed_txs+=1\n",
    "        else:\n",
    "            frontier.append(val)\n",
    "\n",
    "for h in range(3):\n",
    "    new_frontier = []\n",
    "    tx_size /= (t+1)\n",
    "    for k in frontier:\n",
    "        for l in range(t):\n",
    "            val = peers[k].random_spend_claim(tx_size)\n",
    "            if not val:\n",
    "                failed_txs+=1\n",
    "            else:\n",
    "                new_frontier.append(val)\n",
    "    frontier = new_frontier\n",
    "print(failed_txs)    "
   ]
  },
  {
   "cell_type": "code",
   "execution_count": null,
   "metadata": {},
   "outputs": [],
   "source": []
  },
  {
   "cell_type": "markdown",
   "metadata": {},
   "source": [
    "## Total complexity per Peer"
   ]
  },
  {
   "cell_type": "markdown",
   "metadata": {},
   "source": [
    "### Burden for the transaction chain \n",
    "\n",
    "The more degree of the peer the higher the burden. \n"
   ]
  },
  {
   "cell_type": "code",
   "execution_count": 15,
   "metadata": {},
   "outputs": [
    {
     "name": "stdout",
     "output_type": "stream",
     "text": [
      "Total transaction in the system  222076\n"
     ]
    },
    {
     "data": {
      "image/png": "[encoded data removed]",
      "text/plain": [
       "<Figure size 432x288 with 1 Axes>"
      ]
     },
     "metadata": {
      "needs_background": "light"
     },
     "output_type": "display_data"
    }
   ],
   "source": [
    "x = sorted([ sum(peers[n].last_neigh_chain.values()) for n in G.nodes()], reverse=True)\n",
    "\n",
    "print(\"Total transaction in the system \",sum([len(peers[n].chain) for n in G.nodes()]))\n",
    "\n",
    "fig = plt.figure()\n",
    "ax = fig.add_subplot(111)\n",
    "n, bins, rectangles = ax.hist(x, 20, density=False)\n",
    "fig.canvas.draw()\n",
    "plt.show()"
   ]
  },
  {
   "cell_type": "code",
   "execution_count": 10,
   "metadata": {},
   "outputs": [
    {
     "name": "stdout",
     "output_type": "stream",
     "text": [
      "Total transaction in the system  199149\n"
     ]
    },
    {
     "data": {
      "image/png": "[encoded data removed]",
      "text/plain": [
       "<Figure size 432x288 with 1 Axes>"
      ]
     },
     "metadata": {
      "needs_background": "light"
     },
     "output_type": "display_data"
    }
   ],
   "source": [
    "x = sorted([ sum(peers[n].last_neigh_chain.values()) for n in G.nodes()], reverse=True)\n",
    "\n",
    "print(\"Total transaction in the system \",sum([len(peers[n].chain) for n in G.nodes()]))\n",
    "\n",
    "fig = plt.figure()\n",
    "ax = fig.add_subplot(111)\n",
    "n, bins, rectangles = ax.hist(x, 20, density=False)\n",
    "fig.canvas.draw()\n",
    "plt.show()"
   ]
  },
  {
   "cell_type": "code",
   "execution_count": 8,
   "metadata": {},
   "outputs": [
    {
     "name": "stdout",
     "output_type": "stream",
     "text": [
      "Top by transaction burden \n",
      "(22744, 83, 30)\n",
      "(22565, 450, 24)\n",
      "(20671, 963, 25)\n",
      "(20615, 899, 24)\n",
      "(20515, 408, 28)\n",
      "(20309, 405, 33)\n",
      "(20269, 160, 20)\n",
      "(20247, 71, 18)\n",
      "(20035, 591, 24)\n",
      "(19979, 490, 28)\n",
      "(19762, 316, 25)\n",
      "(19423, 727, 21)\n",
      "(19249, 864, 28)\n",
      "(18887, 181, 33)\n",
      "(18879, 656, 21)\n",
      "(18823, 600, 33)\n",
      "(18813, 682, 27)\n",
      "(18722, 36, 18)\n",
      "(18596, 189, 19)\n",
      "(18454, 824, 36)\n",
      "Lowest by transaction burden \n",
      "(5241, 35, 18)\n",
      "(4955, 281, 17)\n",
      "(4832, 466, 14)\n",
      "(4816, 297, 21)\n",
      "(4809, 851, 17)\n",
      "(4796, 104, 12)\n",
      "(4784, 223, 17)\n",
      "(4642, 985, 17)\n",
      "(4632, 637, 14)\n",
      "(4247, 816, 17)\n",
      "(4184, 377, 26)\n",
      "(4138, 714, 16)\n",
      "(4031, 445, 20)\n",
      "(3879, 876, 19)\n",
      "(3678, 738, 17)\n",
      "(3658, 653, 17)\n",
      "(3245, 378, 22)\n",
      "(3228, 195, 19)\n",
      "(2515, 336, 9)\n",
      "(2236, 716, 14)\n"
     ]
    }
   ],
   "source": [
    "x = sorted([ (sum(peers[n].last_neigh_chain.values()), n, G.degree(n)) for n in G.nodes()], reverse=True)\n",
    "print(\"Top by transaction burden \", *x[:20], sep=\"\\n\")\n",
    "print(\"Lowest by transaction burden \", *x[-20:], sep=\"\\n\")"
   ]
  },
  {
   "cell_type": "markdown",
   "metadata": {},
   "source": [
    "### Burden for the known and verified peers\n",
    "\n",
    "\n",
    "The number of known/verified peers depends on two factors: \n",
    " - The degree of the node\n",
    " - Number of mining/minting. The minter usually have less burden on the known peers\n"
   ]
  },
  {
   "cell_type": "code",
   "execution_count": 7,
   "metadata": {},
   "outputs": [
    {
     "name": "stdout",
     "output_type": "stream",
     "text": [
      "Total peers in the system  100\n"
     ]
    },
    {
     "data": {
      "image/png": "[encoded data removed]",
      "text/plain": [
       "<Figure size 432x288 with 1 Axes>"
      ]
     },
     "metadata": {
      "needs_background": "light"
     },
     "output_type": "display_data"
    }
   ],
   "source": [
    "x = sorted([ len(peers[n].last_neigh_chain.values()) for n in G.nodes()], reverse=True)\n",
    "print('Total peers in the system ', G.number_of_nodes())\n",
    "\n",
    "\n",
    "fig = plt.figure()\n",
    "ax = fig.add_subplot(111)\n",
    "n, bins, rectangles = ax.hist(x, 20, density=False)\n",
    "fig.canvas.draw()\n",
    "plt.show()"
   ]
  },
  {
   "cell_type": "code",
   "execution_count": 11,
   "metadata": {},
   "outputs": [
    {
     "name": "stdout",
     "output_type": "stream",
     "text": [
      "Total peers in the system  500\n"
     ]
    },
    {
     "data": {
      "image/png": "[encoded data removed]",
      "text/plain": [
       "<Figure size 432x288 with 1 Axes>"
      ]
     },
     "metadata": {
      "needs_background": "light"
     },
     "output_type": "display_data"
    }
   ],
   "source": [
    "x = sorted([ len(peers[n].last_neigh_chain.values()) for n in G.nodes()], reverse=True)\n",
    "print('Total peers in the system ', G.number_of_nodes())\n",
    "\n",
    "\n",
    "fig = plt.figure()\n",
    "ax = fig.add_subplot(111)\n",
    "n, bins, rectangles = ax.hist(x, 20, density=False)\n",
    "fig.canvas.draw()\n",
    "plt.show()"
   ]
  },
  {
   "cell_type": "code",
   "execution_count": 114,
   "metadata": {},
   "outputs": [
    {
     "name": "stdout",
     "output_type": "stream",
     "text": [
      "Total peers in the system  1000\n"
     ]
    },
    {
     "data": {
      "image/png": "[encoded data removed]",
      "text/plain": [
       "<Figure size 432x288 with 1 Axes>"
      ]
     },
     "metadata": {
      "needs_background": "light"
     },
     "output_type": "display_data"
    }
   ],
   "source": [
    "x = sorted([ len(peers[n].last_neigh_chain.values()) for n in G.nodes()], reverse=True)\n",
    "print('Total peers in the system ', G.number_of_nodes())\n",
    "\n",
    "\n",
    "fig = plt.figure()\n",
    "ax = fig.add_subplot(111)\n",
    "n, bins, rectangles = ax.hist(x, 20, density=False)\n",
    "fig.canvas.draw()\n",
    "plt.show()"
   ]
  },
  {
   "cell_type": "code",
   "execution_count": 109,
   "metadata": {},
   "outputs": [
    {
     "name": "stdout",
     "output_type": "stream",
     "text": [
      "Total peers in the system  1000\n"
     ]
    },
    {
     "data": {
      "image/png": "[encoded data removed]",
      "text/plain": [
       "<Figure size 432x288 with 1 Axes>"
      ]
     },
     "metadata": {
      "needs_background": "light"
     },
     "output_type": "display_data"
    }
   ],
   "source": [
    "x = sorted([ len(peers[n].last_neigh_chain.values()) for n in G.nodes()], reverse=True)\n",
    "print('Total peers in the system ', G.number_of_nodes())\n",
    "\n",
    "\n",
    "fig = plt.figure()\n",
    "ax = fig.add_subplot(111)\n",
    "n, bins, rectangles = ax.hist(x, 20, density=False)\n",
    "fig.canvas.draw()\n",
    "plt.show()"
   ]
  },
  {
   "cell_type": "code",
   "execution_count": 106,
   "metadata": {},
   "outputs": [
    {
     "name": "stdout",
     "output_type": "stream",
     "text": [
      "Total peers in the system  1000\n"
     ]
    },
    {
     "data": {
      "image/png": "[encoded data removed]",
      "text/plain": [
       "<Figure size 432x288 with 1 Axes>"
      ]
     },
     "metadata": {
      "needs_background": "light"
     },
     "output_type": "display_data"
    }
   ],
   "source": [
    "x = sorted([ len(peers[n].last_neigh_chain.values()) for n in G.nodes()], reverse=True)\n",
    "print('Total peers in the system ', G.number_of_nodes())\n",
    "\n",
    "\n",
    "fig = plt.figure()\n",
    "ax = fig.add_subplot(111)\n",
    "n, bins, rectangles = ax.hist(x, 20, density=False)\n",
    "fig.canvas.draw()\n",
    "plt.show()"
   ]
  },
  {
   "cell_type": "code",
   "execution_count": 102,
   "metadata": {},
   "outputs": [
    {
     "name": "stdout",
     "output_type": "stream",
     "text": [
      "Total peers in the system  1000\n"
     ]
    },
    {
     "data": {
      "image/png": "[encoded data removed]",
      "text/plain": [
       "<Figure size 432x288 with 1 Axes>"
      ]
     },
     "metadata": {
      "needs_background": "light"
     },
     "output_type": "display_data"
    }
   ],
   "source": [
    "x = sorted([ len(peers[n].last_neigh_chain.values()) for n in G.nodes()], reverse=True)\n",
    "print('Total peers in the system ', G.number_of_nodes())\n",
    "\n",
    "\n",
    "fig = plt.figure()\n",
    "ax = fig.add_subplot(111)\n",
    "n, bins, rectangles = ax.hist(x, 20, density=False)\n",
    "fig.canvas.draw()\n",
    "plt.show()"
   ]
  },
  {
   "cell_type": "code",
   "execution_count": 100,
   "metadata": {},
   "outputs": [
    {
     "name": "stdout",
     "output_type": "stream",
     "text": [
      "Total peers in the system  1000\n"
     ]
    },
    {
     "data": {
      "image/png": "[encoded data removed]",
      "text/plain": [
       "<Figure size 432x288 with 1 Axes>"
      ]
     },
     "metadata": {
      "needs_background": "light"
     },
     "output_type": "display_data"
    }
   ],
   "source": [
    "x = sorted([ len(peers[n].last_neigh_chain.values()) for n in G.nodes()], reverse=True)\n",
    "print('Total peers in the system ', G.number_of_nodes())\n",
    "\n",
    "\n",
    "fig = plt.figure()\n",
    "ax = fig.add_subplot(111)\n",
    "n, bins, rectangles = ax.hist(x, 20, density=False)\n",
    "fig.canvas.draw()\n",
    "plt.show()"
   ]
  },
  {
   "cell_type": "code",
   "execution_count": 96,
   "metadata": {},
   "outputs": [
    {
     "name": "stdout",
     "output_type": "stream",
     "text": [
      "Total peers in the system  1000\n"
     ]
    },
    {
     "data": {
      "image/png": "[encoded data removed]",
      "text/plain": [
       "<Figure size 432x288 with 1 Axes>"
      ]
     },
     "metadata": {
      "needs_background": "light"
     },
     "output_type": "display_data"
    }
   ],
   "source": [
    "x = sorted([ len(peers[n].last_neigh_chain.values()) for n in G.nodes()], reverse=True)\n",
    "print('Total peers in the system ', G.number_of_nodes())\n",
    "\n",
    "\n",
    "fig = plt.figure()\n",
    "ax = fig.add_subplot(111)\n",
    "n, bins, rectangles = ax.hist(x, 20, density=False)\n",
    "fig.canvas.draw()\n",
    "plt.show()"
   ]
  },
  {
   "cell_type": "code",
   "execution_count": 93,
   "metadata": {},
   "outputs": [
    {
     "name": "stdout",
     "output_type": "stream",
     "text": [
      "Total peers in the system  1000\n"
     ]
    },
    {
     "data": {
      "image/png": "[encoded data removed]",
      "text/plain": [
       "<Figure size 432x288 with 1 Axes>"
      ]
     },
     "metadata": {
      "needs_background": "light"
     },
     "output_type": "display_data"
    }
   ],
   "source": [
    "x = sorted([ len(peers[n].last_neigh_chain.values()) for n in G.nodes()], reverse=True)\n",
    "print('Total peers in the system ', G.number_of_nodes())\n",
    "\n",
    "\n",
    "fig = plt.figure()\n",
    "ax = fig.add_subplot(111)\n",
    "n, bins, rectangles = ax.hist(x, 20, density=False)\n",
    "fig.canvas.draw()\n",
    "plt.show()"
   ]
  },
  {
   "cell_type": "code",
   "execution_count": 90,
   "metadata": {},
   "outputs": [
    {
     "name": "stdout",
     "output_type": "stream",
     "text": [
      "Total peers in the system  1000\n"
     ]
    },
    {
     "data": {
      "image/png": "[encoded data removed]",
      "text/plain": [
       "<Figure size 432x288 with 1 Axes>"
      ]
     },
     "metadata": {
      "needs_background": "light"
     },
     "output_type": "display_data"
    }
   ],
   "source": [
    "x = sorted([ len(peers[n].last_neigh_chain.values()) for n in G.nodes()], reverse=True)\n",
    "print('Total peers in the system ', G.number_of_nodes())\n",
    "\n",
    "\n",
    "fig = plt.figure()\n",
    "ax = fig.add_subplot(111)\n",
    "n, bins, rectangles = ax.hist(x, 20, density=False)\n",
    "fig.canvas.draw()\n",
    "plt.show()"
   ]
  },
  {
   "cell_type": "code",
   "execution_count": 58,
   "metadata": {},
   "outputs": [
    {
     "name": "stdout",
     "output_type": "stream",
     "text": [
      "Top by known peers burden \n",
      "(913, 336, 9)\n",
      "(774, 364, 10)\n",
      "(599, 886, 17)\n",
      "(531, 770, 14)\n",
      "(489, 930, 16)\n",
      "(470, 237, 17)\n",
      "(463, 674, 16)\n",
      "(452, 197, 15)\n",
      "(450, 387, 19)\n",
      "(446, 448, 15)\n",
      "(433, 527, 14)\n",
      "(425, 557, 17)\n",
      "(409, 518, 12)\n",
      "(409, 466, 14)\n",
      "(393, 213, 20)\n",
      "(386, 855, 16)\n",
      "(365, 889, 17)\n",
      "(339, 844, 13)\n",
      "(328, 997, 21)\n",
      "(320, 983, 19)\n",
      "Lowest  by known peers burden \n",
      "(30, 868, 30)\n",
      "(30, 696, 27)\n",
      "(30, 540, 24)\n",
      "(30, 514, 24)\n",
      "(30, 275, 26)\n",
      "(30, 29, 26)\n",
      "(29, 792, 18)\n",
      "(29, 635, 27)\n",
      "(29, 575, 27)\n",
      "(29, 497, 20)\n",
      "(28, 874, 20)\n",
      "(28, 814, 24)\n",
      "(26, 869, 24)\n",
      "(26, 317, 21)\n",
      "(25, 710, 23)\n",
      "(25, 452, 23)\n",
      "(25, 61, 24)\n",
      "(24, 880, 24)\n",
      "(24, 647, 24)\n",
      "(23, 378, 22)\n"
     ]
    }
   ],
   "source": [
    "x = sorted([ (len(peers[n].last_neigh_chain.values()), n, G.degree(n)) for n in G.nodes()], reverse=True)\n",
    "print(\"Top by known peers burden \", *x[:20], sep=\"\\n\")\n",
    "print(\"Lowest  by known peers burden \", *x[-20:], sep=\"\\n\")"
   ]
  },
  {
   "cell_type": "code",
   "execution_count": null,
   "metadata": {},
   "outputs": [],
   "source": []
  }
 ],
 "metadata": {
  "kernelspec": {
   "display_name": "Python 3",
   "language": "python",
   "name": "python3"
  },
  "language_info": {
   "codemirror_mode": {
    "name": "ipython",
    "version": 3
   },
   "file_extension": ".py",
   "mimetype": "text/x-python",
   "name": "python",
   "nbconvert_exporter": "python",
   "pygments_lexer": "ipython3",
   "version": "3.7.2"
  }
 },
 "nbformat": 4,
 "nbformat_minor": 2
}
