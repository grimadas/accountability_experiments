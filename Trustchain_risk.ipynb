{
 "cells": [
  {
   "cell_type": "code",
   "execution_count": 1,
   "metadata": {},
   "outputs": [],
   "source": [
    "%matplotlib inline\n",
    "import csv\n",
    "import networkx as nx\n",
    "import matplotlib.pyplot as plt\n",
    "import itertools\n",
    "import collections\n",
    "import numpy as np\n",
    "import ast\n",
    "import pandas as pd\n",
    "import io\n",
    "from random import random"
   ]
  },
  {
   "cell_type": "markdown",
   "metadata": {},
   "source": [
    "# Account clock experiments\n",
    "\n",
    "- Each account has two sets: Spend Set and Claim Set: \n",
    "    + Sets are essentially an array, where each index corresonds to the transaction partner (input or output)\n",
    "    + Each set value is an aggregate of total balance: total up/ total down\n",
    "    + Claim set with index zero is minting claim and such claim must be provided with a proof of minting\n",
    "- Each transaction has link to the two set aggregate. \n",
    "\n"
   ]
  },
  {
   "cell_type": "markdown",
   "metadata": {},
   "source": [
    "## Experiments with clocks"
   ]
  },
  {
   "cell_type": "code",
   "execution_count": 6,
   "metadata": {},
   "outputs": [],
   "source": [
    "# Auxilary functions\n",
    "def construct_graph(filename):\n",
    "    G = nx.Graph()\n",
    "    with open(filename, \"r\") as csvfile:\n",
    "        first = True\n",
    "        for k in csvfile:\n",
    "            if first:\n",
    "                first = False\n",
    "                continue\n",
    "            a, b = k.split(\",\")\n",
    "            G.add_edge(int(a), int(b))\n",
    "    return G\n",
    "\n",
    "    \n",
    "def query_neighbors(G, p1, pn):\n",
    "    '''\n",
    "    p1 queries pn about neighbors of the graph G\n",
    "    '''\n",
    "    # Honest answer\n",
    "    return G[pn]"
   ]
  },
  {
   "cell_type": "code",
   "execution_count": 164,
   "metadata": {},
   "outputs": [],
   "source": [
    "\n",
    "class State:\n",
    "    def __init__(self, my_id, neigh_set):\n",
    "        self.claim_set = {k:0 for k in neigh_set}\n",
    "        self.spend_set = {k:0 for k in neigh_set}\n",
    "        self.claim_set[my_id] = 0\n",
    "    \n",
    "    def compress(self):\n",
    "        return (self.claim_set, self.spend_set)\n",
    "\n",
    "class Peer:\n",
    "    ''' \n",
    "    Partner must have enough balance. For this we need to calculate spends and claims:\n",
    "      1. All spends must be fullfilled. Nothing should be missed\n",
    "        - Peer can synchronize with other parties to ensure that. \n",
    "        - Depending on the double spending policy, peer must decide what to do if double spending happends.\n",
    "          Potentially, all spends, including double spends might be accounted. \n",
    "          Otherwise peer when detecting can exlude other peer.  \n",
    "      2. Claims must be valid. A valid claim must fullfill following conditions: \n",
    "        - Claim must initally come from a trusted/verified source, either trusted minter, miner, transaction fee, etc.\n",
    "        - If claim does not come from the peer itself(minting, mining), the previous owner balance must be accountable.\n",
    "        - If the transaction links to the peer itself, the transaction is valid. \n",
    "        - Otherwise the claim has a vector clock of last timestamp. \n",
    "          Such timestamp can be used as the verification pointer for the third party. \n",
    "          For example, A has a balance estimation for the peer B at timestamp (0, 2, 1, 10). \n",
    "          Then if C comes to A with a spend from B that is older than the timestamp, claim of C that is linked to this timestamp is valid. \n",
    "        - Peer cannot verify everything directly. A confirmation from at least K near witness would convince peer A.   \n",
    "    '''\n",
    "    def __init__(self, my_id, neigh_set, chain_budget=100, peer_budget=10):\n",
    "        self.my_id = my_id\n",
    "        self.neigh_set = neigh_set\n",
    "        self.chain = []\n",
    "        self.last_neigh_chain = {k:0 for k in neigh_set}\n",
    "        \n",
    "        self.state = State(self.my_id, self.neigh_set)\n",
    "        \n",
    "        self.incoming_spend_set = {k:0 for k in neigh_set}\n",
    "        self.verified_balance = {k:[0, None] for k in neigh_set}\n",
    "        \n",
    "        self.C_B = chain_budget\n",
    "        self.P_B = peer_budget\n",
    "\n",
    "    def balance(self):\n",
    "        return sum(self.state.claim_set.values()) - sum(self.state.spend_set.values())\n",
    "    \n",
    "    def mint(self, num):\n",
    "        self.state.claim_set[self.my_id] += num\n",
    "        self.chain.append((self.my_id, num))\n",
    "    \n",
    "    def spend(self, par, num):\n",
    "        self.state.spend_set[par] += num\n",
    "        self.chain.append((self.my_id, -num))\n",
    "        \n",
    "    def random_spend_claim(self, num):\n",
    "        par = np.random.choice(self.neigh_set)\n",
    "        self.spend(par, num)        \n",
    "        peers[par].claim(self.my_id, num)\n",
    "        return par\n",
    "    \n",
    "    def estimate_balance(self, par, spends, claims):\n",
    "        # Account all spends\n",
    "        total_spends = sum(spends.values())\n",
    "        \n",
    "        # Account claims that are first directly verifiable \n",
    "        total_claim = claims[par]\n",
    "        if self.my_id in claims:\n",
    "            total_claim+=claims[self.my_id]\n",
    "        unverified_claims = list()\n",
    "        \n",
    "        # Check peer that are known and verified to some extend \n",
    "        for k in set(claims.keys())-{self.my_id, par}:\n",
    "            # TODO: count in timestamps too/ Now it assumes it is recent\n",
    "            if k in self.verified_balance:\n",
    "                total_claim += claims[k]\n",
    "            else:\n",
    "                if claims[k] > 0:\n",
    "                    unverified_claims.append(k)\n",
    "        return (total_claim-total_spends, unverified_claims)\n",
    "        \n",
    "    \n",
    "    def verify_claim(self, par, num):\n",
    "        if self.incoming_spend_set[par] + num != peers[par].state.spend_set[self.my_id]:\n",
    "            # Something is wrong, your partner spend more than you recorded \n",
    "            print(\"Not synchronized\")\n",
    "            return False\n",
    "        \n",
    "        balance, unverified_claims = self.estimate_balance(par, peers[par].state.spend_set, \n",
    "                                                           peers[par].state.claim_set)\n",
    "        \n",
    "        if balance >= 0:\n",
    "            if par not in self.verified_balance:\n",
    "                self.verified_balance[par] = balance\n",
    "            return True\n",
    "        # Otherwise use witnesses/ or download some blocks \n",
    "        \n",
    "        for u_c in unverified_claims:\n",
    "            #balance+=peers[par].state.claim_set[u_c]\n",
    "            if self.try_sync(u_c, self.C_B, self.P_B):\n",
    "                balance+=peers[par].state.claim_set[u_c]\n",
    "                \n",
    "        if balance < 0:\n",
    "            print(self.my_id, par, num)\n",
    "            print(unverified_claims)\n",
    "            print(\"Estimated balance is \", balance)\n",
    "            return False\n",
    "        else:\n",
    "            return True\n",
    "    \n",
    "    def try_sync(self, par, K, max_depth):\n",
    "        # K budget for the synchronization \n",
    "        if par not in self.last_neigh_chain:\n",
    "            self.last_neigh_chain[par] = 0\n",
    "        if len(peers[par].chain) - self.last_neigh_chain[par] < K:\n",
    "            # Get the whole chain TODO: fix that\n",
    "            self.last_neigh_chain[par] = len(peers[par].chain)\n",
    "            bal, left = self.estimate_balance(par, peers[par].state.spend_set, \n",
    "                                                           peers[par].state.claim_set)\n",
    "            if bal >= 0:\n",
    "                if par not in self.verified_balance:\n",
    "                    self.verified_balance[par] = bal\n",
    "                return True\n",
    "            else:\n",
    "                if max_depth < 2:\n",
    "                    return False\n",
    "                for un_cl in left:\n",
    "                    return self.try_sync(un_cl, self.C_B, max_depth-1)\n",
    "                    \n",
    "    \n",
    "    def claim(self, par, num):\n",
    "        if self.verify_claim(par, num):\n",
    "            self.incoming_spend_set[par] += num\n",
    "            self.state.claim_set[par] += num\n",
    "            self.chain.append((self.my_id, num))\n",
    "            self.last_neigh_chain[par] =  len(peers[par].chain)\n",
    "        else: \n",
    "            self.incoming_spend_set[par] += num\n",
    "            print(\"Will not claim the spend, is not valid\")\n",
    "\n",
    "\n",
    "    "
   ]
  },
  {
   "cell_type": "code",
   "execution_count": 166,
   "metadata": {},
   "outputs": [
    {
     "data": {
      "text/plain": [
       "{43: [0, None],\n",
       " 36: [0, None],\n",
       " 19: [0, None],\n",
       " 18: [0, None],\n",
       " 10: [0, None],\n",
       " 32: [0, None],\n",
       " 45: [0, None],\n",
       " 23: [0, None],\n",
       " 38: [0, None],\n",
       " 14: [0, None],\n",
       " 1: 8.36363636363636,\n",
       " 5: 16.545454545454547,\n",
       " 31: 4.90909090909091,\n",
       " 8: 2.603305785123967,\n",
       " 50: 6.1735537190082646,\n",
       " 6: 1.4876033057851235,\n",
       " 37: 3.79338842975206,\n",
       " 39: 2.9008264462809894,\n",
       " 16: 1.115702479338843,\n",
       " 22: 3.3471074380165295,\n",
       " 40: 4.239669421487601,\n",
       " 48: 4.1652892561983474,\n",
       " 49: 8.776859504132227}"
      ]
     },
     "execution_count": 166,
     "metadata": {},
     "output_type": "execute_result"
    }
   ],
   "source": [
    "peers[3].verified_balance"
   ]
  },
  {
   "cell_type": "code",
   "execution_count": 167,
   "metadata": {},
   "outputs": [
    {
     "name": "stdout",
     "output_type": "stream",
     "text": [
      "8 37 0.0743801652892562\n",
      "[1, 34, 41, 15, 49, 22, 27]\n",
      "Estimated balance is  -0.37190082644628\n",
      "Will not claim the spend, is not valid\n",
      "22 10 0.0743801652892562\n",
      "[3, 45, 15, 16, 18]\n",
      "Estimated balance is  -2.008264462809919\n",
      "Will not claim the spend, is not valid\n",
      "22 10 0.0743801652892562\n",
      "[3, 45, 15, 16, 18]\n",
      "Estimated balance is  -3.3471074380165273\n",
      "Will not claim the spend, is not valid\n",
      "22 10 0.0743801652892562\n",
      "[3, 45, 15, 16, 18]\n",
      "Estimated balance is  -3.7190082644628095\n",
      "Will not claim the spend, is not valid\n",
      "22 10 0.0743801652892562\n",
      "[3, 45, 15, 16, 18]\n",
      "Estimated balance is  -3.6446280991735502\n",
      "Will not claim the spend, is not valid\n",
      "22 10 0.0743801652892562\n",
      "[3, 45, 15, 16, 18]\n",
      "Estimated balance is  -4.314049586776855\n",
      "Will not claim the spend, is not valid\n",
      "22 10 0.0743801652892562\n",
      "[3, 45, 15, 16, 18]\n",
      "Estimated balance is  -4.834710743801651\n",
      "Will not claim the spend, is not valid\n",
      "22 10 0.0743801652892562\n",
      "[3, 45, 15, 16, 18]\n",
      "Estimated balance is  -4.9090909090909065\n",
      "Will not claim the spend, is not valid\n"
     ]
    }
   ],
   "source": [
    "peers = {k:Peer(k, list(G[k]), chain_budget=1000, peer_budget=5) for k in G.nodes()}\n",
    "\n",
    "initial_minters = range(1, 6)\n",
    "t = 10\n",
    "tx_size = 9\n",
    "frontier = []\n",
    "\n",
    "for k in initial_minters:\n",
    "    peers[k].mint(100)\n",
    "    for l in range(t):\n",
    "        val = peers[k].random_spend_claim(tx_size)\n",
    "        frontier.append(val)\n",
    "\n",
    "for h in range(2):\n",
    "    new_frontier = []\n",
    "    tx_size /= (t+1)\n",
    "    for k in frontier:\n",
    "        for l in range(t):\n",
    "            val = peers[k].random_spend_claim(tx_size)\n",
    "            new_frontier.append(val)\n",
    "    frontier = new_frontier\n",
    "    \n",
    "    \n",
    "    \n"
   ]
  },
  {
   "cell_type": "code",
   "execution_count": 125,
   "metadata": {},
   "outputs": [
    {
     "data": {
      "text/plain": [
       "{22: 48,\n",
       " 10: 0,\n",
       " 3: 6,\n",
       " 12: 30,\n",
       " 25: 0,\n",
       " 15: 0,\n",
       " 28: 25,\n",
       " 2: 32,\n",
       " 5: 53,\n",
       " 37: 23,\n",
       " 1: 48,\n",
       " 32: 16,\n",
       " 4: 33,\n",
       " 43: 22,\n",
       " 45: 35,\n",
       " 20: 35,\n",
       " 24: 43,\n",
       " 9: 35,\n",
       " 26: 26}"
      ]
     },
     "execution_count": 125,
     "metadata": {},
     "output_type": "execute_result"
    }
   ],
   "source": [
    "peers[36].last_neigh_chain"
   ]
  },
  {
   "cell_type": "code",
   "execution_count": 120,
   "metadata": {},
   "outputs": [
    {
     "data": {
      "text/plain": [
       "11.454545454545455"
      ]
     },
     "execution_count": 120,
     "metadata": {},
     "output_type": "execute_result"
    }
   ],
   "source": [
    "peers[22].balance()"
   ]
  },
  {
   "cell_type": "code",
   "execution_count": 130,
   "metadata": {},
   "outputs": [
    {
     "name": "stdout",
     "output_type": "stream",
     "text": [
      "10\n",
      "22\n",
      "12\n",
      "15\n",
      "25\n",
      "10\n",
      "28\n",
      "3\n",
      "25\n",
      "3\n",
      "0.26143465909090935\n"
     ]
    }
   ],
   "source": [
    "vals = peers[36].balance() / 20\n",
    "for i in range(10):\n",
    "    print(peers[36].random_spend_claim(vals))\n",
    "print(peers[36].balance())"
   ]
  },
  {
   "cell_type": "code",
   "execution_count": 65,
   "metadata": {},
   "outputs": [
    {
     "data": {
      "text/plain": [
       "({21: 0,\n",
       "  5: 1.6363636363636365,\n",
       "  7: 0,\n",
       "  11: 0,\n",
       "  31: 1.6363636363636365,\n",
       "  10: 0.8181818181818182,\n",
       "  37: 0.8181818181818182,\n",
       "  32: 0.8181818181818182,\n",
       "  9: 7.363636363636364,\n",
       "  22: 0,\n",
       "  1: 100},\n",
       " {21: 9, 5: 9, 7: 0, 11: 0, 31: 9, 10: 9, 37: 18, 32: 9, 9: 27, 22: 0})"
      ]
     },
     "execution_count": 65,
     "metadata": {},
     "output_type": "execute_result"
    }
   ],
   "source": [
    "peers[1].state.compress()"
   ]
  },
  {
   "cell_type": "code",
   "execution_count": 41,
   "metadata": {},
   "outputs": [
    {
     "data": {
      "text/plain": [
       "{21: 2.7,\n",
       " 5: 9.9,\n",
       " 7: 1.8,\n",
       " 11: 0,\n",
       " 31: 0,\n",
       " 10: 2.7,\n",
       " 37: 1.8,\n",
       " 32: 1.8,\n",
       " 9: 1.8,\n",
       " 22: 0.9,\n",
       " 1: 100}"
      ]
     },
     "execution_count": 41,
     "metadata": {},
     "output_type": "execute_result"
    }
   ],
   "source": [
    "peers[1].state.claim_set"
   ]
  },
  {
   "cell_type": "code",
   "execution_count": null,
   "metadata": {},
   "outputs": [],
   "source": []
  },
  {
   "cell_type": "code",
   "execution_count": 26,
   "metadata": {},
   "outputs": [],
   "source": []
  },
  {
   "cell_type": "code",
   "execution_count": 27,
   "metadata": {},
   "outputs": [
    {
     "data": {
      "text/plain": [
       "{773: 0,\n",
       " 263: 0,\n",
       " 906: 0,\n",
       " 397: 0,\n",
       " 398: 0,\n",
       " 911: 0,\n",
       " 141: 0,\n",
       " 142: 0,\n",
       " 535: 0,\n",
       " 152: 0,\n",
       " 412: 0,\n",
       " 311: 0,\n",
       " 825: 0,\n",
       " 186: 0,\n",
       " 828: 0,\n",
       " 846: 0,\n",
       " 595: 0,\n",
       " 731: 0,\n",
       " 861: 0,\n",
       " 990: 0,\n",
       " 608: 0,\n",
       " 868: 0,\n",
       " 109: 0,\n",
       " 370: 0,\n",
       " 249: 0,\n",
       " 634: 0,\n",
       " 102: 100}"
      ]
     },
     "execution_count": 27,
     "metadata": {},
     "output_type": "execute_result"
    }
   ],
   "source": []
  },
  {
   "cell_type": "markdown",
   "metadata": {},
   "source": [
    "### Create an interaction network"
   ]
  },
  {
   "cell_type": "code",
   "execution_count": 7,
   "metadata": {},
   "outputs": [
    {
     "name": "stdout",
     "output_type": "stream",
     "text": [
      "50\n"
     ]
    },
    {
     "data": {
      "image/png": "[encoded data removed]",
      "text/plain": [
       "<Figure size 432x288 with 1 Axes>"
      ]
     },
     "metadata": {
      "needs_background": "light"
     },
     "output_type": "display_data"
    }
   ],
   "source": [
    "# initialize peers/ Create and Overlay network  \n",
    "N = 100\n",
    "G = construct_graph(\"GraphDynamics/peer_connections.log.txt\")\n",
    "# Discovery community after 210 seconds \n",
    "print(G.number_of_nodes())\n",
    "x = sorted([d for n, d in G.degree()], reverse=True)\n",
    "\n",
    "fig = plt.figure()\n",
    "ax = fig.add_subplot(111)\n",
    "n, bins, rectangles = ax.hist(x, 100, density=False)\n",
    "fig.canvas.draw()\n",
    "plt.show()\n",
    "\n",
    "\n"
   ]
  },
  {
   "cell_type": "markdown",
   "metadata": {},
   "source": [
    "### Initialize clocks and peers"
   ]
  },
  {
   "cell_type": "code",
   "execution_count": null,
   "metadata": {},
   "outputs": [],
   "source": [
    "\n",
    "\n",
    "for p in G.nodes():\n",
    "    for n in neigh\n",
    "    neigh = G[p]\n",
    "    \n",
    "    "
   ]
  }
 ],
 "metadata": {
  "kernelspec": {
   "display_name": "Python 3",
   "language": "python",
   "name": "python3"
  },
  "language_info": {
   "codemirror_mode": {
    "name": "ipython",
    "version": 3
   },
   "file_extension": ".py",
   "mimetype": "text/x-python",
   "name": "python",
   "nbconvert_exporter": "python",
   "pygments_lexer": "ipython3",
   "version": "3.7.2"
  }
 },
 "nbformat": 4,
 "nbformat_minor": 2
}
