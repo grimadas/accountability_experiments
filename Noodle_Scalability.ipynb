{
 "cells": [
  {
   "cell_type": "code",
   "execution_count": 1,
   "metadata": {},
   "outputs": [],
   "source": [
    "import numpy as np"
   ]
  },
  {
   "cell_type": "markdown",
   "metadata": {},
   "source": [
    "## Read the dataset\n",
    "\n",
    "### N = 50 / S = 15\n",
    "1. Rate : 10 tx/sec \n",
    " - Est system throughput  483.374196\n",
    " - Total transactions  28974\n",
    " - Peak throughput  496\n",
    " - Median round latency  0.014953374\n",
    " - Median all received latency  0.3381112\n",
    "2. Rate: 100 tx/sec \n",
    " - Est system throughput  727.14732392\n",
    " - Total transactions  43628\n",
    " - Peak throughput  786\n",
    " - Median round latency  0.20268750190\n",
    " - Median all received latency  0.4679472446\n",
    "3. Rate: 1,000 tx/sec \n",
    " - Est system throughput  781.9564927625192\n",
    " - Total transactions  46920\n",
    " - Peak throughput  812\n",
    " - Median round latency  0.2086963653564453\n",
    " - Median all received latency  0.4732102155685425 \n",
    "4. 10,000 tx/sec\n",
    " - Est system throughput  768.1905648069853\n",
    " - Total transactions  46090\n",
    " - Peak throughput  837\n",
    " - Median round latency  0.20660734176635742\n",
    " - Median all received latency  0.4702136516571045\n",
    "5. 100,000 tx/sec\n",
    " - Est system throughput  753.9773295613762\n",
    " - Total transactions  45238\n",
    " - Peak throughput  880\n",
    " - Median round latency  0.21443533897399902\n",
    " - Median all received latency  0.48249876499176025\n",
    "\n",
    "### Resources update \n",
    "\n",
    "1. R = 10, N = 50\n",
    "\n",
    " - Est system throughput  807.2624085842427\n",
    " - Total transactions  48434\n",
    " - Peak throughput  895\n",
    " - Median round latency  0.20511221885681152\n",
    " - Median all received latency  0.47864699363708496\n",
    "\n",
    "2. R = 15, N = 50\n",
    "\n",
    " - Est system throughput  859.4521186939215\n",
    " - Total transactions  51564\n",
    " - Peak throughput  900\n",
    " - Median round latency  0.19453024864196777\n",
    " - Median all received latency  0.4605334997177124\n",
    " \n",
    "3. R = 20 \n",
    "\n",
    " - Est system throughput  857.5430546462355\n",
    " - Total transactions  51450\n",
    " - Peak throughput  898\n",
    " - Median round latency  0.17993402481079102\n",
    " - Median all received latency  0.4385809898376465\n",
    "\n",
    "4. R = 30 \n",
    "\n",
    " - Est system throughput  911.1047533273896\n",
    " - Total transactions  54664\n",
    " - Peak throughput  958\n",
    " - Median round latency  0.15656065940856934\n",
    " - Median all received latency  0.40256381034851074\n",
    " \n",
    " rate 10,000\n",
    "    Est system throughput  964.7011632353781\n",
    "    Total transactions  57880\n",
    "    Peak throughput  1017\n",
    "    Median round latency  0.1573479175567627\n",
    "    Median all received latency  0.4068477153778076\n",
    "\n",
    "N = 50, S = 15, R = 30 \n",
    "   - Est system throughput  1068.812031678148\n",
    "   - Total transactions  64124\n",
    "   - Peak throughput  1092\n",
    "   - Median round latency  0.18102359771728516\n",
    "   - Median all received latency  0.34412384033203125\n",
    "    \n",
    "### R = 30, S = 15, different N \n",
    "\n",
    "* N = 100\n",
    " - Est system throughput  912.2689528891686\n",
    " - Total transactions  54734\n",
    " - Peak throughput  1105\n",
    " - Median round latency  0.3490002155303955\n",
    " - Median all received latency  0.628920316696167\n",
    " \n",
    " Rate higher:\n",
    "         Est system throughput  943.2793806520752\n",
    "         - Total transactions  56594\n",
    "        - Peak throughput  1140\n",
    "        Median round latency  0.3628702163696289\n",
    "        Median all received latency  0.6363089084625244\n",
    " \n",
    "* N = 200\n",
    "\n",
    "Est system throughput  973.7071922983016\n",
    "Total transactions  58420\n",
    "Peak throughput  1275\n",
    "Median round latency  0.708975076675415\n",
    "Median all received latency  1.0246912240982056\n",
    "\n",
    "* N = 30 \n",
    "\n",
    "Est system throughput  599.6550164093476\n",
    "Total transactions  35970\n",
    "Peak throughput  621\n",
    "Median round latency  0.13649439811706543\n",
    "Median all received latency  0.3757057189941406\n",
    "\n",
    "* N = 30 more resoruces \n",
    "\n",
    "Est system throughput  608.6764387428414\n",
    "Total transactions  36518\n",
    "Peak throughput  620\n",
    "Median round latency  0.1367044448852539\n",
    "Median all received latency  0.37877726554870605\n",
    "\n",
    "## Different graph structure\n",
    "\n",
    "S = 15\n",
    "\n",
    "\n",
    "S = 30 \n",
    "\n",
    "Est system throughput  849.00242717158\n",
    "Total transactions  50938\n",
    "Peak throughput  918\n",
    "Median round latency  0.35129213333129883\n",
    "Median all received latency  0.662987232208252\n",
    "\n",
    "S = 50 \n",
    "\n",
    "Est system throughput  775.7466468245492\n",
    "Total transactions  46544\n",
    "Peak throughput  833\n",
    "Median round latency  0.3449583053588867\n",
    "Median all received latency  0.6616991758346558\n",
    "\n",
    "S = 100\n",
    "\n",
    "Est system throughput  686.8597121297582\n",
    "Total transactions  41293\n",
    "Peak throughput  737\n",
    "Median round latency  0.40673553943634033\n",
    "Median all received latency  0.8253422975540161\n",
    "\n"
   ]
  },
  {
   "cell_type": "code",
   "execution_count": 73,
   "metadata": {},
   "outputs": [],
   "source": [
    "import ast\n",
    "import csv\n",
    "\n",
    "graph_path = \"/home/bulat/project/DetectionExperiments/noodles/Datasets/leader_blocks_time_agg_f_5_n_100_r_40_asyc_2.csv\"\n",
    "\n",
    "peer_counts ={}\n",
    "tx_seen= dict()\n",
    "tx_stats = dict()\n",
    "min_time = None\n",
    "max_time = None\n",
    "tx_map = dict()\n",
    "# time,transaction,type,seq_num,seen_by\n",
    "\n",
    "index = 0                        \n",
    "with open(graph_path) as read_file:\n",
    "    csv_reader = csv.reader(read_file)\n",
    "    first = True\n",
    "    for row in csv_reader:\n",
    "        if first:\n",
    "            first = False\n",
    "        else:\n",
    "            time = float(row[0])\n",
    "            peer_id = int(row[-1])\n",
    "            type_val = row[2]\n",
    "            seq_num_tuple = ast.literal_eval(row[3])\n",
    "            tx = ast.literal_eval(row[1])  \n",
    "            if str(tx) not in tx_map:\n",
    "                tx_map[str(tx)] = index\n",
    "                index+=1\n",
    "\n",
    "            tx_map_ind = tx_map[str(tx)]\n",
    "            from_peer = int(tx['peer']) if 'peer' in tx else int(tx['from_peer'])\n",
    "            to_peer = int(tx['to_peer']) if 'to_peer' in tx else None\n",
    "            tx_id = str(tx_map_ind)+str(seq_num_tuple)\n",
    "\n",
    "            if not min_time or time < min_time:\n",
    "                min_time = time\n",
    "            if not max_time or time > max_time:\n",
    "                max_time = time \n",
    "            \n",
    "            # Transaction seen by how many times\n",
    "            if tx_id not in tx_seen:\n",
    "                tx_seen[tx_id] = 1\n",
    "                if tx_map_ind not in tx_stats:\n",
    "                    tx_stats[tx_map_ind] = dict()\n",
    "            else: \n",
    "                tx_seen[tx_id] += 1\n",
    "\n",
    "            # Init peer info\n",
    "            if peer_id not in peer_counts:\n",
    "                peer_counts[peer_id] = {\"from_count\": 0, \"to_count\":0, \"others\":0}\n",
    "            \n",
    "            #print(from_peer, peer_id)\n",
    "            #print(seq_num_tuple)\n",
    "            #print(tx_map_ind)\n",
    "            \n",
    "            \n",
    "            if from_peer == peer_id:\n",
    "                # If this is a source transaction\n",
    "                peer_counts[peer_id][\"from_count\"]+=1\n",
    "                if int(seq_num_tuple[1]) == 0 and 'first_create' not in tx_stats[tx_map_ind]:\n",
    "                    # This is creation block\n",
    "                    tx_stats[tx_map_ind]['first_create'] = time\n",
    "                elif int(seq_num_tuple[1]) != 0 and 'round_time' not in tx_stats[tx_map_ind]:\n",
    "                    # The source peer sees the claim confirmation \n",
    "                    tx_stats[tx_map_ind]['round_time'] = time\n",
    "            elif to_peer == peer_id:\n",
    "                # Dest transaction \n",
    "                peer_counts[peer_id][\"to_count\"]+=1\n",
    "                if int(seq_num_tuple[1]) == 0 and 'first_seen' not in tx_stats[tx_map_ind]:\n",
    "                    # Spend first seen by the counterparty \n",
    "                    tx_stats[tx_map_ind]['first_seen'] = time\n",
    "                elif int(seq_num_tuple[1]) != 0 and 'claim_time' not in tx_stats[tx_map_ind]:\n",
    "                    # The transaction claimed \n",
    "                    tx_stats[tx_map_ind]['claim_time'] = time\n",
    "            else:\n",
    "                # Other transactions\n",
    "                peer_counts[peer_id][\"others\"]+=1\n",
    "                if 'last_time' not in tx_stats[tx_map_ind]:\n",
    "                    tx_stats[tx_map_ind]['last_time'] = time\n",
    "                elif tx_stats[tx_map_ind]['last_time'] < time:\n",
    "                    tx_stats[tx_map_ind]['last_time'] = time"
   ]
  },
  {
   "cell_type": "code",
   "execution_count": 74,
   "metadata": {},
   "outputs": [],
   "source": [
    "import math\n",
    "import numpy as np\n",
    "\n",
    "latency_round = []\n",
    "latency_all = []\n",
    "throughput = {l:0 for l in range(int(max_time)+1)}\n",
    "errs = []\n",
    "\n",
    "for t in tx_stats:\n",
    "    if 'round_time' not in tx_stats[t]:\n",
    "        pass\n",
    "    else:\n",
    "        val = tx_stats[t]\n",
    "        if 'first_seen' not in val:\n",
    "            errs.append(t)\n",
    "            continue\n",
    "        round_trip = abs(val['round_time'] - val['first_create'])\n",
    "        latency_round.append(round_trip)\n",
    "        throughput[math.floor(val['first_seen'])] += 1      \n",
    "        if 'last_time' not in val:\n",
    "            val['last_time'] = val['round_time']\n",
    "        all_seen = abs(val['last_time'] - val['first_seen']) \n",
    "        latency_all.append(all_seen)\n",
    "\n",
    "        if all_seen > 10:\n",
    "            print(t, tx_stats[t])\n",
    "            "
   ]
  },
  {
   "cell_type": "code",
   "execution_count": null,
   "metadata": {},
   "outputs": [],
   "source": []
  },
  {
   "cell_type": "code",
   "execution_count": 75,
   "metadata": {},
   "outputs": [
    {
     "name": "stdout",
     "output_type": "stream",
     "text": [
      "Est system throughput  3891.981840471668\n",
      "Total transactions  233502\n",
      "Peak throughput  4288\n",
      "Median round latency  0.24185621738433838\n",
      "Median all received latency  0.5480101108551025\n",
      "Errors  0\n"
     ]
    }
   ],
   "source": [
    "# 100 nodes /  fanout 5 / R = 40 / async 2 send \n",
    "print(\"Est system throughput \", len(tx_seen)/(max_time-min_time))\n",
    "print(\"Total transactions \", len(tx_seen))\n",
    "print(\"Peak throughput \", max(throughput.values()))\n",
    "print(\"Median round latency \", np.median(latency_round))\n",
    "print(\"Median all received latency \", np.median(latency_all))\n",
    "print(\"Errors \", len(errs))\n"
   ]
  },
  {
   "cell_type": "code",
   "execution_count": 72,
   "metadata": {},
   "outputs": [
    {
     "name": "stdout",
     "output_type": "stream",
     "text": [
      "Est system throughput  3943.5954278907275\n",
      "Total transactions  236592\n",
      "Peak throughput  4345\n",
      "Median round latency  0.18439137935638428\n",
      "Median all received latency  0.5066524744033813\n",
      "Errors  0\n"
     ]
    }
   ],
   "source": [
    "# 100 nodes /  fanout 5 / R = 40 / async send \n",
    "print(\"Est system throughput \", len(tx_seen)/(max_time-min_time))\n",
    "print(\"Total transactions \", len(tx_seen))\n",
    "print(\"Peak throughput \", max(throughput.values()))\n",
    "print(\"Median round latency \", np.median(latency_round))\n",
    "print(\"Median all received latency \", np.median(latency_all))\n",
    "print(\"Errors \", len(errs))\n"
   ]
  },
  {
   "cell_type": "code",
   "execution_count": 68,
   "metadata": {},
   "outputs": [
    {
     "name": "stdout",
     "output_type": "stream",
     "text": [
      "Est system throughput  3911.856069858355\n",
      "Total transactions  234674\n",
      "Peak throughput  4491\n",
      "Median round latency  0.23033738136291504\n",
      "Median all received latency  0.31153154373168945\n",
      "Errors  0\n"
     ]
    }
   ],
   "source": [
    "# 100 nodes /  fanout 5 / R = 40\n",
    "print(\"Est system throughput \", len(tx_seen)/(max_time-min_time))\n",
    "print(\"Total transactions \", len(tx_seen))\n",
    "print(\"Peak throughput \", max(throughput.values()))\n",
    "print(\"Median round latency \", np.median(latency_round))\n",
    "print(\"Median all received latency \", np.median(latency_all))\n",
    "print(\"Errors \", len(errs))\n"
   ]
  },
  {
   "cell_type": "code",
   "execution_count": 65,
   "metadata": {},
   "outputs": [
    {
     "name": "stdout",
     "output_type": "stream",
     "text": [
      "Est system throughput  3656.095480544004\n",
      "Total transactions  219356\n",
      "Peak throughput  3756\n",
      "Median round latency  0.11726260185241699\n",
      "Median all received latency  0.16791462898254395\n",
      "Errors  0\n"
     ]
    }
   ],
   "source": [
    "# 50 nodes /  fanout 5 / R = 50\n",
    "print(\"Est system throughput \", len(tx_seen)/(max_time-min_time))\n",
    "print(\"Total transactions \", len(tx_seen))\n",
    "print(\"Peak throughput \", max(throughput.values()))\n",
    "print(\"Median round latency \", np.median(latency_round))\n",
    "print(\"Median all received latency \", np.median(latency_all))\n",
    "print(\"Errors \", len(errs))\n"
   ]
  },
  {
   "cell_type": "code",
   "execution_count": 62,
   "metadata": {},
   "outputs": [
    {
     "name": "stdout",
     "output_type": "stream",
     "text": [
      "Est system throughput  3535.7364646824453\n",
      "Total transactions  212132\n",
      "Peak throughput  3682\n",
      "Median round latency  0.1298213005065918\n",
      "Median all received latency  0.17923486232757568\n",
      "Errors  0\n"
     ]
    }
   ],
   "source": [
    "# 50 nodes /  fanout 5 / R = 40\n",
    "print(\"Est system throughput \", len(tx_seen)/(max_time-min_time))\n",
    "print(\"Total transactions \", len(tx_seen))\n",
    "print(\"Peak throughput \", max(throughput.values()))\n",
    "print(\"Median round latency \", np.median(latency_round))\n",
    "print(\"Median all received latency \", np.median(latency_all))\n",
    "print(\"Errors \", len(errs))\n"
   ]
  },
  {
   "cell_type": "code",
   "execution_count": 59,
   "metadata": {},
   "outputs": [
    {
     "name": "stdout",
     "output_type": "stream",
     "text": [
      "Est system throughput  3496.3397413972193\n",
      "Total transactions  209774\n",
      "Peak throughput  3706\n",
      "Median round latency  0.12245368957519531\n",
      "Median all received latency  0.17805266380310059\n",
      "Errors  0\n"
     ]
    }
   ],
   "source": [
    "# 50 nodes /  fanout 5 / R = 30\n",
    "print(\"Est system throughput \", len(tx_seen)/(max_time-min_time))\n",
    "print(\"Total transactions \", len(tx_seen))\n",
    "print(\"Peak throughput \", max(throughput.values()))\n",
    "print(\"Median round latency \", np.median(latency_round))\n",
    "print(\"Median all received latency \", np.median(latency_all))\n",
    "print(\"Errors \", len(errs))\n"
   ]
  },
  {
   "cell_type": "code",
   "execution_count": 56,
   "metadata": {},
   "outputs": [
    {
     "name": "stdout",
     "output_type": "stream",
     "text": [
      "Est system throughput  3443.0818678722458\n",
      "Total transactions  206568\n",
      "Peak throughput  3540\n",
      "Median round latency  0.1265873908996582\n",
      "Median all received latency  0.1883256435394287\n",
      "Errors  0\n"
     ]
    }
   ],
   "source": [
    "# 50 nodes /  fanout 5 / R = 20\n",
    "print(\"Est system throughput \", len(tx_seen)/(max_time-min_time))\n",
    "print(\"Total transactions \", len(tx_seen))\n",
    "print(\"Peak throughput \", max(throughput.values()))\n",
    "print(\"Median round latency \", np.median(latency_round))\n",
    "print(\"Median all received latency \", np.median(latency_all))\n",
    "print(\"Errors \", len(errs))\n"
   ]
  },
  {
   "cell_type": "code",
   "execution_count": 53,
   "metadata": {},
   "outputs": [
    {
     "name": "stdout",
     "output_type": "stream",
     "text": [
      "Est system throughput  3023.5318637244477\n",
      "Total transactions  181406\n",
      "Peak throughput  3141\n",
      "Median round latency  0.15140247344970703\n",
      "Median all received latency  0.2160114049911499\n",
      "Errors  0\n"
     ]
    }
   ],
   "source": [
    "# 50 nodes /  fanout 5 / R = 10\n",
    "print(\"Est system throughput \", len(tx_seen)/(max_time-min_time))\n",
    "print(\"Total transactions \", len(tx_seen))\n",
    "print(\"Peak throughput \", max(throughput.values()))\n",
    "print(\"Median round latency \", np.median(latency_round))\n",
    "print(\"Median all received latency \", np.median(latency_all))\n",
    "print(\"Errors \", len(errs))\n"
   ]
  },
  {
   "cell_type": "code",
   "execution_count": 50,
   "metadata": {},
   "outputs": [
    {
     "name": "stdout",
     "output_type": "stream",
     "text": [
      "Est system throughput  10626.802244326871\n",
      "Total transactions  637300\n",
      "Peak throughput  12027\n",
      "Median round latency  0.08565771579742432\n",
      "Median all received latency  0.06370317935943604\n",
      "Errors  0\n"
     ]
    }
   ],
   "source": [
    "# 300 nodes /  fanout 1\n",
    "print(\"Est system throughput \", len(tx_seen)/(max_time-min_time))\n",
    "print(\"Total transactions \", len(tx_seen))\n",
    "print(\"Peak throughput \", max(throughput.values()))\n",
    "print(\"Median round latency \", np.median(latency_round))\n",
    "print(\"Median all received latency \", np.median(latency_all))\n",
    "print(\"Errors \", len(errs))\n"
   ]
  },
  {
   "cell_type": "code",
   "execution_count": 47,
   "metadata": {},
   "outputs": [
    {
     "name": "stdout",
     "output_type": "stream",
     "text": [
      "Est system throughput  10106.970190858412\n",
      "Total transactions  598806\n",
      "Peak throughput  11434\n",
      "Median round latency  0.060135722160339355\n",
      "Median all received latency  0.04631757736206055\n",
      "Errors  0\n"
     ]
    }
   ],
   "source": [
    "# 200 nodes /  fanout 1\n",
    "print(\"Est system throughput \", len(tx_seen)/(max_time-min_time))\n",
    "print(\"Total transactions \", len(tx_seen))\n",
    "print(\"Peak throughput \", max(throughput.values()))\n",
    "print(\"Median round latency \", np.median(latency_round))\n",
    "print(\"Median all received latency \", np.median(latency_all))\n",
    "print(\"Errors \", len(errs))\n"
   ]
  },
  {
   "cell_type": "code",
   "execution_count": 44,
   "metadata": {},
   "outputs": [
    {
     "name": "stdout",
     "output_type": "stream",
     "text": [
      "Est system throughput  10009.006000427205\n",
      "Total transactions  600330\n",
      "Peak throughput  11002\n",
      "Median round latency  0.031522154808044434\n",
      "Median all received latency  0.02484571933746338\n",
      "Errors  0\n"
     ]
    }
   ],
   "source": [
    "# 100 nodes /  fanout 1\n",
    "print(\"Est system throughput \", len(tx_seen)/(max_time-min_time))\n",
    "print(\"Total transactions \", len(tx_seen))\n",
    "print(\"Peak throughput \", max(throughput.values()))\n",
    "print(\"Median round latency \", np.median(latency_round))\n",
    "print(\"Median all received latency \", np.median(latency_all))\n",
    "print(\"Errors \", len(errs))\n"
   ]
  },
  {
   "cell_type": "code",
   "execution_count": 41,
   "metadata": {},
   "outputs": [
    {
     "name": "stdout",
     "output_type": "stream",
     "text": [
      "Est system throughput  4269.598089068042\n",
      "Total transactions  256114\n",
      "Peak throughput  4939\n",
      "Median round latency  0.38065052032470703\n",
      "Median all received latency  0.7387137413024902\n",
      "Errors  0\n"
     ]
    }
   ],
   "source": [
    "# 300 nodes /  fanout 5\n",
    "print(\"Est system throughput \", len(tx_seen)/(max_time-min_time))\n",
    "print(\"Total transactions \", len(tx_seen))\n",
    "print(\"Peak throughput \", max(throughput.values()))\n",
    "print(\"Median round latency \", np.median(latency_round))\n",
    "print(\"Median all received latency \", np.median(latency_all))\n",
    "print(\"Errors \", len(errs))\n"
   ]
  },
  {
   "cell_type": "code",
   "execution_count": 38,
   "metadata": {},
   "outputs": [
    {
     "name": "stdout",
     "output_type": "stream",
     "text": [
      "Est system throughput  4008.943540957877\n",
      "Total transactions  240421\n",
      "Peak throughput  4514\n",
      "Median round latency  0.2909599542617798\n",
      "Median all received latency  0.5337694883346558\n",
      "Errors  0\n"
     ]
    }
   ],
   "source": [
    "# 200 nodes /  fanout 5\n",
    "print(\"Est system throughput \", len(tx_seen)/(max_time-min_time))\n",
    "print(\"Total transactions \", len(tx_seen))\n",
    "print(\"Peak throughput \", max(throughput.values()))\n",
    "print(\"Median round latency \", np.median(latency_round))\n",
    "print(\"Median all received latency \", np.median(latency_all))\n",
    "print(\"Errors \", len(errs))\n"
   ]
  },
  {
   "cell_type": "code",
   "execution_count": 35,
   "metadata": {},
   "outputs": [
    {
     "name": "stdout",
     "output_type": "stream",
     "text": [
      "Est system throughput  3993.484810680924\n",
      "Total transactions  239564\n",
      "Peak throughput  4638\n",
      "Median round latency  0.18499791622161865\n",
      "Median all received latency  0.2911151647567749\n",
      "Errors  0\n"
     ]
    }
   ],
   "source": [
    "# 100 nodes /  fanout 5\n",
    "print(\"Est system throughput \", len(tx_seen)/(max_time-min_time))\n",
    "print(\"Total transactions \", len(tx_seen))\n",
    "print(\"Peak throughput \", max(throughput.values()))\n",
    "print(\"Median round latency \", np.median(latency_round))\n",
    "print(\"Median all received latency \", np.median(latency_all))\n",
    "print(\"Errors \", len(errs))\n"
   ]
  },
  {
   "cell_type": "code",
   "execution_count": 31,
   "metadata": {},
   "outputs": [
    {
     "name": "stdout",
     "output_type": "stream",
     "text": [
      "Est system throughput  21023.543429810477\n",
      "Total transactions  635502\n",
      "Peak throughput  12460\n",
      "Median round latency  0.057007551193237305\n",
      "Median all received latency  0.04381513595581055\n",
      "Errors  0\n"
     ]
    }
   ],
   "source": [
    "# 200 nodes / \n",
    "print(\"Est system throughput \", len(tx_seen)/(max_time-min_time))\n",
    "print(\"Total transactions \", len(tx_seen))\n",
    "print(\"Peak throughput \", max(throughput.values()))\n",
    "print(\"Median round latency \", np.median(latency_round))\n",
    "print(\"Median all received latency \", np.median(latency_all))\n",
    "print(\"Errors \", len(errs))\n"
   ]
  },
  {
   "cell_type": "code",
   "execution_count": 208,
   "metadata": {},
   "outputs": [
    {
     "name": "stdout",
     "output_type": "stream",
     "text": [
      "Est system throughput  1006.6532183960269\n",
      "Total transactions  60400\n",
      "Peak throughput  1086\n",
      "Median round latency  0.1883605718612671\n",
      "Median all received latency  0.354001522064209\n"
     ]
    }
   ],
   "source": [
    "print(\"Est system throughput \", len(tx_seen)/(max_time-min_time))\n",
    "print(\"Total transactions \", len(tx_seen))\n",
    "print(\"Peak throughput \", max(throughput.values()))\n",
    "print(\"Median round latency \", np.median(latency_round))\n",
    "print(\"Median all received latency \", np.median(latency_all))\n"
   ]
  },
  {
   "cell_type": "code",
   "execution_count": 218,
   "metadata": {},
   "outputs": [
    {
     "name": "stdout",
     "output_type": "stream",
     "text": [
      "Est system throughput  5825.927056511227\n",
      "Total transactions  346048\n",
      "Peak throughput  2750\n",
      "Median round latency  0.025752544403076172\n",
      "Median all received latency  nan\n",
      "Num of errs  172997\n"
     ]
    },
    {
     "name": "stderr",
     "output_type": "stream",
     "text": [
      "/usr/local/lib/python3.7/site-packages/numpy/core/fromnumeric.py:3118: RuntimeWarning: Mean of empty slice.\n",
      "  out=out, **kwargs)\n",
      "/usr/local/lib/python3.7/site-packages/numpy/core/_methods.py:85: RuntimeWarning: invalid value encountered in double_scalars\n",
      "  ret = ret.dtype.type(ret / rcount)\n"
     ]
    }
   ],
   "source": [
    "print(\"Est system throughput \", len(tx_seen)/(max_time-min_time))\n",
    "print(\"Total transactions \", len(tx_seen))\n",
    "print(\"Peak throughput \", max(throughput.values()))\n",
    "print(\"Median round latency \", np.median(latency_round))\n",
    "print(\"Median all received latency \", np.median(latency_all))\n",
    "print(\"Num of errs \", len(errs))"
   ]
  },
  {
   "cell_type": "code",
   "execution_count": 226,
   "metadata": {},
   "outputs": [
    {
     "name": "stdout",
     "output_type": "stream",
     "text": [
      "Est system throughput  2280.919426336533\n",
      "Total transactions  136844\n",
      "Peak throughput  1977\n",
      "Median round latency  0.15255236625671387\n",
      "Median all received latency  nan\n",
      "Errors  67867\n"
     ]
    }
   ],
   "source": [
    "print(\"Est system throughput \", len(tx_seen)/(max_time-min_time))\n",
    "print(\"Total transactions \", len(tx_seen))\n",
    "print(\"Peak throughput \", max(throughput.values()))\n",
    "print(\"Median round latency \", np.median(latency_round))\n",
    "print(\"Median all received latency \", np.median(latency_all))\n",
    "print(\"Errors \", len(errs))\n"
   ]
  },
  {
   "cell_type": "code",
   "execution_count": 242,
   "metadata": {},
   "outputs": [
    {
     "name": "stdout",
     "output_type": "stream",
     "text": [
      "Est system throughput  3487.9940403920973\n",
      "Total transactions  209274\n",
      "Peak throughput  2853\n",
      "Median round latency  0.2164599895477295\n",
      "Median all received latency  nan\n",
      "Num of errs  103570\n"
     ]
    }
   ],
   "source": [
    "print(\"Est system throughput \", len(tx_seen)/(max_time-min_time))\n",
    "print(\"Total transactions \", len(tx_seen))\n",
    "print(\"Peak throughput \", max(throughput.values()))\n",
    "print(\"Median round latency \", np.median(latency_round))\n",
    "print(\"Median all received latency \", np.median(latency_all))\n",
    "print(\"Num of errs \", len(errs))"
   ]
  },
  {
   "cell_type": "markdown",
   "metadata": {},
   "source": [
    "###  Experiments draft \n",
    "\n",
    "1. S = 15  / N = 50, 100, 200, 300 / R = 10 per node / b = 5\n",
    "\n",
    " N = 50\n",
    "Est system throughput  2280.919426336533\n",
    "Total transactions  136844\n",
    "Peak throughput  1977\n",
    "Median round latency  0.15255236625671387\n",
    "Median all received latency  nan\n",
    "Errors  67867\n",
    "\n",
    "N = 100 \n",
    "\n",
    "Est system throughput  3354.5847948681253\n",
    "Total transactions  201252\n",
    "Peak throughput  2813\n",
    "Median round latency  0.22199273109436035\n",
    "Median all received latency  nan\n",
    "Num of errs  99596\n",
    "\n",
    "Est system throughput  3487.9940403920973\n",
    "Total transactions  209274\n",
    "Peak throughput  2853\n",
    "Median round latency  0.2164599895477295\n",
    "Median all received latency  nan\n",
    "Num of errs  103570\n",
    "\n",
    "\n",
    "Est system throughput  3966.825867093246\n",
    "Total transactions  237982\n",
    "Peak throughput  3380\n",
    "Median round latency  0.17954659461975098\n",
    "Median all received latency  nan\n",
    "\n",
    "\n",
    "N = 200 \n",
    "\n",
    "Est system throughput  3209.0072227527985\n",
    "Total transactions  192526\n",
    "Peak throughput  3065\n",
    "Median round latency  0.4524219036102295\n",
    "Median all received latency  nan\n",
    "Num of errs  95070\n",
    "\n",
    "N = 300 \n",
    "\n",
    "\n",
    "Est system throughput  3853.0963158375985\n",
    "Total transactions  231156\n",
    "Peak throughput  3312\n",
    "Median round latency  0.5554780960083008\n",
    "Median all received latency  nan\n",
    "Num of errs  114337\n",
    "\n",
    "N = 400 \n",
    "\n",
    "Est system throughput  3883.6565456083445\n",
    "Total transactions  233006\n",
    "Peak throughput  3406\n",
    "Median round latency  0.7155075073242188\n",
    "Median all received latency  nan\n",
    "Num of errs  115231\n",
    "\n",
    "\n"
   ]
  }
 ],
 "metadata": {
  "kernelspec": {
   "display_name": "Python 3",
   "language": "python",
   "name": "python3"
  },
  "language_info": {
   "codemirror_mode": {
    "name": "ipython",
    "version": 3
   },
   "file_extension": ".py",
   "mimetype": "text/x-python",
   "name": "python",
   "nbconvert_exporter": "python",
   "pygments_lexer": "ipython3",
   "version": "3.6.8"
  }
 },
 "nbformat": 4,
 "nbformat_minor": 2
}
