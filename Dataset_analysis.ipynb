{
 "cells": [
  {
   "cell_type": "markdown",
   "metadata": {},
   "source": [
    "# Processing of Datasets \n",
    "\n",
    "Notebook for processing different dataset, inculding finacical: Bitcoin, Ethereum etc."
   ]
  },
  {
   "cell_type": "code",
   "execution_count": 1,
   "metadata": {},
   "outputs": [],
   "source": [
    "%matplotlib inline\n",
    "import csv\n",
    "import networkx as nx\n",
    "import matplotlib.pyplot as plt\n",
    "import itertools\n",
    "import collections\n",
    "import numpy as np\n",
    "import ast\n",
    "import pandas as pd\n",
    "import io\n",
    "from random import random"
   ]
  },
  {
   "cell_type": "markdown",
   "metadata": {},
   "source": [
    "## Ethereum dataset"
   ]
  },
  {
   "cell_type": "code",
   "execution_count": 2,
   "metadata": {},
   "outputs": [
    {
     "name": "stdout",
     "output_type": "stream",
     "text": [
      "hash,nonce,transaction_index,from_address,to_address,value,gas,gas_price,input,receipt_cumulative_gas_used,receipt_gas_used,receipt_contract_address,receipt_root,receipt_status,block_timestamp,block_number,block_hash\n",
      "\n"
     ]
    }
   ],
   "source": [
    "# token_address,from_address,to_address,value,transaction_hash,log_index,block_timestamp,block_number,block_hash\n",
    "# hash, nonce,transaction_index,from_address,to_address,value,\n",
    "# gas,gas_price,input,receipt_cumulative_gas_used,receipt_gas_used\n",
    "# ,receipt_contract_address,receipt_root,receipt_status,block_timestamp,block_number,block_hash\n",
    "G = nx.DiGraph()\n",
    "first = True\n",
    "a_id = dict()\n",
    "ind = 1\n",
    "max_w = 1\n",
    "max_ind = None\n",
    "with open(\"Datasets/Ethereum/eth-tran_000000000000\") as f: \n",
    "    val = f.readline()\n",
    "    print(val)\n",
    "    while len(val)!=0:        \n",
    "        val = f.readline()\n",
    "        if len(val)==0:\n",
    "            break\n",
    "        val = val.split(',')\n",
    "        from_adr = val[3]\n",
    "        to_adr = val[4]\n",
    "        value = val[5]\n",
    "        if int(value) == 0:\n",
    "            continue\n",
    "        if from_adr not in a_id:\n",
    "            a_id[from_adr] = ind\n",
    "            ind += 1\n",
    "        if to_adr not in a_id:\n",
    "            a_id[to_adr] = ind\n",
    "            ind += 1\n",
    "        if G.has_edge(a_id[from_adr], a_id[to_adr]):\n",
    "            G[a_id[from_adr]][a_id[to_adr]][\"weight\"] += 1\n",
    "            if G[a_id[from_adr]][a_id[to_adr]][\"weight\"] > max_w:\n",
    "                max_w = G[a_id[from_adr]][a_id[to_adr]][\"weight\"]\n",
    "                max_ind = (a_id[from_adr], a_id[to_adr])\n",
    "        else:\n",
    "            G.add_edge(a_id[from_adr], a_id[to_adr], weight=1) "
   ]
  },
  {
   "cell_type": "markdown",
   "metadata": {},
   "source": [
    "### Graph result"
   ]
  },
  {
   "cell_type": "code",
   "execution_count": 3,
   "metadata": {},
   "outputs": [
    {
     "name": "stdout",
     "output_type": "stream",
     "text": [
      "16495\n",
      "23053\n",
      "2498\n",
      "(8354, 6345)\n"
     ]
    },
    {
     "data": {
      "image/png": "[encoded data removed]",
      "text/plain": [
       "<Figure size 432x288 with 1 Axes>"
      ]
     },
     "metadata": {
      "needs_background": "light"
     },
     "output_type": "display_data"
    }
   ],
   "source": [
    "print(G.number_of_nodes())\n",
    "print(G.number_of_edges())\n",
    "print(max_w)\n",
    "print(max_ind)\n",
    "\n",
    "x = sorted([d for n, d in G.degree()], reverse=True)\n",
    "\n",
    "fig = plt.figure()\n",
    "ax = fig.add_subplot(111)\n",
    "n, bins, rectangles = ax.hist(x, 100, density=False)\n",
    "fig.canvas.draw()\n",
    "plt.show()"
   ]
  },
  {
   "cell_type": "markdown",
   "metadata": {},
   "source": [
    "### Cleaned graph"
   ]
  },
  {
   "cell_type": "code",
   "execution_count": 20,
   "metadata": {},
   "outputs": [
    {
     "data": {
      "text/plain": [
       "16495"
      ]
     },
     "execution_count": 20,
     "metadata": {},
     "output_type": "execute_result"
    }
   ],
   "source": [
    "G.number_of_nodes()"
   ]
  },
  {
   "cell_type": "code",
   "execution_count": 54,
   "metadata": {},
   "outputs": [
    {
     "data": {
      "text/plain": [
       "2"
      ]
     },
     "execution_count": 54,
     "metadata": {},
     "output_type": "execute_result"
    }
   ],
   "source": []
  },
  {
   "cell_type": "code",
   "execution_count": 19,
   "metadata": {},
   "outputs": [
    {
     "data": {
      "text/plain": [
       "23053"
      ]
     },
     "execution_count": 19,
     "metadata": {},
     "output_type": "execute_result"
    }
   ],
   "source": [
    "G.number_of_edges()"
   ]
  },
  {
   "cell_type": "code",
   "execution_count": 72,
   "metadata": {},
   "outputs": [],
   "source": [
    "# Choose nodes with top degree\n",
    "x = sorted([(d,n) for n, d in G.degree()], reverse=False)\n",
    "min_val = 3\n",
    "remove = []\n",
    "for v in x:\n",
    "    e = list(G.edges(nbunch=v[1]))\n",
    "    if len(e) > 1:\n",
    "        break\n",
    "    # ['weight']\n",
    "    if len(e) == 0:\n",
    "        w2 = list(G.in_edges(v[1], data=True))[0][2]['weight']\n",
    "        if w2 < min_val:\n",
    "            remove.append(v[1])\n",
    "        continue\n",
    "    data = G.get_edge_data(e[0][0], e[0][1])\n",
    "    if 'weight' not in data:\n",
    "        print(data)\n",
    "        print(v)\n",
    "    else:\n",
    "        w = data['weight']\n",
    "        if w < min_val:\n",
    "            remove.append(v[1])"
   ]
  },
  {
   "cell_type": "code",
   "execution_count": 73,
   "metadata": {},
   "outputs": [
    {
     "name": "stdout",
     "output_type": "stream",
     "text": [
      "Number of edges removed  8375\n"
     ]
    }
   ],
   "source": [
    "G1 = G.copy()\n",
    "print(\"Number of edges removed \", len(remove))\n",
    "G1.remove_nodes_from(remove)"
   ]
  },
  {
   "cell_type": "code",
   "execution_count": 78,
   "metadata": {},
   "outputs": [],
   "source": [
    "# Choose nodes with top degree\n",
    "x = sorted([(d,n) for n, d in G1.degree()], reverse=False)\n",
    "min_val = 3\n",
    "remove = []\n",
    "for v in x:\n",
    "    e = list(G1.edges(nbunch=v[1]))\n",
    "    if v[0] == 0:\n",
    "        remove.append(v[1])\n",
    "        continue\n",
    "    if len(e) > 1:\n",
    "        break\n",
    "    # ['weight']\n",
    "    if len(e) == 0:\n",
    "        w2 = list(G1.in_edges(v[1], data=True))[0][2]['weight']\n",
    "        if w2 < min_val:\n",
    "            remove.append(v[1])\n",
    "        continue\n",
    "    data = G1.get_edge_data(e[0][0], e[0][1])\n",
    "    if 'weight' not in data:\n",
    "        print(data)\n",
    "        print(v)\n",
    "    else:\n",
    "        w = data['weight']\n",
    "        if w < min_val:\n",
    "            remove.append(v[1])"
   ]
  },
  {
   "cell_type": "code",
   "execution_count": 82,
   "metadata": {},
   "outputs": [],
   "source": [
    "G1.remove_nodes_from(remove)"
   ]
  },
  {
   "cell_type": "code",
   "execution_count": 88,
   "metadata": {},
   "outputs": [
    {
     "data": {
      "text/plain": [
       "7732"
      ]
     },
     "execution_count": 88,
     "metadata": {},
     "output_type": "execute_result"
    }
   ],
   "source": [
    "G1.number_of_nodes()"
   ]
  },
  {
   "cell_type": "code",
   "execution_count": 90,
   "metadata": {},
   "outputs": [],
   "source": [
    "nx.write_gml(G1, \"Datasets/eth-graph.gml\")"
   ]
  },
  {
   "cell_type": "code",
   "execution_count": 89,
   "metadata": {},
   "outputs": [
    {
     "name": "stdout",
     "output_type": "stream",
     "text": [
      "7732\n",
      "14387\n"
     ]
    },
    {
     "data": {
      "image/png": "[encoded data removed]",
      "text/plain": [
       "<Figure size 432x288 with 1 Axes>"
      ]
     },
     "metadata": {
      "needs_background": "light"
     },
     "output_type": "display_data"
    }
   ],
   "source": [
    "print(G1.number_of_nodes())\n",
    "print(G1.number_of_edges())\n",
    "x = sorted([d for n, d in G1.degree()], reverse=True)\n",
    "\n",
    "fig = plt.figure()\n",
    "ax = fig.add_subplot(111)\n",
    "n, bins, rectangles = ax.hist(x, 100, density=False)\n",
    "fig.canvas.draw()\n",
    "plt.show()"
   ]
  },
  {
   "cell_type": "code",
   "execution_count": 14,
   "metadata": {},
   "outputs": [
    {
     "data": {
      "text/plain": [
       "3"
      ]
     },
     "execution_count": 14,
     "metadata": {},
     "output_type": "execute_result"
    }
   ],
   "source": []
  },
  {
   "cell_type": "markdown",
   "metadata": {},
   "source": [
    "### Number of interactions"
   ]
  },
  {
   "cell_type": "code",
   "execution_count": 18,
   "metadata": {},
   "outputs": [
    {
     "name": "stdout",
     "output_type": "stream",
     "text": [
      "328\n",
      "(6337, 2)\n",
      "1267\n",
      "1495\n"
     ]
    }
   ],
   "source": [
    "# Top interactions between the top-degree parties  \n",
    "max_weight = 0\n",
    "max_e = None\n",
    "\n",
    "for e in G1.edges():\n",
    "    if max_weight < G1.get_edge_data(e[0], e[1])['weight']:\n",
    "        max_weight = G1.get_edge_data(e[0], e[1])['weight']\n",
    "        max_e = e\n",
    "\n",
    "print(max_weight)\n",
    "print(max_e)\n",
    "print(G.degree(max_e[0]))\n",
    "print(G.degree(max_e[1]))\n",
    "    "
   ]
  },
  {
   "cell_type": "code",
   "execution_count": 17,
   "metadata": {},
   "outputs": [
    {
     "name": "stdout",
     "output_type": "stream",
     "text": [
      "2498\n",
      "(8354, 6345)\n",
      "136\n",
      "2\n"
     ]
    }
   ],
   "source": [
    "# Top interactions between the all parties \n",
    "max_weight = 0\n",
    "max_e = None\n",
    "\n",
    "for e in G.edges():\n",
    "    if max_weight < G.get_edge_data(e[0], e[1])['weight']:\n",
    "        max_weight = G.get_edge_data(e[0], e[1])['weight']\n",
    "        max_e = e\n",
    "\n",
    "print(max_weight)\n",
    "print(max_e)\n",
    "print(G.degree(max_e[0]))\n",
    "print(G.degree(max_e[1]))\n",
    "    "
   ]
  },
  {
   "cell_type": "code",
   "execution_count": null,
   "metadata": {},
   "outputs": [],
   "source": []
  }
 ],
 "metadata": {
  "kernelspec": {
   "display_name": "Python 3",
   "language": "python",
   "name": "python3"
  },
  "language_info": {
   "codemirror_mode": {
    "name": "ipython",
    "version": 3
   },
   "file_extension": ".py",
   "mimetype": "text/x-python",
   "name": "python",
   "nbconvert_exporter": "python",
   "pygments_lexer": "ipython3",
   "version": "3.7.2"
  }
 },
 "nbformat": 4,
 "nbformat_minor": 2
}
